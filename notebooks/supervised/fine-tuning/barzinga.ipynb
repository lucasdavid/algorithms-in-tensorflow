{
 "cells": [
  {
   "cell_type": "markdown",
   "metadata": {
    "colab_type": "text",
    "id": "99O9ukh3S6UR"
   },
   "source": [
    "# Barzinga"
   ]
  },
  {
   "cell_type": "code",
   "execution_count": null,
   "metadata": {
    "colab": {},
    "colab_type": "code",
    "id": "-FUeYA5SOILH"
   },
   "outputs": [],
   "source": [
    "SEED = 213018"
   ]
  },
  {
   "cell_type": "code",
   "execution_count": null,
   "metadata": {
    "cellView": "form",
    "colab": {
     "base_uri": "https://localhost:8080/",
     "height": 72
    },
    "colab_type": "code",
    "executionInfo": {
     "elapsed": 3026,
     "status": "ok",
     "timestamp": 1597938438236,
     "user": {
      "displayName": "Lucas",
      "photoUrl": "https://lh3.googleusercontent.com/a-/AOh14GgO-xqdSSwbB8xXos7Shqhpq7QJ06mYVUvdLDRcbQ=s64",
      "userId": "01670254553878112810"
     },
     "user_tz": 180
    },
    "id": "NKy65_S_4p0P",
    "outputId": "1b699b73-d42c-4fde-cb9d-d54049918039"
   },
   "outputs": [],
   "source": [
    "#@title\n",
    "\n",
    "import os\n",
    "import shutil\n",
    "from functools import reduce\n",
    "\n",
    "from math import ceil\n",
    "\n",
    "import numpy as np\n",
    "import pandas as pd\n",
    "import tensorflow as tf\n",
    "\n",
    "import matplotlib.pyplot as plt\n",
    "import seaborn as sns"
   ]
  },
  {
   "cell_type": "code",
   "execution_count": null,
   "metadata": {
    "cellView": "form",
    "colab": {},
    "colab_type": "code",
    "id": "cKOlw3EVGvcv"
   },
   "outputs": [],
   "source": [
    "#@title\n",
    "\n",
    "sns.set(palette=sns.color_palette(\"hls\", 8))\n",
    "pd.set_option('display.max_columns', None)\n",
    "pd.set_option('display.max_colwidth', None)\n",
    "\n",
    "from IPython.display import display_html\n",
    "def display_side_by_side(*args):\n",
    "    html_str=''\n",
    "    for df in args:\n",
    "        html_str+=df.to_html()\n",
    "    display_html(html_str.replace('table','table style=\"display:inline\"'),raw=True)"
   ]
  },
  {
   "cell_type": "markdown",
   "metadata": {
    "colab_type": "text",
    "id": "c7AfUTAfKGWh"
   },
   "source": [
    "## Collecting Data"
   ]
  },
  {
   "cell_type": "code",
   "execution_count": null,
   "metadata": {
    "colab": {},
    "colab_type": "code",
    "id": "EDU2wwT94p0g"
   },
   "outputs": [],
   "source": [
    "DATASET_ZIP = '/content/drive/My Drive/Colab Notebooks/ml-notes/datasets/barzinga.zip'\n",
    "DATASET = './ds/barzinga/images/barzinga'\n",
    "LOGGING = '/content/drive/My Drive/Colab Notebooks/ml-notes/logs/barzinga'\n",
    "\n",
    "BATCH_SIZE = 32\n",
    "IMAGE_SIZE = (224, 224)\n",
    "INPUT_SHAPE = IMAGE_SIZE + (3,)\n",
    "\n",
    "VALIDATION_SPLIT = 0.3"
   ]
  },
  {
   "cell_type": "code",
   "execution_count": null,
   "metadata": {
    "colab": {},
    "colab_type": "code",
    "id": "-llQQgGuE5U3"
   },
   "outputs": [],
   "source": [
    "import zipfile\n",
    "\n",
    "with zipfile.ZipFile(DATASET_ZIP) as z:\n",
    "    z.extractall('./ds/')"
   ]
  },
  {
   "cell_type": "code",
   "execution_count": null,
   "metadata": {
    "colab": {
     "base_uri": "https://localhost:8080/",
     "height": 86
    },
    "colab_type": "code",
    "executionInfo": {
     "elapsed": 16229,
     "status": "ok",
     "timestamp": 1597938451457,
     "user": {
      "displayName": "Lucas",
      "photoUrl": "https://lh3.googleusercontent.com/a-/AOh14GgO-xqdSSwbB8xXos7Shqhpq7QJ06mYVUvdLDRcbQ=s64",
      "userId": "01670254553878112810"
     },
     "user_tz": 180
    },
    "id": "v8agH_YPMV7Z",
    "outputId": "851edd5b-6c37-4f98-f419-128a53e9fc2d"
   },
   "outputs": [],
   "source": [
    "x = tf.keras.preprocessing.image_dataset_from_directory(DATASET,\n",
    "                                                        batch_size=BATCH_SIZE,\n",
    "                                                        image_size=IMAGE_SIZE,\n",
    "                                                        validation_split=0.3,\n",
    "                                                        subset='training',\n",
    "                                                        shuffle=True,\n",
    "                                                        seed=SEED)\n",
    "\n",
    "v = tf.keras.preprocessing.image_dataset_from_directory(DATASET,\n",
    "                                                        batch_size=BATCH_SIZE,\n",
    "                                                        image_size=IMAGE_SIZE,\n",
    "                                                        validation_split=0.3,\n",
    "                                                        subset='validation',\n",
    "                                                        shuffle=True,\n",
    "                                                        seed=SEED)\n",
    "\n",
    "class_names = x.class_names"
   ]
  },
  {
   "cell_type": "code",
   "execution_count": null,
   "metadata": {
    "cellView": "form",
    "colab": {
     "base_uri": "https://localhost:8080/",
     "height": 869
    },
    "colab_type": "code",
    "executionInfo": {
     "elapsed": 24518,
     "status": "ok",
     "timestamp": 1597938459756,
     "user": {
      "displayName": "Lucas",
      "photoUrl": "https://lh3.googleusercontent.com/a-/AOh14GgO-xqdSSwbB8xXos7Shqhpq7QJ06mYVUvdLDRcbQ=s64",
      "userId": "01670254553878112810"
     },
     "user_tz": 180
    },
    "id": "hmwOPpuuO9ps",
    "outputId": "8272ce5c-58ee-4210-a7f0-06ed081b76ad"
   },
   "outputs": [],
   "source": [
    "#@title\n",
    "\n",
    "plt.figure(figsize=(12, 12))\n",
    "\n",
    "for images, labels in x.take(1):\n",
    "    for i, image in enumerate(images):\n",
    "        plt.subplot(ceil(len(images) / 6), 6, i + 1)\n",
    "        plt.imshow(image.numpy().astype(\"uint8\"))\n",
    "        plt.axis(\"off\")\n",
    "plt.tight_layout()"
   ]
  },
  {
   "cell_type": "markdown",
   "metadata": {
    "colab_type": "text",
    "id": "laHE8cGRYsuq"
   },
   "source": [
    "## Augumentation Policy"
   ]
  },
  {
   "cell_type": "code",
   "execution_count": null,
   "metadata": {
    "colab": {},
    "colab_type": "code",
    "id": "_OC6XIdiRmRz"
   },
   "outputs": [],
   "source": [
    "data_augmentation = tf.keras.Sequential(\n",
    "    name='augmentation',\n",
    "    layers=[\n",
    "        tf.keras.layers.experimental.preprocessing.RandomFlip('horizontal_and_vertical'),\n",
    "        tf.keras.layers.experimental.preprocessing.RandomTranslation(.1, .1),\n",
    "        tf.keras.layers.experimental.preprocessing.RandomRotation(1.),\n",
    "        tf.keras.layers.experimental.preprocessing.RandomZoom(.1),\n",
    "        tf.keras.layers.experimental.preprocessing.RandomContrast(.25),\n",
    "    ])"
   ]
  },
  {
   "cell_type": "code",
   "execution_count": null,
   "metadata": {
    "cellView": "both",
    "colab": {
     "base_uri": "https://localhost:8080/",
     "height": 869
    },
    "colab_type": "code",
    "executionInfo": {
     "elapsed": 31576,
     "status": "ok",
     "timestamp": 1597938466830,
     "user": {
      "displayName": "Lucas",
      "photoUrl": "https://lh3.googleusercontent.com/a-/AOh14GgO-xqdSSwbB8xXos7Shqhpq7QJ06mYVUvdLDRcbQ=s64",
      "userId": "01670254553878112810"
     },
     "user_tz": 180
    },
    "id": "7U4fu-L2SBQY",
    "outputId": "cce9d966-0efe-40a0-d664-f8fc8ebc2bf2"
   },
   "outputs": [],
   "source": [
    "#@title\n",
    "\n",
    "from math import ceil\n",
    "\n",
    "plt.figure(figsize=(12, 12))\n",
    "\n",
    "for images, labels in x.take(1):\n",
    "    images = data_augmentation(images).numpy()\n",
    "\n",
    "    for i, image in enumerate(images):\n",
    "        plt.subplot(ceil(len(images) / 6), 6, i + 1)\n",
    "        plt.imshow(image.clip(0, 255).astype(\"uint8\"))\n",
    "        plt.axis(\"off\")\n",
    "\n",
    "plt.tight_layout()"
   ]
  },
  {
   "cell_type": "code",
   "execution_count": null,
   "metadata": {
    "colab": {},
    "colab_type": "code",
    "id": "PFn8WpYNO0Rh"
   },
   "outputs": [],
   "source": [
    "AUTOTUNE = tf.data.experimental.AUTOTUNE\n",
    "\n",
    "xc = x.cache().prefetch(buffer_size=AUTOTUNE)\n",
    "vc = v.cache().prefetch(buffer_size=AUTOTUNE)"
   ]
  },
  {
   "cell_type": "markdown",
   "metadata": {
    "colab_type": "text",
    "id": "YUasFpjnQPDL"
   },
   "source": [
    "## Defining Model"
   ]
  },
  {
   "cell_type": "code",
   "execution_count": null,
   "metadata": {
    "colab": {
     "base_uri": "https://localhost:8080/",
     "height": 52
    },
    "colab_type": "code",
    "executionInfo": {
     "elapsed": 30928,
     "status": "ok",
     "timestamp": 1597880866497,
     "user": {
      "displayName": "Lucas",
      "photoUrl": "https://lh3.googleusercontent.com/a-/AOh14GgO-xqdSSwbB8xXos7Shqhpq7QJ06mYVUvdLDRcbQ=s64",
      "userId": "01670254553878112810"
     },
     "user_tz": 180
    },
    "id": "y9_5EDEXQRXe",
    "outputId": "c1a3e66c-ecea-44a2-e0d3-105396dc151d"
   },
   "outputs": [],
   "source": [
    "mnetv2 = tf.keras.applications.MobileNetV2(weights='imagenet',\n",
    "                                           include_top=False,\n",
    "                                           input_shape=IMAGE_SIZE + (3,))\n",
    "\n",
    "mnetv2.trainable = False"
   ]
  },
  {
   "cell_type": "code",
   "execution_count": null,
   "metadata": {
    "colab": {
     "base_uri": "https://localhost:8080/",
     "height": 82
    },
    "colab_type": "code",
    "executionInfo": {
     "elapsed": 31873,
     "status": "ok",
     "timestamp": 1597880867452,
     "user": {
      "displayName": "Lucas",
      "photoUrl": "https://lh3.googleusercontent.com/a-/AOh14GgO-xqdSSwbB8xXos7Shqhpq7QJ06mYVUvdLDRcbQ=s64",
      "userId": "01670254553878112810"
     },
     "user_tz": 180
    },
    "id": "e4Xl2n3hedx5",
    "outputId": "46eabdf4-5e81-4463-f4dc-1ccb75e57770"
   },
   "outputs": [],
   "source": [
    "from tensorflow.keras.layers import (GlobalAveragePooling2D,\n",
    "                                     Dense)\n",
    "\n",
    "def build_model(augmentation,\n",
    "                preprocessing_fn,\n",
    "                base_model,\n",
    "                classes=10):\n",
    "    x = tf.keras.Input(shape=INPUT_SHAPE, name='images')\n",
    "    \n",
    "    y = augmentation(x) if augmentation else x\n",
    "    y = preprocessing_fn(y)\n",
    "    y = base_model(y, training=False)\n",
    "\n",
    "    y = GlobalAveragePooling2D(name='avg')(y)\n",
    "    y = Dense(classes, name='predictions')(y)\n",
    "\n",
    "    return tf.keras.Model(x, y)\n",
    "\n",
    "barzinga = build_model(\n",
    "    data_augmentation,\n",
    "    tf.keras.applications.mobilenet_v2.preprocess_input,\n",
    "    mnetv2,\n",
    "    len(class_names)\n",
    ")\n",
    "\n",
    "tf.keras.utils.plot_model(barzinga, show_shapes=True, rankdir='LR')"
   ]
  },
  {
   "cell_type": "markdown",
   "metadata": {
    "colab_type": "text",
    "id": "2o7gnlfZf0fH"
   },
   "source": [
    "## Training"
   ]
  },
  {
   "cell_type": "code",
   "execution_count": null,
   "metadata": {
    "colab": {},
    "colab_type": "code",
    "id": "5yqiNlCW0_HE"
   },
   "outputs": [],
   "source": [
    "TRAINING = False\n",
    "\n",
    "TRAINING_LOG = LOGGING + '/mnetv2'\n",
    "TRAINING_WEIGHTS = TRAINING_LOG + '/weights.h5'\n",
    "\n",
    "EPOCHS = 100\n",
    "EPOCHS_FINE_TUNING = 100"
   ]
  },
  {
   "cell_type": "code",
   "execution_count": null,
   "metadata": {
    "colab": {
     "base_uri": "https://localhost:8080/",
     "height": 1000
    },
    "colab_type": "code",
    "executionInfo": {
     "elapsed": 965140,
     "status": "ok",
     "timestamp": 1597881800731,
     "user": {
      "displayName": "Lucas",
      "photoUrl": "https://lh3.googleusercontent.com/a-/AOh14GgO-xqdSSwbB8xXos7Shqhpq7QJ06mYVUvdLDRcbQ=s64",
      "userId": "01670254553878112810"
     },
     "user_tz": 180
    },
    "id": "dpoJfwI_f1le",
    "outputId": "bc7a97f7-2486-43ec-8f48-a4754a150934"
   },
   "outputs": [],
   "source": [
    "if TRAINING:\n",
    "    shutil.rmtree(TRAINING_LOG, ignore_errors=True)\n",
    "\n",
    "    barzinga.compile(\n",
    "        optimizer=tf.keras.optimizers.Adam(),\n",
    "        loss=tf.keras.losses.SparseCategoricalCrossentropy(from_logits=True),\n",
    "        metrics=[tf.keras.metrics.SparseCategoricalAccuracy(),\n",
    "                tf.keras.metrics.SparseTopKCategoricalAccuracy()])\n",
    "\n",
    "    barzinga.fit(\n",
    "        xc,\n",
    "        epochs=EPOCHS,\n",
    "        validation_data=vc,\n",
    "        callbacks=[\n",
    "            tf.keras.callbacks.TerminateOnNaN(),\n",
    "            tf.keras.callbacks.ReduceLROnPlateau(factor=0.5, patience=10, verbose=1),\n",
    "            tf.keras.callbacks.EarlyStopping(patience=30, verbose=1),\n",
    "            tf.keras.callbacks.ModelCheckpoint(\n",
    "                TRAINING_WEIGHTS,\n",
    "                save_best_only=True,\n",
    "                verbose=1),\n",
    "            tf.keras.callbacks.TensorBoard(\n",
    "                TRAINING_LOG + '/base',\n",
    "                histogram_freq=1,\n",
    "                write_images=True)\n",
    "        ]);"
   ]
  },
  {
   "cell_type": "markdown",
   "metadata": {
    "colab_type": "text",
    "id": "r6J9UQ9wkNV0"
   },
   "source": [
    "### Fine-tuning"
   ]
  },
  {
   "cell_type": "code",
   "execution_count": null,
   "metadata": {
    "colab": {
     "base_uri": "https://localhost:8080/",
     "height": 1000
    },
    "colab_type": "code",
    "executionInfo": {
     "elapsed": 2530794,
     "status": "ok",
     "timestamp": 1597883366389,
     "user": {
      "displayName": "Lucas",
      "photoUrl": "https://lh3.googleusercontent.com/a-/AOh14GgO-xqdSSwbB8xXos7Shqhpq7QJ06mYVUvdLDRcbQ=s64",
      "userId": "01670254553878112810"
     },
     "user_tz": 180
    },
    "id": "HDBs7IPSl4eq",
    "outputId": "e1cca4e2-99a5-4893-9b41-3998051b7b56"
   },
   "outputs": [],
   "source": [
    "mnetv2.trainable = True\n",
    "\n",
    "if TRAINING:\n",
    "    initial_epoch = len(barzinga.history.epoch)\n",
    "\n",
    "    barzinga.compile(\n",
    "        optimizer=tf.keras.optimizers.Adam(1e-5),\n",
    "        loss=tf.keras.losses.SparseCategoricalCrossentropy(from_logits=True),\n",
    "        metrics=[tf.keras.metrics.SparseCategoricalAccuracy(),\n",
    "                tf.keras.metrics.SparseTopKCategoricalAccuracy()])\n",
    "\n",
    "    barzinga.fit(\n",
    "        xc,\n",
    "        epochs=EPOCHS_FINE_TUNING + initial_epoch,\n",
    "        validation_data=vc,\n",
    "        initial_epoch=initial_epoch,\n",
    "        callbacks=[\n",
    "            tf.keras.callbacks.TerminateOnNaN(),\n",
    "            tf.keras.callbacks.ReduceLROnPlateau(factor=0.5, patience=3, verbose=1),\n",
    "            tf.keras.callbacks.EarlyStopping(patience=10, verbose=1),\n",
    "            tf.keras.callbacks.ModelCheckpoint(\n",
    "                TRAINING_WEIGHTS,\n",
    "                save_best_only=True,\n",
    "                verbose=1),\n",
    "            tf.keras.callbacks.TensorBoard(\n",
    "                TRAINING_LOG + '/finetuning',\n",
    "                histogram_freq=1,\n",
    "                write_images=True)\n",
    "        ]);"
   ]
  },
  {
   "cell_type": "markdown",
   "metadata": {
    "colab_type": "text",
    "id": "CfAixSWY0Jmp"
   },
   "source": [
    "## Testing"
   ]
  },
  {
   "cell_type": "code",
   "execution_count": null,
   "metadata": {
    "colab": {},
    "colab_type": "code",
    "id": "rwEU-Wm50KlG"
   },
   "outputs": [],
   "source": [
    "barzinga.load_weights(TRAINING_WEIGHTS)"
   ]
  },
  {
   "cell_type": "code",
   "execution_count": null,
   "metadata": {
    "colab": {
     "base_uri": "https://localhost:8080/",
     "height": 34
    },
    "colab_type": "code",
    "executionInfo": {
     "elapsed": 2544693,
     "status": "ok",
     "timestamp": 1597883380293,
     "user": {
      "displayName": "Lucas",
      "photoUrl": "https://lh3.googleusercontent.com/a-/AOh14GgO-xqdSSwbB8xXos7Shqhpq7QJ06mYVUvdLDRcbQ=s64",
      "userId": "01670254553878112810"
     },
     "user_tz": 180
    },
    "id": "5qbucPgmqHTo",
    "outputId": "fa5b1295-1d87-4c4d-ba18-db5f84e5dac6"
   },
   "outputs": [],
   "source": [
    "v = tf.keras.preprocessing.image_dataset_from_directory(DATASET,\n",
    "                                                        batch_size=BATCH_SIZE,\n",
    "                                                        image_size=IMAGE_SIZE,\n",
    "                                                        # validation_split=0.3,\n",
    "                                                        # subset='validation',\n",
    "                                                        shuffle=False,\n",
    "                                                        seed=SEED)\n",
    "\n",
    "class_names = v.class_names"
   ]
  },
  {
   "cell_type": "code",
   "execution_count": null,
   "metadata": {
    "colab": {},
    "colab_type": "code",
    "id": "BNk0oTor-P4Z"
   },
   "outputs": [],
   "source": [
    "y = []\n",
    "p = []\n",
    "\n",
    "for images, labels in v:\n",
    "    y.append(labels)\n",
    "    p.append(barzinga.predict_on_batch(images))\n",
    "\n",
    "y = np.concatenate(y)\n",
    "p = np.concatenate(p)"
   ]
  },
  {
   "cell_type": "code",
   "execution_count": null,
   "metadata": {
    "colab": {},
    "colab_type": "code",
    "id": "R2UEJJL0CUaO"
   },
   "outputs": [],
   "source": [
    "class_names = np.asarray(class_names)\n",
    "\n",
    "ps = tf.nn.softmax(p, axis=1).numpy()\n",
    "l = np.argmax(ps, axis=1)\n",
    "\n",
    "predictions = class_names[l]\n",
    "true_labels = class_names[y]"
   ]
  },
  {
   "cell_type": "markdown",
   "metadata": {
    "colab_type": "text",
    "id": "futHo4RBFsbc"
   },
   "source": [
    "### Fine-grained Classification Report"
   ]
  },
  {
   "cell_type": "code",
   "execution_count": null,
   "metadata": {
    "colab": {
     "base_uri": "https://localhost:8080/",
     "height": 1000
    },
    "colab_type": "code",
    "executionInfo": {
     "elapsed": 2584640,
     "status": "ok",
     "timestamp": 1597883420252,
     "user": {
      "displayName": "Lucas",
      "photoUrl": "https://lh3.googleusercontent.com/a-/AOh14GgO-xqdSSwbB8xXos7Shqhpq7QJ06mYVUvdLDRcbQ=s64",
      "userId": "01670254553878112810"
     },
     "user_tz": 180
    },
    "id": "SdEFw9ZSCzrA",
    "outputId": "b462ba0b-8f2c-4773-a40d-4448ce58dd51"
   },
   "outputs": [],
   "source": [
    "from sklearn import metrics\n",
    "\n",
    "print(metrics.classification_report(true_labels, predictions, labels=class_names))"
   ]
  },
  {
   "cell_type": "code",
   "execution_count": null,
   "metadata": {
    "cellView": "both",
    "colab": {
     "base_uri": "https://localhost:8080/",
     "height": 942
    },
    "colab_type": "code",
    "executionInfo": {
     "elapsed": 2590424,
     "status": "ok",
     "timestamp": 1597883426038,
     "user": {
      "displayName": "Lucas",
      "photoUrl": "https://lh3.googleusercontent.com/a-/AOh14GgO-xqdSSwbB8xXos7Shqhpq7QJ06mYVUvdLDRcbQ=s64",
      "userId": "01670254553878112810"
     },
     "user_tz": 180
    },
    "id": "FL1FBGuPDUkB",
    "outputId": "be32fc3c-118f-4d3f-90ff-e4c887e164cd"
   },
   "outputs": [],
   "source": [
    "#@title\n",
    "\n",
    "def confusion_matrix(y, p, labels):\n",
    "    c = metrics.confusion_matrix(y, p, labels)\n",
    "    r = c / (c.sum(axis=1, keepdims=True) + 1e-7)\n",
    "\n",
    "    by_coherence = np.argsort(np.diag(r))[::-1]\n",
    "\n",
    "    plt.figure(figsize=(16, 12))\n",
    "    ax = sns.heatmap(r[:, by_coherence][by_coherence],\n",
    "                     linewidths=.5, cmap='RdPu', cbar=False,\n",
    "                     # annot=True, fmt='.0%',\n",
    "                     xticklabels=labels[by_coherence],\n",
    "                     yticklabels=labels[by_coherence])\n",
    "    \n",
    "confusion_matrix(true_labels, predictions, class_names)"
   ]
  },
  {
   "cell_type": "code",
   "execution_count": null,
   "metadata": {
    "colab": {},
    "colab_type": "code",
    "id": "ZuBbwzYmHbFF"
   },
   "outputs": [],
   "source": [
    "top_k = tf.nn.top_k(ps, k=5)"
   ]
  },
  {
   "cell_type": "code",
   "execution_count": null,
   "metadata": {
    "colab": {
     "base_uri": "https://localhost:8080/",
     "height": 52
    },
    "colab_type": "code",
    "executionInfo": {
     "elapsed": 2590421,
     "status": "ok",
     "timestamp": 1597883426041,
     "user": {
      "displayName": "Lucas",
      "photoUrl": "https://lh3.googleusercontent.com/a-/AOh14GgO-xqdSSwbB8xXos7Shqhpq7QJ06mYVUvdLDRcbQ=s64",
      "userId": "01670254553878112810"
     },
     "user_tz": 180
    },
    "id": "KrFoX8T8Hx4k",
    "outputId": "5559f2d3-70d0-4c52-8424-5ffb831c9e40"
   },
   "outputs": [],
   "source": [
    "top_k_tp = (top_k[1].numpy() == y.reshape(-1, 1)).astype(int)\n",
    "\n",
    "print('top-5 accuracy:', top_k_tp.max(axis=1).mean().round(3))\n",
    "print('top-5 confidence:', (top_k[0].numpy() * top_k_tp).max(axis=1).mean().round(3))"
   ]
  },
  {
   "cell_type": "markdown",
   "metadata": {
    "colab_type": "text",
    "id": "8bYrkK8xFwnN"
   },
   "source": [
    "### Group Classification Report"
   ]
  },
  {
   "cell_type": "code",
   "execution_count": null,
   "metadata": {
    "cellView": "both",
    "colab": {},
    "colab_type": "code",
    "id": "zbME6jk-Kp88"
   },
   "outputs": [],
   "source": [
    "#@title\n",
    "\n",
    "LABEL_GROUP = {\n",
    "    'agtal-castanha': 'agtal',\n",
    "    'amstel-larger': 'lata',\n",
    "    'ana-maria-banana-chocolate': 'ana-maria',\n",
    "    'ana-maria-coberta': 'ana-maria',\n",
    "    'ana-maria-duplo-chocolate': 'ana-maria',\n",
    "    'batatas-doces': 'batatas-doce',\n",
    "    'batom': 'batom',\n",
    "    'batom-branco': 'batom',\n",
    "    'bauducco-duo': 'bauducco',\n",
    "    'belvita': 'belvita',\n",
    "    'capsula-0': 'capsula',\n",
    "    'capsula-1': 'capsula',\n",
    "    'capsula-2': 'capsula',\n",
    "    'capsula-3': 'capsula',\n",
    "    'capsula-4': 'capsula',\n",
    "    'charge': 'charge',\n",
    "    'cheetos': 'cheetos',\n",
    "    'cheetos-assado': 'cheetos',\n",
    "    'chikito': 'chikito',\n",
    "    'club-social-integral': 'club-social',\n",
    "    'club-social-original': 'club-social',\n",
    "    'coca-plus-cafe': 'coca',\n",
    "    'coca-zero': 'coca',\n",
    "    'diamante-negro': 'diamante-negro',\n",
    "    'eisenbahn-pilsen': 'lata',\n",
    "    'eucalipto': 'eucalipto',\n",
    "    'fanta': 'lata',\n",
    "    'fanta-laranja': 'lata',\n",
    "    'feel-good-cha-branco': 'feel-good',\n",
    "    'feel-good-cha-branco-lichia': 'feel-good',\n",
    "    'feel-good-cha-verde': 'feel-good',\n",
    "    'feel-good-cha-verde-laranja': 'feel-good',\n",
    "    'fini-tubes-m': 'fini',\n",
    "    'fini-tubes-r': 'fini',\n",
    "    'fini-tubes-uva': 'fini',\n",
    "    'fini-tubes-v': 'fini',\n",
    "    'flermel-goiabada': 'flermel',\n",
    "    'flermel-pe-de-moleque': 'flermel',\n",
    "    'flormel-abobora-coco': 'flermel',\n",
    "    'flormel-chips-coco': 'flermel',\n",
    "    'flormel-chips-coco-gengibre': 'flermel',\n",
    "    'flormel-cocada': 'flermel',\n",
    "    'flormel-crispy-grao-bico-ervas': 'flermel',\n",
    "    'flormel-crispy-grao-bico-tomate-oregano': 'flermel',\n",
    "    'flormel-doce-leite-coco': 'flermel',\n",
    "    'flormel-doce-leite-nozes': 'flermel',\n",
    "    'foda-se-o-que-e-isso': 'foda-se-o-que-e-isso',\n",
    "    'formel-coco-abacaxi': 'flermel',\n",
    "    'formel-doce-leite': 'flermel',\n",
    "    'fruit-tella': 'fruit-tella',\n",
    "    'gengibrinha': 'gengibrinha',\n",
    "    'gengibrinha-aaaaaaaaaa': 'gengibrinha',\n",
    "    'gengibrinha-hortela': 'gengibrinha',\n",
    "    'gengibrinha-outra-sei-la': 'gengibrinha',\n",
    "    'halls': 'halls',\n",
    "    'heinken': 'lata',\n",
    "    'ice-tea-leao': 'ice-tea',\n",
    "    'kitkat': 'kitkat',\n",
    "    'kitkat-white': 'kitkat',\n",
    "    'laka-ao-leite': 'laka',\n",
    "    'laka-branco': 'laka',\n",
    "    'laka-oreo': 'laka',\n",
    "    'lollo': 'lollo',\n",
    "    'mandioquinha-chips': 'mandioquinha',\n",
    "    'mems': 'mems',\n",
    "    'mentos-rosa': 'mentos',\n",
    "    'mix-batata-doces': 'mixed',\n",
    "    'mixed-nuts-mel': 'mixed',\n",
    "    'nativo': 'nativo',\n",
    "    'nutry-aveia': 'nutry',\n",
    "    'nutry-banana': 'nutry',\n",
    "    'nutry-morango-chocolate': 'nutry',\n",
    "    'remix-berry': 'remix',\n",
    "    'remix-cacau': 'remix',\n",
    "    'remix-frutas': 'remix',\n",
    "    'schewpesepespespepses': 'lata',\n",
    "    'sprite': 'lata',\n",
    "    'talento': 'talento',\n",
    "    'talento-branco': 'talento',\n",
    "    'talento-castanhas-do-para': 'talento',\n",
    "    'talento-diet': 'talento',\n",
    "    'tictac': 'tictac',\n",
    "    'toddy': 'toddy',\n",
    "    'torcida-bacon': 'torcida',\n",
    "    'torcida-pizza': 'tictac',\n",
    "    'tribos': 'tribos',\n",
    "    'um-doce-estranho-que-parece-uma-lombada': 'um-doce-estranho-que-parece-uma-lombada',\n",
    "    'valle-goiaba': 'valle',\n",
    "    'valle-manga': 'valle',\n",
    "    'valle-pessego-maca': 'valle',\n",
    "    'yoki-natural': 'yoki-natural',\n",
    "}"
   ]
  },
  {
   "cell_type": "code",
   "execution_count": null,
   "metadata": {
    "colab": {},
    "colab_type": "code",
    "id": "uOgZOOdAGSxT"
   },
   "outputs": [],
   "source": [
    "group_names = np.asarray(sorted(set(LABEL_GROUP.values())))\n",
    "true_groups = [LABEL_GROUP[l] for l in true_labels]\n",
    "predicted_groups = [LABEL_GROUP[l] for l in predictions]"
   ]
  },
  {
   "cell_type": "code",
   "execution_count": null,
   "metadata": {
    "colab": {
     "base_uri": "https://localhost:8080/",
     "height": 851
    },
    "colab_type": "code",
    "executionInfo": {
     "elapsed": 2590419,
     "status": "ok",
     "timestamp": 1597883426047,
     "user": {
      "displayName": "Lucas",
      "photoUrl": "https://lh3.googleusercontent.com/a-/AOh14GgO-xqdSSwbB8xXos7Shqhpq7QJ06mYVUvdLDRcbQ=s64",
      "userId": "01670254553878112810"
     },
     "user_tz": 180
    },
    "id": "bpliIUy0GwCA",
    "outputId": "40c5987c-05a6-4828-cc67-0281d7aef461"
   },
   "outputs": [],
   "source": [
    "print(metrics.classification_report(true_groups, predicted_groups))"
   ]
  },
  {
   "cell_type": "code",
   "execution_count": null,
   "metadata": {
    "colab": {
     "base_uri": "https://localhost:8080/",
     "height": 942
    },
    "colab_type": "code",
    "executionInfo": {
     "elapsed": 2591010,
     "status": "ok",
     "timestamp": 1597883426640,
     "user": {
      "displayName": "Lucas",
      "photoUrl": "https://lh3.googleusercontent.com/a-/AOh14GgO-xqdSSwbB8xXos7Shqhpq7QJ06mYVUvdLDRcbQ=s64",
      "userId": "01670254553878112810"
     },
     "user_tz": 180
    },
    "id": "hE5az-sLMejz",
    "outputId": "a0906dfe-8e55-4287-f41b-fbc8b59d17a4"
   },
   "outputs": [],
   "source": [
    "confusion_matrix(true_groups, predicted_groups, group_names)"
   ]
  },
  {
   "cell_type": "markdown",
   "metadata": {
    "colab_type": "text",
    "id": "XJIbMoCA0dq5"
   },
   "source": [
    "## Visualizing Activations"
   ]
  },
  {
   "cell_type": "code",
   "execution_count": null,
   "metadata": {
    "colab": {},
    "colab_type": "code",
    "id": "lRHKMUPR0gDY"
   },
   "outputs": [],
   "source": [
    "@tf.function\n",
    "def smooth_gradients(model, images, indices, num_samples=5, noise=1.):\n",
    "    x = tf.repeat(images, num_samples, axis=0)\n",
    "    x += tf.random.normal(x.shape, mean=0, stddev=noise)\n",
    "    \n",
    "    y = tf.repeat(indices, num_samples)\n",
    "\n",
    "    with tf.GradientTape() as tape:\n",
    "        tape.watch(x)\n",
    "        logits = model(x)\n",
    "        loss_ = tf.nn.sparse_softmax_cross_entropy_with_logits(y, logits)\n",
    "\n",
    "    gs = tape.gradient(loss_, x)\n",
    "    gs = tf.reshape(gs, (-1, num_samples, *gs.shape[1:]))\n",
    "    \n",
    "    return tf.reduce_mean(gs, axis=1)\n",
    "\n",
    "@tf.function\n",
    "def as_gray_mask(gs,\n",
    "                 modify_gradients_pre=tf.abs):\n",
    "    gs = modify_gradients_pre(gs) if modify_gradients_pre else gs\n",
    "    gs = tf.reduce_mean(gs, axis=-1)\n",
    "\n",
    "    return gs"
   ]
  },
  {
   "cell_type": "code",
   "execution_count": null,
   "metadata": {
    "colab": {},
    "colab_type": "code",
    "id": "W_YxpBYa-UPX"
   },
   "outputs": [],
   "source": [
    "preprocessing_fn = tf.keras.applications.mobilenet_v2.preprocess_input\n",
    "raw_input_model = tf.keras.Sequential(barzinga.layers[4:])"
   ]
  },
  {
   "cell_type": "code",
   "execution_count": null,
   "metadata": {
    "colab": {},
    "colab_type": "code",
    "id": "R789Mc5G0phs"
   },
   "outputs": [],
   "source": [
    "for images, labels in xc:\n",
    "    x = preprocessing_fn(images)\n",
    "    gradients = smooth_gradients(raw_input_model, images, labels)\n",
    "    masks = as_gray_mask(gradients)\n",
    "    masks = tf.image.per_image_standardization(masks)\n",
    "\n",
    "    break"
   ]
  },
  {
   "cell_type": "code",
   "execution_count": null,
   "metadata": {
    "colab": {
     "base_uri": "https://localhost:8080/",
     "height": 1000,
     "output_embedded_package_id": "1qaaSn0NJY1KWqVBcUWsMUfwWB44lf8fd"
    },
    "colab_type": "code",
    "executionInfo": {
     "elapsed": 2607453,
     "status": "ok",
     "timestamp": 1597883443094,
     "user": {
      "displayName": "Lucas",
      "photoUrl": "https://lh3.googleusercontent.com/a-/AOh14GgO-xqdSSwbB8xXos7Shqhpq7QJ06mYVUvdLDRcbQ=s64",
      "userId": "01670254553878112810"
     },
     "user_tz": 180
    },
    "id": "wFnNXx18-C6V",
    "outputId": "f2641e3a-cfe0-4b06-cdfd-8c25be16f771"
   },
   "outputs": [],
   "source": [
    "plt.figure(figsize=(16, 16))\n",
    "\n",
    "for idx, (i, m) in enumerate(zip(images.numpy(), masks.numpy())):\n",
    "    plt.subplot(8, 8, 2*idx+1)\n",
    "    plt.imshow(i.astype(np.uint8))\n",
    "    plt.axis('off')\n",
    "    \n",
    "    plt.subplot(8, 8, 2*idx+2)\n",
    "    plt.imshow(m)\n",
    "    plt.axis('off')\n",
    "\n",
    "plt.tight_layout()"
   ]
  }
 ],
 "metadata": {
  "jupytext": {
   "main_language": "python"
  },
  "kernelspec": {
   "display_name": "Python 3",
   "name": "python3"
  }
 },
 "nbformat": 4,
 "nbformat_minor": 2
}
