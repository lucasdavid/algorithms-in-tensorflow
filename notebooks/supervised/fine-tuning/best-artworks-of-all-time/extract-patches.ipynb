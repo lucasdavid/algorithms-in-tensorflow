{
 "cells": [
  {
   "cell_type": "markdown",
   "metadata": {
    "colab_type": "text",
    "id": "oW6MoHmLAjVG"
   },
   "source": [
    "# Extract patches"
   ]
  },
  {
   "cell_type": "code",
   "execution_count": null,
   "metadata": {},
   "outputs": [],
   "source": [
    "from time import time\n",
    "import tensorflow as tf\n",
    "\n",
    "class RC:\n",
    "    AUTOTUNE = tf.data.experimental.AUTOTUNE\n",
    "    overwrite = True\n",
    "    seed = 21392\n",
    "\n",
    "class DC:\n",
    "    path = '/tf/datasets/best-artworks-of-all-time'\n",
    "    images = path + '/images/images'\n",
    "    patches = path + '/images/patches'\n",
    "    info = path + '/artists.csv'\n",
    "\n",
    "    image_size = (299, 299)\n",
    "    patch_strides = (50, 50)\n",
    "    patches_count = 20\n",
    "\n",
    "class Config:\n",
    "    run = RC\n",
    "    data = DC"
   ]
  },
  {
   "cell_type": "markdown",
   "metadata": {},
   "source": [
    "## Setup"
   ]
  },
  {
   "cell_type": "code",
   "execution_count": null,
   "metadata": {
    "colab": {},
    "colab_type": "code",
    "executionInfo": {
     "elapsed": 6178,
     "status": "ok",
     "timestamp": 1596906675688,
     "user": {
      "displayName": "Lucas",
      "photoUrl": "https://lh3.googleusercontent.com/a-/AOh14GgO-xqdSSwbB8xXos7Shqhpq7QJ06mYVUvdLDRcbQ=s64",
      "userId": "01670254553878112810"
     },
     "user_tz": 180
    },
    "id": "qo_IhudYAnF7"
   },
   "outputs": [],
   "source": [
    "from math import ceil\n",
    "import os, shutil, pathlib, numpy as np, pandas as pd, matplotlib.pyplot as plt, seaborn as sns\n",
    "from tensorflow.keras import Model, Sequential, Input\n",
    "from tensorflow.keras.layers import (Conv2D, Dense, Dropout, BatchNormalization,\n",
    "                                     Activation, Lambda)"
   ]
  },
  {
   "cell_type": "code",
   "execution_count": null,
   "metadata": {},
   "outputs": [],
   "source": [
    "def plot(y, titles=None, rows=1, i0=0):\n",
    "    for i, image in enumerate(y):\n",
    "        if image is None:\n",
    "            plt.subplot(rows, ceil(len(y) / rows), i0+i+1)\n",
    "            plt.axis('off')\n",
    "            continue\n",
    "\n",
    "        t = titles[i] if titles else None\n",
    "        plt.subplot(rows, ceil(len(y) / rows), i0+i+1, title=t)\n",
    "        plt.imshow(image)\n",
    "        plt.axis('off')"
   ]
  },
  {
   "cell_type": "code",
   "execution_count": null,
   "metadata": {},
   "outputs": [],
   "source": [
    "sns.set()"
   ]
  },
  {
   "cell_type": "markdown",
   "metadata": {
    "colab_type": "text",
    "id": "Ut3PgruYAkp_"
   },
   "source": [
    "## Dataset"
   ]
  },
  {
   "cell_type": "code",
   "execution_count": null,
   "metadata": {},
   "outputs": [],
   "source": [
    "def get_label(file_path):\n",
    "    parts = tf.strings.split(file_path, os.path.sep)\n",
    "    one_hot = parts[-2] == class_names\n",
    "    return tf.argmax(one_hot)\n",
    "\n",
    "def decode_img(img):\n",
    "    # convert the compressed string to a 3D uint8 tensor\n",
    "    i = tf.image.decode_jpeg(img, channels=3)\n",
    "    i = tf.expand_dims(i, 0)\n",
    "    i = tf.image.extract_patches(i,\n",
    "                                 sizes=(1, *Config.data.image_size, 1),\n",
    "                                 strides=(1, *Config.data.patch_strides, 1),\n",
    "                                 rates=(1, 1, 1, 1),\n",
    "                                 padding='VALID')\n",
    "    return tf.reshape(i, (-1, 299, 299, 3))\n",
    "\n",
    "def process_path(file_path):\n",
    "    label = get_label(file_path)\n",
    "    # load the raw data from the file as a string\n",
    "    img = tf.io.read_file(file_path)\n",
    "    img = decode_img(img)\n",
    "    return file_path, img, label"
   ]
  },
  {
   "cell_type": "code",
   "execution_count": null,
   "metadata": {},
   "outputs": [],
   "source": [
    "if os.path.exists(Config.data.patches) and not Config.run.overwrite:\n",
    "    raise ValueError('Patches were already extracted, and overwrite is set to False. '\n",
    "                     'This procedure will not continue, as it might damage the '\n",
    "                     'reproducibility of the current experiments.')"
   ]
  },
  {
   "cell_type": "code",
   "execution_count": null,
   "metadata": {},
   "outputs": [],
   "source": [
    "try: shutil.rmtree(Config.data.patches)\n",
    "except: ...\n",
    "\n",
    "data_dir = pathlib.Path(Config.data.images)\n",
    "image_count = len(list(data_dir.glob('*/*.jpg')))\n",
    "print(image_count)\n",
    "\n",
    "list_ds = tf.data.Dataset.list_files(str(data_dir/'*/*'), shuffle=False)\n",
    "list_ds = list_ds.shuffle(image_count, reshuffle_each_iteration=False)\n",
    "\n",
    "for f in list_ds.take(5):\n",
    "    print(f.numpy())\n",
    "\n",
    "class_names = np.array(sorted([item.name for item in data_dir.glob('*') if item.name != \"LICENSE.txt\"]))    \n",
    "images_ds = list_ds.map(process_path, num_parallel_calls=Config.run.AUTOTUNE)"
   ]
  },
  {
   "cell_type": "code",
   "execution_count": null,
   "metadata": {},
   "outputs": [],
   "source": [
    "for c in class_names.tolist():\n",
    "    os.makedirs(os.path.join(Config.data.patches, c), exist_ok=True)"
   ]
  },
  {
   "cell_type": "code",
   "execution_count": null,
   "metadata": {},
   "outputs": [],
   "source": [
    "for filename, image, label in images_ds:\n",
    "    filename, image, label = filename.numpy(), image.numpy(), label.numpy()\n",
    "    filename = str(filename)[2:-1]  # remove b''\n",
    "    \n",
    "    if not len(image):\n",
    "        print(f'Cannot extract from {filename}. Tensor: {image}')\n",
    "        continue\n",
    "    \n",
    "    choices = np.random.choice(len(image), size=Config.data.patches_count)\n",
    "    image = image[choices]\n",
    "    label_name = str(class_names[label])\n",
    "    \n",
    "    name, ext = os.path.splitext(os.path.basename(filename))\n",
    "    \n",
    "    for ix, i in enumerate(image):\n",
    "        n = os.path.join(Config.data.patches, str(label_name), f'{name}_{ix}{ext}')\n",
    "        tf.keras.preprocessing.image.save_img(\n",
    "            n,\n",
    "            i,\n",
    "            scale=False)\n",
    "        "
   ]
  }
 ],
 "metadata": {
  "kernelspec": {
   "display_name": "Python 3",
   "language": "python",
   "name": "python3"
  }
 },
 "nbformat": 4,
 "nbformat_minor": 2
}
