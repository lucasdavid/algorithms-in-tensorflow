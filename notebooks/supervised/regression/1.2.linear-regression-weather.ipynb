{
 "cells": [
  {
   "cell_type": "markdown",
   "metadata": {
    "colab_type": "text",
    "id": "PUaIse1u4p0N"
   },
   "source": [
    "# 2. Regressão linear: exemplo de estimativa de condições climáticas\n",
    "\n",
    "O conjunto [weatherww2](https://www.kaggle.com/smid80/weatherww2) é utilizado aqui."
   ]
  },
  {
   "cell_type": "markdown",
   "metadata": {
    "colab_type": "text",
    "id": "d5xywNz7ub6R"
   },
   "source": [
    "## Introdução"
   ]
  },
  {
   "cell_type": "code",
   "execution_count": null,
   "metadata": {
    "colab": {
     "base_uri": "https://localhost:8080/",
     "height": 52
    },
    "colab_type": "code",
    "executionInfo": {
     "elapsed": 2732,
     "status": "ok",
     "timestamp": 1592710533188,
     "user": {
      "displayName": "Lucas",
      "photoUrl": "https://lh3.googleusercontent.com/a-/AOh14GgO-xqdSSwbB8xXos7Shqhpq7QJ06mYVUvdLDRcbQ=s64",
      "userId": "01670254553878112810"
     },
     "user_tz": 180
    },
    "id": "bmJxe-rHqF8W",
    "outputId": "1cb9aa27-0674-49a6-be46-15c774c56c74"
   },
   "outputs": [],
   "source": [
    "import os\n",
    "\n",
    "import numpy as np\n",
    "import pandas as pd\n",
    "import tensorflow as tf\n",
    "\n",
    "import matplotlib.pyplot as plt\n",
    "from mpl_toolkits.mplot3d import Axes3D\n",
    "import seaborn as sns\n",
    "from google.colab import drive"
   ]
  },
  {
   "cell_type": "code",
   "execution_count": null,
   "metadata": {
    "cellView": "form",
    "colab": {
     "base_uri": "https://localhost:8080/",
     "height": 0
    },
    "colab_type": "code",
    "executionInfo": {
     "elapsed": 31200,
     "status": "ok",
     "timestamp": 1592710561671,
     "user": {
      "displayName": "Lucas",
      "photoUrl": "https://lh3.googleusercontent.com/a-/AOh14GgO-xqdSSwbB8xXos7Shqhpq7QJ06mYVUvdLDRcbQ=s64",
      "userId": "01670254553878112810"
     },
     "user_tz": 180
    },
    "id": "vVM59pUAqNr5",
    "outputId": "224778c4-bdac-4b5a-efb3-9e8ff79b865c"
   },
   "outputs": [],
   "source": [
    "#@title\n",
    "\n",
    "sns.set()\n",
    "\n",
    "from IPython.display import display_html\n",
    "def display_side_by_side(*args):\n",
    "    html_str=''\n",
    "    for df in args:\n",
    "        html_str+=df.to_html()\n",
    "    display_html(html_str.replace('table','table style=\"display:inline\"'),raw=True)\n",
    "\n",
    "drive.mount('/content/drive')"
   ]
  },
  {
   "cell_type": "code",
   "execution_count": null,
   "metadata": {
    "colab": {
     "base_uri": "https://localhost:8080/",
     "height": 0
    },
    "colab_type": "code",
    "executionInfo": {
     "elapsed": 34459,
     "status": "ok",
     "timestamp": 1592710564943,
     "user": {
      "displayName": "Lucas",
      "photoUrl": "https://lh3.googleusercontent.com/a-/AOh14GgO-xqdSSwbB8xXos7Shqhpq7QJ06mYVUvdLDRcbQ=s64",
      "userId": "01670254553878112810"
     },
     "user_tz": 180
    },
    "id": "KxUBcTmm0ONP",
    "outputId": "cc06d548-a557-4dcd-f5f1-57d62c3ba5ed"
   },
   "outputs": [],
   "source": [
    "DATA_DIR = '/content/drive/My Drive/Colab Notebooks/ml-notes/datasets/weatherww2'\n",
    "FILES = sorted(os.listdir(DATA_DIR))\n",
    "\n",
    "print('Files found:', *FILES, sep='\\n  - ')\n",
    "\n",
    "w, s = (pd.read_csv(os.path.join(DATA_DIR, f)) for f in FILES)\n",
    "\n",
    "# Upper case columns make me so fucking mad.\n",
    "w.columns = map(str.lower, w.columns)\n",
    "s.columns = map(str.lower, s.columns)"
   ]
  },
  {
   "cell_type": "code",
   "execution_count": null,
   "metadata": {
    "colab": {
     "base_uri": "https://localhost:8080/",
     "height": 0
    },
    "colab_type": "code",
    "executionInfo": {
     "elapsed": 34448,
     "status": "ok",
     "timestamp": 1592710564944,
     "user": {
      "displayName": "Lucas",
      "photoUrl": "https://lh3.googleusercontent.com/a-/AOh14GgO-xqdSSwbB8xXos7Shqhpq7QJ06mYVUvdLDRcbQ=s64",
      "userId": "01670254553878112810"
     },
     "user_tz": 180
    },
    "id": "O254CkXfIZnI",
    "outputId": "d644f438-710f-4d92-9a97-28e685eb604a"
   },
   "outputs": [],
   "source": [
    "display_side_by_side(w.head().round(), s.head().round())"
   ]
  },
  {
   "cell_type": "markdown",
   "metadata": {
    "colab_type": "text",
    "id": "AKmX1mPLS0ym"
   },
   "source": [
    "## Pre-processamento e limpeza dos dados\n"
   ]
  },
  {
   "cell_type": "code",
   "execution_count": null,
   "metadata": {
    "colab": {
     "base_uri": "https://localhost:8080/",
     "height": 0
    },
    "colab_type": "code",
    "executionInfo": {
     "elapsed": 34850,
     "status": "ok",
     "timestamp": 1592710565356,
     "user": {
      "displayName": "Lucas",
      "photoUrl": "https://lh3.googleusercontent.com/a-/AOh14GgO-xqdSSwbB8xXos7Shqhpq7QJ06mYVUvdLDRcbQ=s64",
      "userId": "01670254553878112810"
     },
     "user_tz": 180
    },
    "id": "S6oQDIupIRVi",
    "outputId": "777039a1-c5e8-4db6-af00-093a35dd346e"
   },
   "outputs": [],
   "source": [
    "def preprocessing(w, s):\n",
    "    w = replace_trace_by_epsilon(w)\n",
    "    w = parse_unknown_snowfall(w)\n",
    "    \n",
    "    w['date'] = pd.to_datetime(w.date)\n",
    "    s['elev'] = s.elev.astype('int')\n",
    "\n",
    "    w = (w.merge(s, left_on='sta', right_on='wban')\n",
    "          .rename(columns={'state/country id': 'location'})\n",
    "          .drop(columns='wban windgustspd tshdsbrsgf lat lon'.split()))\n",
    "    \n",
    "    return w\n",
    "\n",
    "\n",
    "def replace_trace_by_epsilon(w):\n",
    "    p = w.precip\n",
    "\n",
    "    p[p == 'T'] = np.finfo(np.float32).eps\n",
    "    w['precip'] = p.astype('float')\n",
    "\n",
    "    return w\n",
    "\n",
    "\n",
    "def parse_unknown_snowfall(w):\n",
    "    w.loc[w.snowfall == '#VALUE!', 'snowfall'] = np.nan\n",
    "    w['snowfall'] = w.snowfall.astype('float')\n",
    "    return w\n",
    "\n",
    "\n",
    "w = preprocessing(w, s)\n",
    "w.head()"
   ]
  },
  {
   "cell_type": "markdown",
   "metadata": {
    "colab_type": "text",
    "id": "TDDqd7PqS_dV"
   },
   "source": [
    "## Observação das múltiplas características"
   ]
  },
  {
   "cell_type": "code",
   "execution_count": null,
   "metadata": {
    "cellView": "form",
    "colab": {},
    "colab_type": "code",
    "executionInfo": {
     "elapsed": 34849,
     "status": "ok",
     "timestamp": 1592710565359,
     "user": {
      "displayName": "Lucas",
      "photoUrl": "https://lh3.googleusercontent.com/a-/AOh14GgO-xqdSSwbB8xXos7Shqhpq7QJ06mYVUvdLDRcbQ=s64",
      "userId": "01670254553878112810"
     },
     "user_tz": 180
    },
    "id": "7gAswfUe9XBU"
   },
   "outputs": [],
   "source": [
    "#@title Características categóricas\n",
    "\n",
    "def count_sort_and_plot(x, sampling = None):\n",
    "    names, observations = np.unique(x, return_counts=True)\n",
    "\n",
    "    p = np.argsort(observations)[::-1]\n",
    "    names, observations = names[p], observations[p]\n",
    "    \n",
    "    if sampling:\n",
    "        s = np.random.rand(len(p)) <= sampling\n",
    "        names, observations = names[s], observations[s]\n",
    "\n",
    "    plt.figure(figsize=(16, 4))\n",
    "    sns.barplot(names, observations)\n",
    "    plt.xticks(rotation=90)"
   ]
  },
  {
   "cell_type": "code",
   "execution_count": null,
   "metadata": {
    "colab": {
     "base_uri": "https://localhost:8080/",
     "height": 0
    },
    "colab_type": "code",
    "executionInfo": {
     "elapsed": 36704,
     "status": "ok",
     "timestamp": 1592710567224,
     "user": {
      "displayName": "Lucas",
      "photoUrl": "https://lh3.googleusercontent.com/a-/AOh14GgO-xqdSSwbB8xXos7Shqhpq7QJ06mYVUvdLDRcbQ=s64",
      "userId": "01670254553878112810"
     },
     "user_tz": 180
    },
    "id": "Pj-qJHVI99fG",
    "outputId": "6363f0b8-eb59-48b4-b3d8-e8124e410198"
   },
   "outputs": [],
   "source": [
    "count_sort_and_plot(w.location)"
   ]
  },
  {
   "cell_type": "code",
   "execution_count": null,
   "metadata": {
    "colab": {
     "base_uri": "https://localhost:8080/",
     "height": 0
    },
    "colab_type": "code",
    "executionInfo": {
     "elapsed": 40052,
     "status": "ok",
     "timestamp": 1592710570582,
     "user": {
      "displayName": "Lucas",
      "photoUrl": "https://lh3.googleusercontent.com/a-/AOh14GgO-xqdSSwbB8xXos7Shqhpq7QJ06mYVUvdLDRcbQ=s64",
      "userId": "01670254553878112810"
     },
     "user_tz": 180
    },
    "id": "KJXCkGd31x-S",
    "outputId": "3dacf9a7-0784-454b-f310-ecbc2c08c01b"
   },
   "outputs": [],
   "source": [
    "count_sort_and_plot(w.name, sampling=.4)"
   ]
  },
  {
   "cell_type": "code",
   "execution_count": null,
   "metadata": {
    "cellView": "form",
    "colab": {
     "base_uri": "https://localhost:8080/",
     "height": 0
    },
    "colab_type": "code",
    "executionInfo": {
     "elapsed": 40045,
     "status": "ok",
     "timestamp": 1592710570587,
     "user": {
      "displayName": "Lucas",
      "photoUrl": "https://lh3.googleusercontent.com/a-/AOh14GgO-xqdSSwbB8xXos7Shqhpq7QJ06mYVUvdLDRcbQ=s64",
      "userId": "01670254553878112810"
     },
     "user_tz": 180
    },
    "id": "hMhx-ciI-qdm",
    "outputId": "908c8a8a-52f3-4f16-f48c-544ff1d4744c"
   },
   "outputs": [],
   "source": [
    "#@title Localização geográfica e elevação das medições\n",
    "\n",
    "plt.figure(figsize=(6, 3))\n",
    "ax = sns.scatterplot(data=w.drop_duplicates('location'),\n",
    "                     x='longitude',\n",
    "                     y='latitude',\n",
    "                     hue='elev')\n",
    "ax.get_legend().remove();"
   ]
  },
  {
   "cell_type": "code",
   "execution_count": null,
   "metadata": {
    "cellView": "form",
    "colab": {
     "base_uri": "https://localhost:8080/",
     "height": 0
    },
    "colab_type": "code",
    "executionInfo": {
     "elapsed": 41781,
     "status": "ok",
     "timestamp": 1592710572334,
     "user": {
      "displayName": "Lucas",
      "photoUrl": "https://lh3.googleusercontent.com/a-/AOh14GgO-xqdSSwbB8xXos7Shqhpq7QJ06mYVUvdLDRcbQ=s64",
      "userId": "01670254553878112810"
     },
     "user_tz": 180
    },
    "id": "ukQN5a7bPR09",
    "outputId": "f438a64a-8dfe-4845-8a1e-2f733b8e5a1e"
   },
   "outputs": [],
   "source": [
    "#@title Características contínuas\n",
    "\n",
    "plt.figure(figsize=(12, 3))\n",
    "\n",
    "for i, c in enumerate('precip maxtemp mintemp meantemp'.split()):\n",
    "    plt.subplot(1, 4, i + 1, title=c)\n",
    "    try: sns.distplot(w[c].dropna())\n",
    "    except: ...\n",
    "\n",
    "plt.tight_layout();"
   ]
  },
  {
   "cell_type": "code",
   "execution_count": null,
   "metadata": {
    "colab": {
     "base_uri": "https://localhost:8080/",
     "height": 0
    },
    "colab_type": "code",
    "executionInfo": {
     "elapsed": 41768,
     "status": "ok",
     "timestamp": 1592710572335,
     "user": {
      "displayName": "Lucas",
      "photoUrl": "https://lh3.googleusercontent.com/a-/AOh14GgO-xqdSSwbB8xXos7Shqhpq7QJ06mYVUvdLDRcbQ=s64",
      "userId": "01670254553878112810"
     },
     "user_tz": 180
    },
    "id": "MYWGabZQSPFB",
    "outputId": "8a8604d6-d558-437e-9953-df31561a59a5"
   },
   "outputs": [],
   "source": [
    "count_sort_and_plot(w.snowfall[w.snowfall != 0])  # the great majority is 0.0!"
   ]
  },
  {
   "cell_type": "markdown",
   "metadata": {
    "colab_type": "text",
    "id": "BnyxAb9oTqbs"
   },
   "source": [
    "## Estimando medições diárias a partir de características locais e sazonais"
   ]
  },
  {
   "cell_type": "code",
   "execution_count": null,
   "metadata": {
    "colab": {
     "base_uri": "https://localhost:8080/",
     "height": 285
    },
    "colab_type": "code",
    "executionInfo": {
     "elapsed": 72631,
     "status": "ok",
     "timestamp": 1592710603209,
     "user": {
      "displayName": "Lucas",
      "photoUrl": "https://lh3.googleusercontent.com/a-/AOh14GgO-xqdSSwbB8xXos7Shqhpq7QJ06mYVUvdLDRcbQ=s64",
      "userId": "01670254553878112810"
     },
     "user_tz": 180
    },
    "id": "QJFvi7W51vqi",
    "outputId": "a4ddd538-27c1-47ad-fd81-0314a6f9c46a"
   },
   "outputs": [],
   "source": [
    "locations = 'PM IN HI LI AT'.split()\n",
    "\n",
    "x = w[w.location.isin(locations)]\n",
    "\n",
    "plt.figure(figsize=(12, 4))\n",
    "sns.lineplot(x='date',\n",
    "             y='value',\n",
    "             hue='location',\n",
    "             data=x.sample(frac=.05)\n",
    "                   .melt(['date', 'location'],\n",
    "                         ['meantemp', 'mintemp', 'maxtemp']));"
   ]
  },
  {
   "cell_type": "markdown",
   "metadata": {
    "colab_type": "text",
    "id": "_3fx2Kt45s3d"
   },
   "source": [
    "Essas diferentes localizações com certeza não podem ser estimadas com um modelo de efeito fixo se as úúnicas caracteríísticas forem a informação sazional.  \n",
    "Caralho, acho que eu escolhi um exemplo muito difícil. Vamos olhar só pra uma localização primeiro:"
   ]
  },
  {
   "cell_type": "markdown",
   "metadata": {
    "colab_type": "text",
    "id": "8pjk1rqb75Kh"
   },
   "source": [
    "#### Estimando medições do dia seguinte em *Saint Pierre and Miquelon*"
   ]
  },
  {
   "cell_type": "code",
   "execution_count": null,
   "metadata": {
    "colab": {
     "base_uri": "https://localhost:8080/",
     "height": 301
    },
    "colab_type": "code",
    "executionInfo": {
     "elapsed": 76347,
     "status": "ok",
     "timestamp": 1592710606936,
     "user": {
      "displayName": "Lucas",
      "photoUrl": "https://lh3.googleusercontent.com/a-/AOh14GgO-xqdSSwbB8xXos7Shqhpq7QJ06mYVUvdLDRcbQ=s64",
      "userId": "01670254553878112810"
     },
     "user_tz": 180
    },
    "id": "5IW9Nqa56yHv",
    "outputId": "08f7f2a1-f74c-48a0-e096-fbff3353c8ae"
   },
   "outputs": [],
   "source": [
    "LOCATION = 'PM'\n",
    "FEATURES = ('date precip maxtemp mintemp meantemp snowfall poorweather '\n",
    "            'yr mo da prcp elev latitude longitude').split()\n",
    "\n",
    "x = w[w.location == LOCATION][FEATURES]\n",
    "\n",
    "plt.figure(figsize=(12, 4))\n",
    "plt.title(f'Temperatures at {LOCATION}')\n",
    "sns.lineplot(x='date',\n",
    "             y='value',\n",
    "             hue='variable',\n",
    "             data=x.sample(frac=.05)\n",
    "                   .melt(['date'], ['meantemp', 'mintemp', 'maxtemp']));"
   ]
  },
  {
   "cell_type": "markdown",
   "metadata": {
    "colab_type": "text",
    "id": "onrk16IV8iFe"
   },
   "source": [
    "Segundo [este site](https://www.timeanddate.com/weather/st-pierre-miquelon/saint-pierre/climate), o clima mais frio foi de -2º C. Essas temperaturas próximas à -20 devem ser ruído."
   ]
  },
  {
   "cell_type": "code",
   "execution_count": null,
   "metadata": {
    "colab": {},
    "colab_type": "code",
    "executionInfo": {
     "elapsed": 76346,
     "status": "ok",
     "timestamp": 1592710606939,
     "user": {
      "displayName": "Lucas",
      "photoUrl": "https://lh3.googleusercontent.com/a-/AOh14GgO-xqdSSwbB8xXos7Shqhpq7QJ06mYVUvdLDRcbQ=s64",
      "userId": "01670254553878112810"
     },
     "user_tz": 180
    },
    "id": "NuuqpOAyJmFK"
   },
   "outputs": [],
   "source": [
    "x = x.groupby('date', as_index=False, sort=True).agg({\n",
    "    'precip': 'mean', 'snowfall': 'mean',\n",
    "    'maxtemp': 'mean', 'mintemp': 'mean', 'meantemp': 'mean',\n",
    "    'yr': 'mean', 'mo': 'mean', 'da': 'mean',\n",
    "    'elev': 'mean', 'latitude': 'mean', 'longitude': 'mean',\n",
    "})\n",
    "\n",
    "x = x[x.meantemp >= -2]"
   ]
  },
  {
   "cell_type": "code",
   "execution_count": null,
   "metadata": {
    "colab": {
     "base_uri": "https://localhost:8080/",
     "height": 301
    },
    "colab_type": "code",
    "executionInfo": {
     "elapsed": 76338,
     "status": "ok",
     "timestamp": 1592710606941,
     "user": {
      "displayName": "Lucas",
      "photoUrl": "https://lh3.googleusercontent.com/a-/AOh14GgO-xqdSSwbB8xXos7Shqhpq7QJ06mYVUvdLDRcbQ=s64",
      "userId": "01670254553878112810"
     },
     "user_tz": 180
    },
    "id": "GL5gmMli7enH",
    "outputId": "ec92988e-4cd2-4238-ea4b-82e87f6c7315"
   },
   "outputs": [],
   "source": [
    "plt.figure(figsize=(12, 4))\n",
    "plt.title(f'Temperatures at {LOCATION}')\n",
    "sns.lineplot(x='date',\n",
    "             y='value',\n",
    "             hue='variable',\n",
    "             data=x.sample(frac=.5)\n",
    "                   .melt(['date'], ['meantemp', 'mintemp', 'maxtemp']));"
   ]
  },
  {
   "cell_type": "code",
   "execution_count": null,
   "metadata": {
    "colab": {
     "base_uri": "https://localhost:8080/",
     "height": 206
    },
    "colab_type": "code",
    "executionInfo": {
     "elapsed": 76328,
     "status": "ok",
     "timestamp": 1592710606942,
     "user": {
      "displayName": "Lucas",
      "photoUrl": "https://lh3.googleusercontent.com/a-/AOh14GgO-xqdSSwbB8xXos7Shqhpq7QJ06mYVUvdLDRcbQ=s64",
      "userId": "01670254553878112810"
     },
     "user_tz": 180
    },
    "id": "I4iQIQQR9xd1",
    "outputId": "cb163ec9-7f04-454d-cd56-dfeef41d2ad5"
   },
   "outputs": [],
   "source": [
    "x.head().round()"
   ]
  },
  {
   "cell_type": "code",
   "execution_count": null,
   "metadata": {
    "colab": {},
    "colab_type": "code",
    "executionInfo": {
     "elapsed": 76669,
     "status": "ok",
     "timestamp": 1592710607287,
     "user": {
      "displayName": "Lucas",
      "photoUrl": "https://lh3.googleusercontent.com/a-/AOh14GgO-xqdSSwbB8xXos7Shqhpq7QJ06mYVUvdLDRcbQ=s64",
      "userId": "01670254553878112810"
     },
     "user_tz": 180
    },
    "id": "uTJ_8GLJ_TGR"
   },
   "outputs": [],
   "source": [
    "from sklearn.linear_model import LinearRegression\n",
    "from sklearn import metrics\n",
    "\n",
    "_palette = sns.color_palette(\"husl\", 8)\n",
    "\n",
    "def add_features(x):\n",
    "    x['yrp'] = x.yr/40\n",
    "    x['mop'] = x.mo/12\n",
    "    x['dap'] = x.da/30\n",
    "\n",
    "    return x\n",
    "\n",
    "def simulate_past_future(x, days=.5):\n",
    "    if isinstance(days, int):\n",
    "        train, test = x[:days], x[days:]\n",
    "    else:\n",
    "        train, test = x[:int(len(x)*days)], x[int(len(x)*days):]\n",
    "    \n",
    "    print('Days passed (observed):', len(train))\n",
    "    print('Days to pass (unknown):', len(test))\n",
    "\n",
    "    return train, test\n",
    "\n",
    "def explain(model, features):\n",
    "    print('Explaining the model')\n",
    "    print('  f :=',\n",
    "          '\\n     + '.join(f'{c}{f}' for f, c in zip(features, model.coef_.round(2).T)))\n",
    "    print('     +', model.intercept_.round(2))\n",
    "\n",
    "def evaluate(y, p, t):\n",
    "    print('MAE:', metrics.mean_absolute_error(y, p).round(3))\n",
    "\n",
    "    with _palette:\n",
    "        f = plt.figure(figsize=(16, 6), constrained_layout=True)\n",
    "        f.suptitle(t)\n",
    "        gs = f.add_gridspec(2, 2)\n",
    "        \n",
    "        f1 = f.add_subplot(gs[0, 0])\n",
    "        f1.set_title('Observations and Predictions Distribution')\n",
    "        sns.distplot(y, label='ground truth')\n",
    "        sns.distplot(p, label='predicted')\n",
    "        plt.legend();\n",
    "        \n",
    "        f2 = f.add_subplot(gs[0, 1])\n",
    "        f2.set_title('Error Distribution')\n",
    "        sns.distplot(np.abs(y - p), label='error', kde=False)\n",
    "        \n",
    "        f3 = f.add_subplot(gs[1, :])\n",
    "        f3.set_title('Observations and Predictions over Time')\n",
    "        sns.lineplot(x=np.arange(len(y)), y=y, label='ground truth')\n",
    "        sns.lineplot(x=np.arange(len(y)), y=p, label='predicted')"
   ]
  },
  {
   "cell_type": "markdown",
   "metadata": {
    "colab_type": "text",
    "id": "UBhdmNKKpgQ9"
   },
   "source": [
    "#### 14 dias após o início das medições, feature: dia do mês"
   ]
  },
  {
   "cell_type": "code",
   "execution_count": null,
   "metadata": {
    "colab": {},
    "colab_type": "code",
    "executionInfo": {
     "elapsed": 76667,
     "status": "ok",
     "timestamp": 1592710607287,
     "user": {
      "displayName": "Lucas",
      "photoUrl": "https://lh3.googleusercontent.com/a-/AOh14GgO-xqdSSwbB8xXos7Shqhpq7QJ06mYVUvdLDRcbQ=s64",
      "userId": "01670254553878112810"
     },
     "user_tz": 180
    },
    "id": "ZGdCYoa83-vU"
   },
   "outputs": [],
   "source": [
    "FEATURES = ['dap']\n",
    "TARGETS = ['mintemp', 'meantemp', 'maxtemp', 'precip']\n",
    "DAYS = 14"
   ]
  },
  {
   "cell_type": "code",
   "execution_count": null,
   "metadata": {
    "colab": {
     "base_uri": "https://localhost:8080/",
     "height": 52
    },
    "colab_type": "code",
    "executionInfo": {
     "elapsed": 76658,
     "status": "ok",
     "timestamp": 1592710607289,
     "user": {
      "displayName": "Lucas",
      "photoUrl": "https://lh3.googleusercontent.com/a-/AOh14GgO-xqdSSwbB8xXos7Shqhpq7QJ06mYVUvdLDRcbQ=s64",
      "userId": "01670254553878112810"
     },
     "user_tz": 180
    },
    "id": "9pMnBRFupuWq",
    "outputId": "f0e5557e-61fe-4d71-be61-92c22962f49e"
   },
   "outputs": [],
   "source": [
    "z = x.copy()\n",
    "z = add_features(z)\n",
    "train, test = simulate_past_future(z, days=DAYS)\n",
    "test_sampled = test.sample(100)\n",
    "\n",
    "lr = LinearRegression().fit(train[FEATURES], train[TARGETS])\n",
    "predictions = lr.predict(test_sampled[FEATURES])"
   ]
  },
  {
   "cell_type": "code",
   "execution_count": null,
   "metadata": {
    "colab": {
     "base_uri": "https://localhost:8080/",
     "height": 69
    },
    "colab_type": "code",
    "executionInfo": {
     "elapsed": 76650,
     "status": "ok",
     "timestamp": 1592710607290,
     "user": {
      "displayName": "Lucas",
      "photoUrl": "https://lh3.googleusercontent.com/a-/AOh14GgO-xqdSSwbB8xXos7Shqhpq7QJ06mYVUvdLDRcbQ=s64",
      "userId": "01670254553878112810"
     },
     "user_tz": 180
    },
    "id": "c689bDOxzq1x",
    "outputId": "6db4a87a-f62d-4a88-f9f8-f4fe55a0fe8f"
   },
   "outputs": [],
   "source": [
    "explain(lr, FEATURES)"
   ]
  },
  {
   "cell_type": "code",
   "execution_count": null,
   "metadata": {
    "colab": {
     "base_uri": "https://localhost:8080/",
     "height": 1000
    },
    "colab_type": "code",
    "executionInfo": {
     "elapsed": 85776,
     "status": "ok",
     "timestamp": 1592710616427,
     "user": {
      "displayName": "Lucas",
      "photoUrl": "https://lh3.googleusercontent.com/a-/AOh14GgO-xqdSSwbB8xXos7Shqhpq7QJ06mYVUvdLDRcbQ=s64",
      "userId": "01670254553878112810"
     },
     "user_tz": 180
    },
    "id": "J2Rp9D0Spztk",
    "outputId": "10be5246-f2cf-493e-81e2-92e3885cfcd1"
   },
   "outputs": [],
   "source": [
    "for i, (t, y, p) in enumerate(zip(TARGETS, test_sampled[TARGETS].values.T, predictions.T)):\n",
    "    print(t, end=' ')\n",
    "    evaluate(y, p, t)"
   ]
  },
  {
   "cell_type": "markdown",
   "metadata": {
    "colab_type": "text",
    "id": "rxpfrV0u07Qe"
   },
   "source": [
    "#### Um ano após o início das medições, feature: dia do mês, mês do ano"
   ]
  },
  {
   "cell_type": "code",
   "execution_count": null,
   "metadata": {
    "colab": {},
    "colab_type": "code",
    "executionInfo": {
     "elapsed": 85776,
     "status": "ok",
     "timestamp": 1592710616430,
     "user": {
      "displayName": "Lucas",
      "photoUrl": "https://lh3.googleusercontent.com/a-/AOh14GgO-xqdSSwbB8xXos7Shqhpq7QJ06mYVUvdLDRcbQ=s64",
      "userId": "01670254553878112810"
     },
     "user_tz": 180
    },
    "id": "zuWpfWZ807Qj"
   },
   "outputs": [],
   "source": [
    "FEATURES = ['dap', 'mop']\n",
    "TARGETS = ['mintemp', 'meantemp', 'maxtemp', 'precip']\n",
    "DAYS = 365"
   ]
  },
  {
   "cell_type": "code",
   "execution_count": null,
   "metadata": {
    "colab": {
     "base_uri": "https://localhost:8080/",
     "height": 52
    },
    "colab_type": "code",
    "executionInfo": {
     "elapsed": 85767,
     "status": "ok",
     "timestamp": 1592710616431,
     "user": {
      "displayName": "Lucas",
      "photoUrl": "https://lh3.googleusercontent.com/a-/AOh14GgO-xqdSSwbB8xXos7Shqhpq7QJ06mYVUvdLDRcbQ=s64",
      "userId": "01670254553878112810"
     },
     "user_tz": 180
    },
    "id": "OmocFagE07Qu",
    "outputId": "2433304d-39af-4087-ec09-5eb79ebd1900"
   },
   "outputs": [],
   "source": [
    "z = x.copy()\n",
    "z = add_features(z)\n",
    "train, test = simulate_past_future(z, days=DAYS)\n",
    "test_sampled = test.sample(100)\n",
    "\n",
    "lr = LinearRegression().fit(train[FEATURES], train[TARGETS])\n",
    "predictions = lr.predict(test_sampled[FEATURES])"
   ]
  },
  {
   "cell_type": "code",
   "execution_count": null,
   "metadata": {
    "colab": {
     "base_uri": "https://localhost:8080/",
     "height": 86
    },
    "colab_type": "code",
    "executionInfo": {
     "elapsed": 85758,
     "status": "ok",
     "timestamp": 1592710616432,
     "user": {
      "displayName": "Lucas",
      "photoUrl": "https://lh3.googleusercontent.com/a-/AOh14GgO-xqdSSwbB8xXos7Shqhpq7QJ06mYVUvdLDRcbQ=s64",
      "userId": "01670254553878112810"
     },
     "user_tz": 180
    },
    "id": "AwfKeNgj07Q2",
    "outputId": "7f1dd2ee-b36b-4b05-ad5a-ccde18de0129"
   },
   "outputs": [],
   "source": [
    "explain(lr, FEATURES)"
   ]
  },
  {
   "cell_type": "code",
   "execution_count": null,
   "metadata": {
    "colab": {
     "base_uri": "https://localhost:8080/",
     "height": 1000
    },
    "colab_type": "code",
    "executionInfo": {
     "elapsed": 94003,
     "status": "ok",
     "timestamp": 1592710624686,
     "user": {
      "displayName": "Lucas",
      "photoUrl": "https://lh3.googleusercontent.com/a-/AOh14GgO-xqdSSwbB8xXos7Shqhpq7QJ06mYVUvdLDRcbQ=s64",
      "userId": "01670254553878112810"
     },
     "user_tz": 180
    },
    "id": "eO0HpmE707Q8",
    "outputId": "70f5a949-8576-4faf-b73d-e34b3d002ff8"
   },
   "outputs": [],
   "source": [
    "for i, (t, y, p) in enumerate(zip(TARGETS, test_sampled[TARGETS].values.T, predictions.T)):\n",
    "    print(t, end=' ')\n",
    "    evaluate(y, p, t)"
   ]
  },
  {
   "cell_type": "markdown",
   "metadata": {
    "colab_type": "text",
    "id": "2y3Q5YXk-h1Y"
   },
   "source": [
    "**Para pensar:** a linha se tornou muito mais comportada ao adicionarmos mais dados. O que aconteceu aqui?\n",
    "\n",
    "De qualquer forma, nós não estamos indo bem nos pontos com temperaturas fora do usual (que era exatamente o interesse no período de guerra). Podemos melhorar adicionando informação local (as temperaturas dos dias anteriores) para predizer as próximas temperaturas:"
   ]
  },
  {
   "cell_type": "markdown",
   "metadata": {
    "colab_type": "text",
    "id": "GXeMfN481KTL"
   },
   "source": [
    "### Adição da informação do dia anterior"
   ]
  },
  {
   "cell_type": "markdown",
   "metadata": {
    "colab_type": "text",
    "id": "rRiRjBXA7aLk"
   },
   "source": [
    "#### Enriquecimento, Definições e Treinamento"
   ]
  },
  {
   "cell_type": "code",
   "execution_count": null,
   "metadata": {
    "colab": {},
    "colab_type": "code",
    "executionInfo": {
     "elapsed": 94003,
     "status": "ok",
     "timestamp": 1592710624690,
     "user": {
      "displayName": "Lucas",
      "photoUrl": "https://lh3.googleusercontent.com/a-/AOh14GgO-xqdSSwbB8xXos7Shqhpq7QJ06mYVUvdLDRcbQ=s64",
      "userId": "01670254553878112810"
     },
     "user_tz": 180
    },
    "id": "qXtR9QP5oi7j"
   },
   "outputs": [],
   "source": [
    "def add_features(x):\n",
    "    x['yrp'] = x.yr/40\n",
    "    x['mop'] = x.mo/12\n",
    "    x['dap'] = x.da/30\n",
    "\n",
    "    x['maxtemp_y'] = x.maxtemp.shift(1)\n",
    "    x['mintemp_y'] = x.mintemp.shift(1)\n",
    "    x['meantemp_y'] = x.meantemp.shift(1)\n",
    "\n",
    "    return x.dropna()"
   ]
  },
  {
   "cell_type": "code",
   "execution_count": null,
   "metadata": {
    "colab": {},
    "colab_type": "code",
    "executionInfo": {
     "elapsed": 94004,
     "status": "ok",
     "timestamp": 1592710624693,
     "user": {
      "displayName": "Lucas",
      "photoUrl": "https://lh3.googleusercontent.com/a-/AOh14GgO-xqdSSwbB8xXos7Shqhpq7QJ06mYVUvdLDRcbQ=s64",
      "userId": "01670254553878112810"
     },
     "user_tz": 180
    },
    "id": "xgbGoufwNS4S"
   },
   "outputs": [],
   "source": [
    "FEATURES = ['dap', 'mop', 'mintemp_y', 'meantemp_y', 'maxtemp_y']\n",
    "TARGET = ['mintemp', 'meantemp', 'maxtemp', 'precip']\n",
    "DAYS = 365"
   ]
  },
  {
   "cell_type": "code",
   "execution_count": null,
   "metadata": {
    "colab": {
     "base_uri": "https://localhost:8080/",
     "height": 0
    },
    "colab_type": "code",
    "executionInfo": {
     "elapsed": 93998,
     "status": "ok",
     "timestamp": 1592710624694,
     "user": {
      "displayName": "Lucas",
      "photoUrl": "https://lh3.googleusercontent.com/a-/AOh14GgO-xqdSSwbB8xXos7Shqhpq7QJ06mYVUvdLDRcbQ=s64",
      "userId": "01670254553878112810"
     },
     "user_tz": 180
    },
    "id": "aLb54eZ11V6A",
    "outputId": "7d324f17-52de-40d3-8cde-83ff35c29a1e"
   },
   "outputs": [],
   "source": [
    "z = x.copy()\n",
    "z = add_features(z)\n",
    "train, test = simulate_past_future(z, days=DAYS)\n",
    "test_sampled = test.sample(100)\n",
    "\n",
    "lr = LinearRegression().fit(train[FEATURES], train[TARGETS])\n",
    "predictions = lr.predict(test_sampled[FEATURES])"
   ]
  },
  {
   "cell_type": "code",
   "execution_count": null,
   "metadata": {
    "colab": {
     "base_uri": "https://localhost:8080/",
     "height": 0
    },
    "colab_type": "code",
    "executionInfo": {
     "elapsed": 93996,
     "status": "ok",
     "timestamp": 1592710624697,
     "user": {
      "displayName": "Lucas",
      "photoUrl": "https://lh3.googleusercontent.com/a-/AOh14GgO-xqdSSwbB8xXos7Shqhpq7QJ06mYVUvdLDRcbQ=s64",
      "userId": "01670254553878112810"
     },
     "user_tz": 180
    },
    "id": "7AxfSsva1Zgg",
    "outputId": "2979c1b6-8a68-4a38-a927-3d54171694ce"
   },
   "outputs": [],
   "source": [
    "explain(lr, FEATURES)"
   ]
  },
  {
   "cell_type": "markdown",
   "metadata": {
    "colab_type": "text",
    "id": "llAo4oMm7fbD"
   },
   "source": [
    "#### Avaliação"
   ]
  },
  {
   "cell_type": "code",
   "execution_count": null,
   "metadata": {
    "colab": {
     "base_uri": "https://localhost:8080/",
     "height": 1000
    },
    "colab_type": "code",
    "executionInfo": {
     "elapsed": 103427,
     "status": "ok",
     "timestamp": 1592710634135,
     "user": {
      "displayName": "Lucas",
      "photoUrl": "https://lh3.googleusercontent.com/a-/AOh14GgO-xqdSSwbB8xXos7Shqhpq7QJ06mYVUvdLDRcbQ=s64",
      "userId": "01670254553878112810"
     },
     "user_tz": 180
    },
    "id": "dV_g372u1bp5",
    "outputId": "87938150-c1d7-4d8a-9530-5c2ac2310f15"
   },
   "outputs": [],
   "source": [
    "for i, (t, y, p) in enumerate(zip(TARGETS, test_sampled[TARGETS].values.T, predictions.T)):\n",
    "    print(t, end=' ')\n",
    "    evaluate(y, p, t)"
   ]
  },
  {
   "cell_type": "markdown",
   "metadata": {
    "colab_type": "text",
    "id": "GOUG2_tu8y4v"
   },
   "source": [
    "### Análise recorrente\n",
    "\n",
    "Características: as medições locais de 7 dias à 7 dias de distância do dia atual (previsão com 1 semana de antecedência)."
   ]
  },
  {
   "cell_type": "markdown",
   "metadata": {
    "colab_type": "text",
    "id": "VxjEDUbi7oSa"
   },
   "source": [
    "#### Definições, enriquecimento e treinamento"
   ]
  },
  {
   "cell_type": "code",
   "execution_count": null,
   "metadata": {
    "colab": {},
    "colab_type": "code",
    "executionInfo": {
     "elapsed": 984,
     "status": "ok",
     "timestamp": 1592710683478,
     "user": {
      "displayName": "Lucas",
      "photoUrl": "https://lh3.googleusercontent.com/a-/AOh14GgO-xqdSSwbB8xXos7Shqhpq7QJ06mYVUvdLDRcbQ=s64",
      "userId": "01670254553878112810"
     },
     "user_tz": 180
    },
    "id": "2OeQao0V85lw"
   },
   "outputs": [],
   "source": [
    "FEATURES = ['dap', 'mop', 'mintemp', 'meantemp', 'maxtemp', 'precip']\n",
    "TARGET = ['mintemp', 'meantemp', 'maxtemp', 'precip']\n",
    "DAYS = 2 * 365\n",
    "\n",
    "LENGTH = 7\n",
    "STRIDE = 7\n",
    "BATCH_SIZE = 128\n",
    "\n",
    "EPOCHS = 400"
   ]
  },
  {
   "cell_type": "code",
   "execution_count": null,
   "metadata": {
    "colab": {},
    "colab_type": "code",
    "executionInfo": {
     "elapsed": 978,
     "status": "ok",
     "timestamp": 1592710683479,
     "user": {
      "displayName": "Lucas",
      "photoUrl": "https://lh3.googleusercontent.com/a-/AOh14GgO-xqdSSwbB8xXos7Shqhpq7QJ06mYVUvdLDRcbQ=s64",
      "userId": "01670254553878112810"
     },
     "user_tz": 180
    },
    "id": "9-FE-Ea-7vdo"
   },
   "outputs": [],
   "source": [
    "from sklearn.preprocessing import StandardScaler\n",
    "\n",
    "z = x.copy()\n",
    "z = add_features(z)\n",
    "\n",
    "zs = StandardScaler()\n",
    "ts = StandardScaler()\n",
    "\n",
    "ze = zs.fit_transform(z[FEATURES])\n",
    "te = ts.fit_transform(z[TARGETS])"
   ]
  },
  {
   "cell_type": "code",
   "execution_count": null,
   "metadata": {
    "colab": {},
    "colab_type": "code",
    "executionInfo": {
     "elapsed": 975,
     "status": "ok",
     "timestamp": 1592710683481,
     "user": {
      "displayName": "Lucas",
      "photoUrl": "https://lh3.googleusercontent.com/a-/AOh14GgO-xqdSSwbB8xXos7Shqhpq7QJ06mYVUvdLDRcbQ=s64",
      "userId": "01670254553878112810"
     },
     "user_tz": 180
    },
    "id": "UVZJpP1Q9_53"
   },
   "outputs": [],
   "source": [
    "train = tf.keras.preprocessing.sequence.TimeseriesGenerator(\n",
    "    ze, te,\n",
    "    length=LENGTH,\n",
    "    stride=STRIDE,\n",
    "    batch_size=BATCH_SIZE,\n",
    "    end_index=7*DAYS//10)\n",
    "\n",
    "valid = tf.keras.preprocessing.sequence.TimeseriesGenerator(\n",
    "    ze, te,\n",
    "    length=LENGTH,\n",
    "    stride=STRIDE,\n",
    "    batch_size=BATCH_SIZE,\n",
    "    start_index=7*DAYS//10,\n",
    "    end_index=DAYS)\n",
    "\n",
    "test = tf.keras.preprocessing.sequence.TimeseriesGenerator(\n",
    "    ze, te,\n",
    "    length=LENGTH,\n",
    "    stride=STRIDE,\n",
    "    batch_size=BATCH_SIZE,\n",
    "    start_index=DAYS)"
   ]
  },
  {
   "cell_type": "code",
   "execution_count": null,
   "metadata": {
    "colab": {},
    "colab_type": "code",
    "executionInfo": {
     "elapsed": 1469,
     "status": "ok",
     "timestamp": 1592710683978,
     "user": {
      "displayName": "Lucas",
      "photoUrl": "https://lh3.googleusercontent.com/a-/AOh14GgO-xqdSSwbB8xXos7Shqhpq7QJ06mYVUvdLDRcbQ=s64",
      "userId": "01670254553878112810"
     },
     "user_tz": 180
    },
    "id": "b95SN3_GAQSP"
   },
   "outputs": [],
   "source": [
    "from tensorflow.keras import Input, Model\n",
    "from tensorflow.keras.layers import LSTM, Dense\n",
    "\n",
    "def create_model():\n",
    "    x = Input(shape=[LENGTH, len(FEATURES)])\n",
    "    y = LSTM(128, name='rc1')(x)\n",
    "    y = Dense(1024, activation='relu', name='fc1')(y)\n",
    "    y = Dense(1024, activation='relu', name='fc2')(y)\n",
    "    y = Dense(len(TARGETS), name='predictions')(y)\n",
    "    \n",
    "    nn = Model(inputs=x,\n",
    "               outputs=y,\n",
    "               name='weather_estimator')\n",
    "    \n",
    "    nn.compile(loss='mse', metrics=['mse', 'mae'])\n",
    "\n",
    "    return nn\n",
    "\n",
    "nn = create_model()"
   ]
  },
  {
   "cell_type": "code",
   "execution_count": null,
   "metadata": {
    "colab": {
     "base_uri": "https://localhost:8080/",
     "height": 121
    },
    "colab_type": "code",
    "executionInfo": {
     "elapsed": 2298,
     "status": "ok",
     "timestamp": 1592710684822,
     "user": {
      "displayName": "Lucas",
      "photoUrl": "https://lh3.googleusercontent.com/a-/AOh14GgO-xqdSSwbB8xXos7Shqhpq7QJ06mYVUvdLDRcbQ=s64",
      "userId": "01670254553878112810"
     },
     "user_tz": 180
    },
    "id": "60WEFskmA6AF",
    "outputId": "6e9bd584-85a2-4ae8-eed0-7d4837786259"
   },
   "outputs": [],
   "source": [
    "tf.keras.utils.plot_model(nn, show_shapes=True, rankdir='LR')"
   ]
  },
  {
   "cell_type": "code",
   "execution_count": null,
   "metadata": {
    "colab": {},
    "colab_type": "code",
    "executionInfo": {
     "elapsed": 44402,
     "status": "ok",
     "timestamp": 1592710726928,
     "user": {
      "displayName": "Lucas",
      "photoUrl": "https://lh3.googleusercontent.com/a-/AOh14GgO-xqdSSwbB8xXos7Shqhpq7QJ06mYVUvdLDRcbQ=s64",
      "userId": "01670254553878112810"
     },
     "user_tz": 180
    },
    "id": "EofQlCtSB8Wq"
   },
   "outputs": [],
   "source": [
    "nn.fit(\n",
    "    train,\n",
    "    validation_data=test,\n",
    "    epochs=EPOCHS,\n",
    "    verbose=0,\n",
    "    callbacks=[\n",
    "        tf.keras.callbacks.EarlyStopping(patience=100),\n",
    "        tf.keras.callbacks.ModelCheckpoint('weather.h5', save_best_only=True)\n",
    "    ]);"
   ]
  },
  {
   "cell_type": "code",
   "execution_count": null,
   "metadata": {
    "colab": {
     "base_uri": "https://localhost:8080/",
     "height": 285
    },
    "colab_type": "code",
    "executionInfo": {
     "elapsed": 45138,
     "status": "ok",
     "timestamp": 1592710727676,
     "user": {
      "displayName": "Lucas",
      "photoUrl": "https://lh3.googleusercontent.com/a-/AOh14GgO-xqdSSwbB8xXos7Shqhpq7QJ06mYVUvdLDRcbQ=s64",
      "userId": "01670254553878112810"
     },
     "user_tz": 180
    },
    "id": "84fYddE-CuKa",
    "outputId": "58b402cb-5e6f-4fc5-ecea-d3b06127eb54"
   },
   "outputs": [],
   "source": [
    "h = pd.DataFrame(nn.history.history)\n",
    "h['epoch'] = h.index\n",
    "\n",
    "sns.lineplot(\n",
    "    x='epoch',\n",
    "    y='value',\n",
    "    hue='variable',\n",
    "    data=h.melt(['epoch'], ['mse', 'mae']));"
   ]
  },
  {
   "cell_type": "code",
   "execution_count": null,
   "metadata": {
    "colab": {},
    "colab_type": "code",
    "executionInfo": {
     "elapsed": 45140,
     "status": "ok",
     "timestamp": 1592710727681,
     "user": {
      "displayName": "Lucas",
      "photoUrl": "https://lh3.googleusercontent.com/a-/AOh14GgO-xqdSSwbB8xXos7Shqhpq7QJ06mYVUvdLDRcbQ=s64",
      "userId": "01670254553878112810"
     },
     "user_tz": 180
    },
    "id": "OLUUwkVUGMqx"
   },
   "outputs": [],
   "source": [
    "nn.load_weights('weather.h5')"
   ]
  },
  {
   "cell_type": "code",
   "execution_count": null,
   "metadata": {
    "colab": {},
    "colab_type": "code",
    "executionInfo": {
     "elapsed": 45520,
     "status": "ok",
     "timestamp": 1592710728063,
     "user": {
      "displayName": "Lucas",
      "photoUrl": "https://lh3.googleusercontent.com/a-/AOh14GgO-xqdSSwbB8xXos7Shqhpq7QJ06mYVUvdLDRcbQ=s64",
      "userId": "01670254553878112810"
     },
     "user_tz": 180
    },
    "id": "W3T1fJyvDAcU"
   },
   "outputs": [],
   "source": [
    "test_targets = np.concatenate([e[1] for e in test])\n",
    "test_targets = ts.inverse_transform(test_targets)\n",
    "\n",
    "predictions = nn.predict(test)\n",
    "predictions = ts.inverse_transform(predictions)\n",
    "\n",
    "# s = np.random.rand(len(test_targets)) < .1\n",
    "# test_targets, predictions = test_targets[s], predictions[s]"
   ]
  },
  {
   "cell_type": "markdown",
   "metadata": {
    "colab_type": "text",
    "id": "-u6NDeq67l4J"
   },
   "source": [
    "#### Avaliação"
   ]
  },
  {
   "cell_type": "code",
   "execution_count": null,
   "metadata": {
    "colab": {
     "base_uri": "https://localhost:8080/",
     "height": 1000
    },
    "colab_type": "code",
    "executionInfo": {
     "elapsed": 55034,
     "status": "ok",
     "timestamp": 1592710737589,
     "user": {
      "displayName": "Lucas",
      "photoUrl": "https://lh3.googleusercontent.com/a-/AOh14GgO-xqdSSwbB8xXos7Shqhpq7QJ06mYVUvdLDRcbQ=s64",
      "userId": "01670254553878112810"
     },
     "user_tz": 180
    },
    "id": "VGv0CkD_Gnpf",
    "outputId": "0694791d-85ed-4e5d-f90d-a7340c30c3bf"
   },
   "outputs": [],
   "source": [
    "for i, (t, y, p) in enumerate(zip(TARGETS, test_targets.T, predictions.T)):\n",
    "    print(t, end=' ')\n",
    "    evaluate(y, p, t)"
   ]
  }
 ],
 "metadata": {
  "kernelspec": {
   "display_name": "Python 3",
   "language": "python",
   "name": "python3"
  }
 },
 "nbformat": 4,
 "nbformat_minor": 2
}
