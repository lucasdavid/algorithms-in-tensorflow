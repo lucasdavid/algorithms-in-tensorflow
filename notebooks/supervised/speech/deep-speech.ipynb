{
 "cells": [
  {
   "cell_type": "code",
   "execution_count": null,
   "metadata": {
    "colab": {},
    "colab_type": "code",
    "id": "lUFXwTM8BDOE"
   },
   "outputs": [],
   "source": [
    "import tensorflow as tf\n",
    "\n",
    "import argparse\n",
    "import numpy as np\n",
    "import shlex\n",
    "import subprocess\n",
    "import sys\n",
    "import wave\n",
    "import json\n",
    "\n",
    "from deepspeech import Model, printVersions\n",
    "from timeit import default_timer as timer\n",
    "\n",
    "try:\n",
    "    from shhlex import quote\n",
    "except ImportError:\n",
    "    from pipes import quote"
   ]
  },
  {
   "cell_type": "code",
   "execution_count": null,
   "metadata": {
    "colab": {
     "base_uri": "https://localhost:8080/",
     "height": 1000
    },
    "colab_type": "code",
    "executionInfo": {
     "elapsed": 14753,
     "status": "ok",
     "timestamp": 1586574932633,
     "user": {
      "displayName": "Lucas",
      "photoUrl": "https://lh3.googleusercontent.com/a-/AOh14GgO-xqdSSwbB8xXos7Shqhpq7QJ06mYVUvdLDRcbQ=s64",
      "userId": "01670254553878112810"
     },
     "user_tz": 180
    },
    "id": "TPK382-IO3YA",
    "outputId": "c4afa7dd-588d-4fd6-91e7-6e490e77774b"
   },
   "outputs": [],
   "source": [
    "! sudo apt-get install -y sox libsox-fmt-mp3"
   ]
  },
  {
   "cell_type": "code",
   "execution_count": null,
   "metadata": {
    "cellView": "form",
    "colab": {
     "base_uri": "https://localhost:8080/",
     "height": 533
    },
    "colab_type": "code",
    "executionInfo": {
     "elapsed": 48079,
     "status": "ok",
     "timestamp": 1586572104097,
     "user": {
      "displayName": "Lucas",
      "photoUrl": "https://lh3.googleusercontent.com/a-/AOh14GgO-xqdSSwbB8xXos7Shqhpq7QJ06mYVUvdLDRcbQ=s64",
      "userId": "01670254553878112810"
     },
     "user_tz": 180
    },
    "id": "Ll8afq67EDrv",
    "outputId": "b4bf77e1-ca1d-44b2-a6f0-871db37bb802"
   },
   "outputs": [],
   "source": [
    "#@title\n",
    "\n",
    "! wget https://github.com/mozilla/DeepSpeech/releases/download/v0.6.1/deepspeech-0.6.1-models.tar.gz\n",
    "! tar xvfz deepspeech-0.6.1-models.tar.gzb"
   ]
  },
  {
   "cell_type": "code",
   "execution_count": null,
   "metadata": {
    "colab": {
     "base_uri": "https://localhost:8080/",
     "height": 35
    },
    "colab_type": "code",
    "executionInfo": {
     "elapsed": 2604,
     "status": "ok",
     "timestamp": 1586574211113,
     "user": {
      "displayName": "Lucas",
      "photoUrl": "https://lh3.googleusercontent.com/a-/AOh14GgO-xqdSSwbB8xXos7Shqhpq7QJ06mYVUvdLDRcbQ=s64",
      "userId": "01670254553878112810"
     },
     "user_tz": 180
    },
    "id": "SGcE99x5ELjK",
    "outputId": "bdf59b87-f811-40a1-fa05-c97377c9b22e"
   },
   "outputs": [],
   "source": [
    "! ls ./"
   ]
  },
  {
   "cell_type": "code",
   "execution_count": null,
   "metadata": {
    "colab": {},
    "colab_type": "code",
    "id": "TSr5vyQNJdkg"
   },
   "outputs": [],
   "source": [
    "ds = Model('./deepspeech-0.6.1-models/output_graph.pbmm', 500)"
   ]
  },
  {
   "cell_type": "code",
   "execution_count": null,
   "metadata": {
    "colab": {
     "base_uri": "https://localhost:8080/",
     "height": 35
    },
    "colab_type": "code",
    "executionInfo": {
     "elapsed": 667,
     "status": "ok",
     "timestamp": 1586573756332,
     "user": {
      "displayName": "Lucas",
      "photoUrl": "https://lh3.googleusercontent.com/a-/AOh14GgO-xqdSSwbB8xXos7Shqhpq7QJ06mYVUvdLDRcbQ=s64",
      "userId": "01670254553878112810"
     },
     "user_tz": 180
    },
    "id": "ZC_beOZtJyt5",
    "outputId": "fb1338ab-7ca1-4dee-ec4d-e63de291d19a"
   },
   "outputs": [],
   "source": [
    "desired_sample_rate = ds.sampleRate()\n",
    "\n",
    "desired_sample_rate"
   ]
  },
  {
   "cell_type": "code",
   "execution_count": null,
   "metadata": {
    "colab": {
     "base_uri": "https://localhost:8080/",
     "height": 35
    },
    "colab_type": "code",
    "executionInfo": {
     "elapsed": 634,
     "status": "ok",
     "timestamp": 1586573933268,
     "user": {
      "displayName": "Lucas",
      "photoUrl": "https://lh3.googleusercontent.com/a-/AOh14GgO-xqdSSwbB8xXos7Shqhpq7QJ06mYVUvdLDRcbQ=s64",
      "userId": "01670254553878112810"
     },
     "user_tz": 180
    },
    "id": "b_MFwh21Kwz6",
    "outputId": "2367acbe-d498-4900-d1a4-fab66e0eeedd"
   },
   "outputs": [],
   "source": [
    "ds.enableDecoderWithLM('./deepspeech-0.6.1-models/lm.binary',\n",
    "                       './deepspeech-0.6.1-models/trie',\n",
    "                       0.75,\n",
    "                       1.85)"
   ]
  },
  {
   "cell_type": "code",
   "execution_count": null,
   "metadata": {
    "colab": {},
    "colab_type": "code",
    "id": "f_PQFq-tM7h7"
   },
   "outputs": [],
   "source": [
    "def convert_samplerate(audio_path, desired_sample_rate):\n",
    "    sox_cmd = 'sox {} --type raw --bits 16 --channels 1 --rate {} --encoding signed-integer --endian little --compression 0.0 --no-dither - '.format(quote(audio_path), desired_sample_rate)\n",
    "    try:\n",
    "        output = subprocess.check_output(shlex.split(sox_cmd), stderr=subprocess.PIPE)\n",
    "    except subprocess.CalledProcessError as e:\n",
    "        raise RuntimeError('SoX returned non-zero status: {}'.format(e.stderr))\n",
    "    except OSError as e:\n",
    "        raise OSError(e.errno, 'SoX not found, use {}hz files or install it: {}'.format(desired_sample_rate, e.strerror))\n",
    "\n",
    "    return desired_sample_rate, np.frombuffer(output, np.int16)\n",
    "\n",
    "def load_audio_file(f):\n",
    "    fin = wave.open(f, 'rb')\n",
    "    fs = fin.getframerate()\n",
    "\n",
    "    if fs != desired_sample_rate:\n",
    "        print('Warning: original sample rate ({}) is different than {}hz. Resampling might produce erratic speech recognition.'.format(fs, desired_sample_rate), file=sys.stderr)\n",
    "        fs, audio = convert_samplerate(f, desired_sample_rate)\n",
    "    else:\n",
    "        audio = np.frombuffer(fin.readframes(fin.getnframes()), np.int16)\n",
    "\n",
    "    audio_length = fin.getnframes() * (1/fs)\n",
    "    fin.close()\n",
    "\n",
    "    return audio\n",
    "\n",
    "def metadata_to_string(metadata):\n",
    "    return ''.join(item.character for item in metadata.items)\n",
    "\n",
    "def words_from_metadata(metadata):\n",
    "    word = \"\"\n",
    "    word_list = []\n",
    "    word_start_time = 0\n",
    "    # Loop through each character\n",
    "    for i in range(0, metadata.num_items):\n",
    "        item = metadata.items[i]\n",
    "        # Append character to word if it's not a space\n",
    "        if item.character != \" \":\n",
    "            word = word + item.character\n",
    "        # Word boundary is either a space or the last character in the array\n",
    "        if item.character == \" \" or i == metadata.num_items - 1:\n",
    "            word_duration = item.start_time - word_start_time\n",
    "\n",
    "            if word_duration < 0:\n",
    "                word_duration = 0\n",
    "\n",
    "            each_word = dict()\n",
    "            each_word[\"word\"] = word\n",
    "            each_word[\"start_time \"] = round(word_start_time, 4)\n",
    "            each_word[\"duration\"] = round(word_duration, 4)\n",
    "\n",
    "            word_list.append(each_word)\n",
    "            # Reset\n",
    "            word = \"\"\n",
    "            word_start_time = 0\n",
    "        else:\n",
    "            if len(word) == 1:\n",
    "                # Log the start time of the new word\n",
    "                word_start_time = item.start_time\n",
    "\n",
    "    return word_list\n",
    "\n",
    "def metadata_json_output(metadata):\n",
    "    json_result = dict()\n",
    "    json_result[\"words\"] = words_from_metadata(metadata)\n",
    "    json_result[\"confidence\"] = metadata.confidence\n",
    "    return json.dumps(json_result)"
   ]
  },
  {
   "cell_type": "code",
   "execution_count": null,
   "metadata": {
    "colab": {
     "base_uri": "https://localhost:8080/",
     "height": 55
    },
    "colab_type": "code",
    "executionInfo": {
     "elapsed": 647,
     "status": "ok",
     "timestamp": 1586574944237,
     "user": {
      "displayName": "Lucas",
      "photoUrl": "https://lh3.googleusercontent.com/a-/AOh14GgO-xqdSSwbB8xXos7Shqhpq7QJ06mYVUvdLDRcbQ=s64",
      "userId": "01670254553878112810"
     },
     "user_tz": 180
    },
    "id": "BwadbjArL9wa",
    "outputId": "23401a38-4ce7-4db9-ef84-15b4df32623b"
   },
   "outputs": [],
   "source": [
    "AUDIO_DIR = './drive/My Drive/datasets/sounds/'\n",
    "\n",
    "x = load_audio_file(AUDIO_DIR + 'female.wav')"
   ]
  },
  {
   "cell_type": "code",
   "execution_count": null,
   "metadata": {
    "colab": {},
    "colab_type": "code",
    "id": "R6rQA_YMPKSh"
   },
   "outputs": [],
   "source": [
    "y = ds.stt(x)"
   ]
  },
  {
   "cell_type": "code",
   "execution_count": null,
   "metadata": {
    "colab": {
     "base_uri": "https://localhost:8080/",
     "height": 55
    },
    "colab_type": "code",
    "executionInfo": {
     "elapsed": 806,
     "status": "ok",
     "timestamp": 1586575111889,
     "user": {
      "displayName": "Lucas",
      "photoUrl": "https://lh3.googleusercontent.com/a-/AOh14GgO-xqdSSwbB8xXos7Shqhpq7QJ06mYVUvdLDRcbQ=s64",
      "userId": "01670254553878112810"
     },
     "user_tz": 180
    },
    "id": "hyQwLxHsPnYw",
    "outputId": "407a8021-04bd-4fa2-bafb-67df28251e7c"
   },
   "outputs": [],
   "source": [
    "y.split(' ')"
   ]
  },
  {
   "cell_type": "code",
   "execution_count": null,
   "metadata": {
    "colab": {
     "base_uri": "https://localhost:8080/",
     "height": 55
    },
    "colab_type": "code",
    "executionInfo": {
     "elapsed": 34716,
     "status": "ok",
     "timestamp": 1586575310933,
     "user": {
      "displayName": "Lucas",
      "photoUrl": "https://lh3.googleusercontent.com/a-/AOh14GgO-xqdSSwbB8xXos7Shqhpq7QJ06mYVUvdLDRcbQ=s64",
      "userId": "01670254553878112810"
     },
     "user_tz": 180
    },
    "id": "boPNTyRvQWc4",
    "outputId": "c0bf8e95-1dac-4feb-b91c-91b797991c26"
   },
   "outputs": [],
   "source": [
    "print(metadata_to_string(ds.sttWithMetadata(x)))"
   ]
  },
  {
   "cell_type": "code",
   "execution_count": null,
   "metadata": {
    "colab": {
     "base_uri": "https://localhost:8080/",
     "height": 55
    },
    "colab_type": "code",
    "executionInfo": {
     "elapsed": 34592,
     "status": "ok",
     "timestamp": 1586575345529,
     "user": {
      "displayName": "Lucas",
      "photoUrl": "https://lh3.googleusercontent.com/a-/AOh14GgO-xqdSSwbB8xXos7Shqhpq7QJ06mYVUvdLDRcbQ=s64",
      "userId": "01670254553878112810"
     },
     "user_tz": 180
    },
    "id": "qZ8YugQbQZR6",
    "outputId": "07a21b04-e1e2-43ad-80fa-4c487f94370a"
   },
   "outputs": [],
   "source": [
    "print(metadata_json_output(ds.sttWithMetadata(x)))"
   ]
  }
 ],
 "metadata": {
  "kernelspec": {
   "display_name": "Python 3",
   "language": "python",
   "name": "python3"
  }
 },
 "nbformat": 4,
 "nbformat_minor": 2
}
