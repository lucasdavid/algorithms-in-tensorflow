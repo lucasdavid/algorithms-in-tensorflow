{
 "cells": [
  {
   "cell_type": "markdown",
   "metadata": {
    "id": "Tdt2KMvCbJhC"
   },
   "source": [
    "# Object Detection"
   ]
  },
  {
   "cell_type": "markdown",
   "metadata": {
    "id": "X8iRH8t8bRmW"
   },
   "source": [
    "## Setup"
   ]
  },
  {
   "cell_type": "code",
   "execution_count": null,
   "metadata": {
    "cellView": "form",
    "executionInfo": {
     "elapsed": 2999,
     "status": "ok",
     "timestamp": 1604802885499,
     "user": {
      "displayName": "Lucas",
      "photoUrl": "https://lh3.googleusercontent.com/a-/AOh14GgO-xqdSSwbB8xXos7Shqhpq7QJ06mYVUvdLDRcbQ=s64",
      "userId": "01670254553878112810"
     },
     "user_tz": 180
    },
    "id": "Yb-Cbr29w9mc"
   },
   "outputs": [],
   "source": [
    "#@title\n",
    "\n",
    "import os\n",
    "\n",
    "!pip install --quiet tensorflow_text\n",
    "os.environ[\"TFHUB_MODEL_LOAD_FORMAT\"] = \"COMPRESSED\""
   ]
  },
  {
   "cell_type": "code",
   "execution_count": null,
   "metadata": {
    "cellView": "form",
    "executionInfo": {
     "elapsed": 471,
     "status": "ok",
     "timestamp": 1604803009654,
     "user": {
      "displayName": "Lucas",
      "photoUrl": "https://lh3.googleusercontent.com/a-/AOh14GgO-xqdSSwbB8xXos7Shqhpq7QJ06mYVUvdLDRcbQ=s64",
      "userId": "01670254553878112810"
     },
     "user_tz": 180
    },
    "id": "8w-1HwfJbHSH"
   },
   "outputs": [],
   "source": [
    "#@title\n",
    "\n",
    "import os\n",
    "import math\n",
    "\n",
    "import numpy as np\n",
    "import requests\n",
    "\n",
    "import tensorflow as tf\n",
    "import tensorflow_hub as hub\n",
    "import tensorflow_text as tf_text\n",
    "import tensorflow_datasets as tfds\n",
    "\n",
    "import matplotlib.pyplot as plt\n",
    "import seaborn as sns"
   ]
  },
  {
   "cell_type": "code",
   "execution_count": null,
   "metadata": {
    "executionInfo": {
     "elapsed": 1560,
     "status": "ok",
     "timestamp": 1604802885503,
     "user": {
      "displayName": "Lucas",
      "photoUrl": "https://lh3.googleusercontent.com/a-/AOh14GgO-xqdSSwbB8xXos7Shqhpq7QJ06mYVUvdLDRcbQ=s64",
      "userId": "01670254553878112810"
     },
     "user_tz": 180
    },
    "id": "NIGCSW7Oz2PK"
   },
   "outputs": [],
   "source": [
    "sns.set_style(\"whitegrid\", {'axes.grid' : False})"
   ]
  },
  {
   "cell_type": "code",
   "execution_count": null,
   "metadata": {
    "colab": {
     "base_uri": "https://localhost:8080/"
    },
    "executionInfo": {
     "elapsed": 1035,
     "status": "ok",
     "timestamp": 1604802885505,
     "user": {
      "displayName": "Lucas",
      "photoUrl": "https://lh3.googleusercontent.com/a-/AOh14GgO-xqdSSwbB8xXos7Shqhpq7QJ06mYVUvdLDRcbQ=s64",
      "userId": "01670254553878112810"
     },
     "user_tz": 180
    },
    "id": "fBNw2VBWiHbb",
    "outputId": "5168b39c-279e-44e2-e1e4-947c9d92b319"
   },
   "outputs": [],
   "source": [
    "%load_ext tensorboard"
   ]
  },
  {
   "cell_type": "code",
   "execution_count": null,
   "metadata": {
    "executionInfo": {
     "elapsed": 505,
     "status": "ok",
     "timestamp": 1604802965987,
     "user": {
      "displayName": "Lucas",
      "photoUrl": "https://lh3.googleusercontent.com/a-/AOh14GgO-xqdSSwbB8xXos7Shqhpq7QJ06mYVUvdLDRcbQ=s64",
      "userId": "01670254553878112810"
     },
     "user_tz": 180
    },
    "id": "EP_atMIKteu_"
   },
   "outputs": [],
   "source": [
    "import requests\n",
    "\n",
    "def download_image(url, path):\n",
    "    r = requests.get(url, allow_redirects=True)\n",
    "    with open(path, 'wb') as f:\n",
    "        f.write(r.content)\n",
    "    return path\n",
    "\n",
    "def plot(y, titles=None):\n",
    "    for i, image in enumerate(y):\n",
    "        if image is None:\n",
    "            plt.subplot(1, len(y), i+1)\n",
    "            plt.axis('off')\n",
    "            continue\n",
    "            \n",
    "        t = titles[i] if titles else None\n",
    "        plt.subplot(1, len(y), i+1, title=t)\n",
    "        plt.imshow(image)\n",
    "        plt.axis('off')\n",
    "    plt.tight_layout()"
   ]
  },
  {
   "cell_type": "markdown",
   "metadata": {
    "id": "YF9g8oVyceBT"
   },
   "source": [
    "## Model Definition"
   ]
  },
  {
   "cell_type": "code",
   "execution_count": null,
   "metadata": {
    "colab": {
     "base_uri": "https://localhost:8080/"
    },
    "executionInfo": {
     "elapsed": 53261,
     "status": "ok",
     "timestamp": 1604802952360,
     "user": {
      "displayName": "Lucas",
      "photoUrl": "https://lh3.googleusercontent.com/a-/AOh14GgO-xqdSSwbB8xXos7Shqhpq7QJ06mYVUvdLDRcbQ=s64",
      "userId": "01670254553878112810"
     },
     "user_tz": 180
    },
    "id": "kPVheMF21_g5",
    "outputId": "453f986e-5003-42a3-ad0c-0f7fd27bfaa9"
   },
   "outputs": [],
   "source": [
    "detector = hub.load(\"https://tfhub.dev/tensorflow/efficientdet/d4/1\")"
   ]
  },
  {
   "cell_type": "markdown",
   "metadata": {
    "id": "2zQKopAH2AkM"
   },
   "source": [
    "## Application"
   ]
  },
  {
   "cell_type": "code",
   "execution_count": null,
   "metadata": {
    "executionInfo": {
     "elapsed": 580,
     "status": "ok",
     "timestamp": 1604802952949,
     "user": {
      "displayName": "Lucas",
      "photoUrl": "https://lh3.googleusercontent.com/a-/AOh14GgO-xqdSSwbB8xXos7Shqhpq7QJ06mYVUvdLDRcbQ=s64",
      "userId": "01670254553878112810"
     },
     "user_tz": 180
    },
    "id": "CykjVs9m2C2z"
   },
   "outputs": [],
   "source": [
    "INPUT_SHAPE = [299, 299, 3]\n",
    "\n",
    "DATA_DIR = 'images/'\n",
    "IMAGES = [\n",
    "  'https://raw.githubusercontent.com/keisen/tf-keras-vis/master/examples/images/goldfish.jpg',\n",
    "  'https://raw.githubusercontent.com/keisen/tf-keras-vis/master/examples/images/bear.jpg',\n",
    "  'https://raw.githubusercontent.com/keisen/tf-keras-vis/master/examples/images/soldiers.jpg',\n",
    "  'https://3.bp.blogspot.com/-W__wiaHUjwI/Vt3Grd8df0I/AAAAAAAAA78/7xqUNj8ujtY/s400/image02.png'\n",
    "]"
   ]
  },
  {
   "cell_type": "code",
   "execution_count": null,
   "metadata": {
    "cellView": "form",
    "executionInfo": {
     "elapsed": 1323,
     "status": "ok",
     "timestamp": 1604803026063,
     "user": {
      "displayName": "Lucas",
      "photoUrl": "https://lh3.googleusercontent.com/a-/AOh14GgO-xqdSSwbB8xXos7Shqhpq7QJ06mYVUvdLDRcbQ=s64",
      "userId": "01670254553878112810"
     },
     "user_tz": 180
    },
    "id": "S9CUIApstUXj"
   },
   "outputs": [],
   "source": [
    "#@title\n",
    "\n",
    "\n",
    "os.makedirs(os.path.join(DATA_DIR, 'unknown'), exist_ok=True)\n",
    "\n",
    "for i in IMAGES:\n",
    "    _, f = os.path.split(i)\n",
    "    download_image(i, os.path.join(DATA_DIR, 'unknown', f))"
   ]
  },
  {
   "cell_type": "code",
   "execution_count": null,
   "metadata": {
    "colab": {
     "base_uri": "https://localhost:8080/"
    },
    "executionInfo": {
     "elapsed": 575,
     "status": "ok",
     "timestamp": 1604803033363,
     "user": {
      "displayName": "Lucas",
      "photoUrl": "https://lh3.googleusercontent.com/a-/AOh14GgO-xqdSSwbB8xXos7Shqhpq7QJ06mYVUvdLDRcbQ=s64",
      "userId": "01670254553878112810"
     },
     "user_tz": 180
    },
    "id": "zfxmcj9gtUkJ",
    "outputId": "8932b163-049e-47f5-d246-3975bb95d74f"
   },
   "outputs": [],
   "source": [
    "images_set = (\n",
    "    tf.keras.preprocessing.image_dataset_from_directory(\n",
    "        DATA_DIR,\n",
    "        image_size=INPUT_SHAPE[:2],\n",
    "        batch_size=32,\n",
    "        shuffle=False)\n",
    "    .cache()\n",
    "    .prefetch(buffer_size=tf.data.experimental.AUTOTUNE))"
   ]
  },
  {
   "cell_type": "code",
   "execution_count": null,
   "metadata": {
    "colab": {
     "base_uri": "https://localhost:8080/",
     "height": 231
    },
    "executionInfo": {
     "elapsed": 2482,
     "status": "ok",
     "timestamp": 1604803035276,
     "user": {
      "displayName": "Lucas",
      "photoUrl": "https://lh3.googleusercontent.com/a-/AOh14GgO-xqdSSwbB8xXos7Shqhpq7QJ06mYVUvdLDRcbQ=s64",
      "userId": "01670254553878112810"
     },
     "user_tz": 180
    },
    "id": "b-r-Ce73tVy0",
    "outputId": "1acd3c01-dc58-47af-b7a9-111a06ea2a4d"
   },
   "outputs": [],
   "source": [
    "#@title\n",
    "\n",
    "plt.figure(figsize=(12, 4))\n",
    "for images, _ in images_set.take(1):\n",
    "    for i, image in enumerate(images):\n",
    "        plt.subplot(math.ceil(len(images) / 4), 4, i+1)\n",
    "        plt.imshow(image.numpy().astype('uint8'))\n",
    "        plt.axis('off')\n",
    "\n",
    "plt.tight_layout()"
   ]
  },
  {
   "cell_type": "code",
   "execution_count": null,
   "metadata": {
    "executionInfo": {
     "elapsed": 474,
     "status": "ok",
     "timestamp": 1604803899679,
     "user": {
      "displayName": "Lucas",
      "photoUrl": "https://lh3.googleusercontent.com/a-/AOh14GgO-xqdSSwbB8xXos7Shqhpq7QJ06mYVUvdLDRcbQ=s64",
      "userId": "01670254553878112810"
     },
     "user_tz": 180
    },
    "id": "PeFIOSanxBz0"
   },
   "outputs": [],
   "source": [
    "inputs = tf.cast(images[3:4], tf.uint8)"
   ]
  },
  {
   "cell_type": "code",
   "execution_count": null,
   "metadata": {
    "executionInfo": {
     "elapsed": 7721,
     "status": "ok",
     "timestamp": 1604803629519,
     "user": {
      "displayName": "Lucas",
      "photoUrl": "https://lh3.googleusercontent.com/a-/AOh14GgO-xqdSSwbB8xXos7Shqhpq7QJ06mYVUvdLDRcbQ=s64",
      "userId": "01670254553878112810"
     },
     "user_tz": 180
    },
    "id": "RAsH_G7stXcH"
   },
   "outputs": [],
   "source": [
    "y = detector(inputs)\n",
    "class_ids = y[\"detection_classes\"]"
   ]
  },
  {
   "cell_type": "code",
   "execution_count": null,
   "metadata": {
    "colab": {
     "base_uri": "https://localhost:8080/"
    },
    "executionInfo": {
     "elapsed": 463,
     "status": "ok",
     "timestamp": 1604803672907,
     "user": {
      "displayName": "Lucas",
      "photoUrl": "https://lh3.googleusercontent.com/a-/AOh14GgO-xqdSSwbB8xXos7Shqhpq7QJ06mYVUvdLDRcbQ=s64",
      "userId": "01670254553878112810"
     },
     "user_tz": 180
    },
    "id": "Txwq6_sbt_2v",
    "outputId": "a5fa0971-d8f8-4daa-b26e-cade358e0622"
   },
   "outputs": [],
   "source": [
    "print(*y.keys(), sep='\\n')"
   ]
  },
  {
   "cell_type": "code",
   "execution_count": null,
   "metadata": {
    "colab": {
     "base_uri": "https://localhost:8080/"
    },
    "executionInfo": {
     "elapsed": 481,
     "status": "ok",
     "timestamp": 1604803714435,
     "user": {
      "displayName": "Lucas",
      "photoUrl": "https://lh3.googleusercontent.com/a-/AOh14GgO-xqdSSwbB8xXos7Shqhpq7QJ06mYVUvdLDRcbQ=s64",
      "userId": "01670254553878112810"
     },
     "user_tz": 180
    },
    "id": "Eayj1snPv8rq",
    "outputId": "63d7f02c-1682-4065-f9f8-65b7adaa21c5"
   },
   "outputs": [],
   "source": [
    "y['num_detections']"
   ]
  },
  {
   "cell_type": "code",
   "execution_count": null,
   "metadata": {
    "colab": {
     "base_uri": "https://localhost:8080/"
    },
    "executionInfo": {
     "elapsed": 436,
     "status": "ok",
     "timestamp": 1604803804254,
     "user": {
      "displayName": "Lucas",
      "photoUrl": "https://lh3.googleusercontent.com/a-/AOh14GgO-xqdSSwbB8xXos7Shqhpq7QJ06mYVUvdLDRcbQ=s64",
      "userId": "01670254553878112810"
     },
     "user_tz": 180
    },
    "id": "jsgEtdYNwqgo",
    "outputId": "eea168c4-deaa-4605-d845-1dc5426ad838"
   },
   "outputs": [],
   "source": [
    "y['detection_classes']"
   ]
  },
  {
   "cell_type": "code",
   "execution_count": null,
   "metadata": {
    "colab": {
     "base_uri": "https://localhost:8080/"
    },
    "executionInfo": {
     "elapsed": 442,
     "status": "ok",
     "timestamp": 1604803734822,
     "user": {
      "displayName": "Lucas",
      "photoUrl": "https://lh3.googleusercontent.com/a-/AOh14GgO-xqdSSwbB8xXos7Shqhpq7QJ06mYVUvdLDRcbQ=s64",
      "userId": "01670254553878112810"
     },
     "user_tz": 180
    },
    "id": "VApv6FwZu6VS",
    "outputId": "ced21a3b-9936-458c-bc00-ac027dc96de8"
   },
   "outputs": [],
   "source": [
    "y['detection_boxes']"
   ]
  },
  {
   "cell_type": "code",
   "execution_count": null,
   "metadata": {
    "colab": {
     "base_uri": "https://localhost:8080/",
     "height": 290
    },
    "executionInfo": {
     "elapsed": 1136,
     "status": "ok",
     "timestamp": 1604804484604,
     "user": {
      "displayName": "Lucas",
      "photoUrl": "https://lh3.googleusercontent.com/a-/AOh14GgO-xqdSSwbB8xXos7Shqhpq7QJ06mYVUvdLDRcbQ=s64",
      "userId": "01670254553878112810"
     },
     "user_tz": 180
    },
    "id": "EY3dcEIkwuIJ",
    "outputId": "da8499ee-83ea-483a-f747-3b3aa8e9c4f6"
   },
   "outputs": [],
   "source": [
    "import matplotlib.patches as patches\n",
    "\n",
    "fig, ax = plt.subplots(1)\n",
    "\n",
    "ax.imshow(inputs[0].numpy())\n",
    "\n",
    "# for y['detection_boxes']:\n",
    "ax.add_patch(patches.Rectangle((50,100),40,30,linewidth=1,edgecolor='r',facecolor='none'))\n",
    "\n",
    ";"
   ]
  }
 ],
 "metadata": {
  "jupytext": {
   "main_language": "python"
  },
  "kernelspec": {
   "display_name": "Python 3",
   "name": "python3"
  }
 },
 "nbformat": 4,
 "nbformat_minor": 2
}
