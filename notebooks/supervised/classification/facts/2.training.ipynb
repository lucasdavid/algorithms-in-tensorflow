{
 "cells": [
  {
   "cell_type": "markdown",
   "metadata": {
    "id": "99O9ukh3S6UR"
   },
   "source": [
    "# Facts: training\n"
   ]
  },
  {
   "cell_type": "code",
   "execution_count": null,
   "metadata": {
    "cellView": "form",
    "colab": {
     "base_uri": "https://localhost:8080/"
    },
    "executionInfo": {
     "elapsed": 1913040,
     "status": "ok",
     "timestamp": 1605546850471,
     "user": {
      "displayName": "Lucas",
      "photoUrl": "https://lh3.googleusercontent.com/a-/AOh14GgO-xqdSSwbB8xXos7Shqhpq7QJ06mYVUvdLDRcbQ=s64",
      "userId": "01670254553878112810"
     },
     "user_tz": 180
    },
    "id": "NKy65_S_4p0P",
    "outputId": "d2646993-5b40-47e4-e36b-34a9fa3ba7f3"
   },
   "outputs": [],
   "source": [
    "#@title\n",
    "\n",
    "!pip -q install shap\n",
    "\n",
    "import os\n",
    "from functools import reduce\n",
    "\n",
    "import numpy as np\n",
    "import pandas as pd\n",
    "import tensorflow as tf\n",
    "import shap\n",
    "from sklearn.preprocessing import LabelEncoder, StandardScaler\n",
    "\n",
    "import matplotlib.pyplot as plt\n",
    "from mpl_toolkits.mplot3d import Axes3D\n",
    "import seaborn as sns\n",
    "from google.colab import drive\n",
    "\n",
    "sns.set(palette=sns.color_palette(\"hls\", 8))\n",
    "pd.set_option('display.max_columns', None)\n",
    "# pd.set_option('display.max_colwidth', None)\n",
    "\n",
    "from IPython.display import display_html\n",
    "def display_side_by_side(*args):\n",
    "    html_str=''\n",
    "    for df in args:\n",
    "        html_str+=df.to_html()\n",
    "    display_html(html_str.replace('table','table style=\"display:inline\"'),raw=True)\n",
    "\n",
    "drive.mount('/content/drive')"
   ]
  },
  {
   "cell_type": "code",
   "execution_count": null,
   "metadata": {
    "executionInfo": {
     "elapsed": 1913033,
     "status": "ok",
     "timestamp": 1605546850474,
     "user": {
      "displayName": "Lucas",
      "photoUrl": "https://lh3.googleusercontent.com/a-/AOh14GgO-xqdSSwbB8xXos7Shqhpq7QJ06mYVUvdLDRcbQ=s64",
      "userId": "01670254553878112810"
     },
     "user_tz": 180
    },
    "id": "c9iKdvc1TnZa"
   },
   "outputs": [],
   "source": [
    "SEED = np.random.RandomState(180120342)\n",
    "\n",
    "DATASET = '/content/drive/My Drive/datasets/facts.csv'"
   ]
  },
  {
   "cell_type": "code",
   "execution_count": null,
   "metadata": {
    "colab": {
     "base_uri": "https://localhost:8080/",
     "height": 417
    },
    "executionInfo": {
     "elapsed": 1913458,
     "status": "error",
     "timestamp": 1605546850917,
     "user": {
      "displayName": "Lucas",
      "photoUrl": "https://lh3.googleusercontent.com/a-/AOh14GgO-xqdSSwbB8xXos7Shqhpq7QJ06mYVUvdLDRcbQ=s64",
      "userId": "01670254553878112810"
     },
     "user_tz": 180
    },
    "id": "P2qdrJ6BpCI8",
    "outputId": "a78ca02b-0ed9-4e82-fc39-22f070041489"
   },
   "outputs": [],
   "source": [
    "x = pd.read_csv(DATASET)\n",
    "\n",
    "x.head()"
   ]
  },
  {
   "cell_type": "code",
   "execution_count": null,
   "metadata": {
    "executionInfo": {
     "elapsed": 1913438,
     "status": "aborted",
     "timestamp": 1605546850913,
     "user": {
      "displayName": "Lucas",
      "photoUrl": "https://lh3.googleusercontent.com/a-/AOh14GgO-xqdSSwbB8xXos7Shqhpq7QJ06mYVUvdLDRcbQ=s64",
      "userId": "01670254553878112810"
     },
     "user_tz": 180
    },
    "id": "uGl8YQcaaDOM"
   },
   "outputs": [],
   "source": [
    "xt = x.title.copy()\n",
    "xt[pd.isnull(xt)] = ''\n",
    "x['full_title_text'] = xt + ' ' + x.text\n",
    "\n",
    "x.head()"
   ]
  },
  {
   "cell_type": "code",
   "execution_count": null,
   "metadata": {
    "executionInfo": {
     "elapsed": 1913424,
     "status": "aborted",
     "timestamp": 1605546850915,
     "user": {
      "displayName": "Lucas",
      "photoUrl": "https://lh3.googleusercontent.com/a-/AOh14GgO-xqdSSwbB8xXos7Shqhpq7QJ06mYVUvdLDRcbQ=s64",
      "userId": "01670254553878112810"
     },
     "user_tz": 180
    },
    "id": "8doX4d3TpEsU"
   },
   "outputs": [],
   "source": [
    "plt.figure(figsize=(10, 4))\n",
    "\n",
    "plt.subplot(131)\n",
    "sns.barplot(*np.unique(x.source.astype(str), return_counts=True))\n",
    "plt.xticks(rotation=-45)\n",
    "\n",
    "plt.subplot(132)\n",
    "sns.barplot(*np.unique(x.stage, return_counts=True))\n",
    "\n",
    "plt.subplot(133)\n",
    "sns.barplot(*np.unique(x.target, return_counts=True))\n",
    "plt.tight_layout()\n",
    "\n",
    "plt.figure(figsize=(10, 4))\n",
    "sns.barplot(*np.unique(x.category.astype(str), return_counts=True))\n",
    "plt.xticks(rotation=90)\n",
    "plt.tight_layout();"
   ]
  },
  {
   "cell_type": "markdown",
   "metadata": {
    "id": "rVU29XSaZf-I"
   },
   "source": [
    "### Determining Categories"
   ]
  },
  {
   "cell_type": "code",
   "execution_count": null,
   "metadata": {
    "id": "HW5MHj6cbATw"
   },
   "outputs": [],
   "source": [
    "x_train = x[x.stage == 'train'][['full_title_text', 'category']].dropna()"
   ]
  },
  {
   "cell_type": "code",
   "execution_count": null,
   "metadata": {
    "colab": {
     "base_uri": "https://localhost:8080/",
     "height": 206
    },
    "executionInfo": {
     "elapsed": 672,
     "status": "ok",
     "timestamp": 1593911462531,
     "user": {
      "displayName": "Lucas",
      "photoUrl": "https://lh3.googleusercontent.com/a-/AOh14GgO-xqdSSwbB8xXos7Shqhpq7QJ06mYVUvdLDRcbQ=s64",
      "userId": "01670254553878112810"
     },
     "user_tz": 180
    },
    "id": "XK-OKXmKhmZ1",
    "outputId": "ef27fbc6-9b6d-4672-a9ff-474ff2b0ab39"
   },
   "outputs": [],
   "source": [
    "x_train.head()"
   ]
  },
  {
   "cell_type": "code",
   "execution_count": null,
   "metadata": {
    "colab": {
     "base_uri": "https://localhost:8080/",
     "height": 368
    },
    "executionInfo": {
     "elapsed": 116419,
     "status": "error",
     "timestamp": 1593911968193,
     "user": {
      "displayName": "Lucas",
      "photoUrl": "https://lh3.googleusercontent.com/a-/AOh14GgO-xqdSSwbB8xXos7Shqhpq7QJ06mYVUvdLDRcbQ=s64",
      "userId": "01670254553878112810"
     },
     "user_tz": 180
    },
    "id": "kC5urB5hZ0md",
    "outputId": "5c17d496-0dfd-42e1-a0d1-c59ccf55248a"
   },
   "outputs": [],
   "source": [
    "from sklearn import metrics\n",
    "\n",
    "from sklearn.pipeline import Pipeline\n",
    "from sklearn.linear_model import LinearRegression\n",
    "from sklearn.feature_extraction.text import TfidfVectorizer\n",
    "\n",
    "category_m = Pipeline([\n",
    "    ('tfidf', TfidfVectorizer(strip_accents='unicode',\n",
    "                              stop_words='english',\n",
    "                              ngram_range=(1, 3),\n",
    "                              max_features=4096,\n",
    "                              lowercase=True)),\n",
    "    ('rf', LinearRegression())\n",
    "])\n",
    "\n",
    "category_m.fit(x_train.full_title_text, x_train.category.astype('str'));"
   ]
  },
  {
   "cell_type": "code",
   "execution_count": null,
   "metadata": {
    "colab": {
     "base_uri": "https://localhost:8080/",
     "height": 34
    },
    "executionInfo": {
     "elapsed": 780,
     "status": "ok",
     "timestamp": 1593910572584,
     "user": {
      "displayName": "Lucas",
      "photoUrl": "https://lh3.googleusercontent.com/a-/AOh14GgO-xqdSSwbB8xXos7Shqhpq7QJ06mYVUvdLDRcbQ=s64",
      "userId": "01670254553878112810"
     },
     "user_tz": 180
    },
    "id": "-Ompvg6AcbxC",
    "outputId": "3cc6adcc-fafd-4687-bf6c-5e597bcedf92"
   },
   "outputs": [],
   "source": [
    "e_train.shape"
   ]
  }
 ],
 "metadata": {
  "jupytext": {
   "main_language": "python"
  },
  "kernelspec": {
   "display_name": "Python 3",
   "name": "python3"
  }
 },
 "nbformat": 4,
 "nbformat_minor": 2
}
