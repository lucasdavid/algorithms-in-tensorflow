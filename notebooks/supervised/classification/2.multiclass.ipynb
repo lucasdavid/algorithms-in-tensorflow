{
 "cells": [
  {
   "cell_type": "markdown",
   "metadata": {
    "id": "99O9ukh3S6UR"
   },
   "source": [
    "# Classificação: fake-news"
   ]
  },
  {
   "cell_type": "markdown",
   "metadata": {
    "id": "kw8wwbsMI7S4"
   },
   "source": [
    "## Introdução"
   ]
  },
  {
   "cell_type": "code",
   "execution_count": null,
   "metadata": {
    "cellView": "form",
    "executionInfo": {
     "elapsed": 3083,
     "status": "ok",
     "timestamp": 1601914983550,
     "user": {
      "displayName": "Lucas",
      "photoUrl": "https://lh3.googleusercontent.com/a-/AOh14GgO-xqdSSwbB8xXos7Shqhpq7QJ06mYVUvdLDRcbQ=s64",
      "userId": "01670254553878112810"
     },
     "user_tz": 180
    },
    "id": "NKy65_S_4p0P"
   },
   "outputs": [],
   "source": [
    "#@title\n",
    "\n",
    "!pip -q install shap\n",
    "\n",
    "import os\n",
    "from functools import reduce\n",
    "\n",
    "import numpy as np\n",
    "import pandas as pd\n",
    "import tensorflow as tf\n",
    "import shap\n",
    "\n",
    "import matplotlib.pyplot as plt\n",
    "from mpl_toolkits.mplot3d import Axes3D\n",
    "import seaborn as sns\n",
    "from google.colab import drive"
   ]
  },
  {
   "cell_type": "code",
   "execution_count": null,
   "metadata": {
    "cellView": "both",
    "colab": {
     "base_uri": "https://localhost:8080/",
     "height": 106
    },
    "id": "cKOlw3EVGvcv",
    "outputId": "068ad37a-29ca-4297-f9c4-f35df6484a65"
   },
   "outputs": [],
   "source": [
    "#@title\n",
    "\n",
    "sns.set(palette=sns.color_palette(\"hls\", 8))\n",
    "pd.set_option('display.max_columns', None)\n",
    "pd.set_option('display.max_colwidth', None)\n",
    "\n",
    "from IPython.display import display_html\n",
    "def display_side_by_side(*args):\n",
    "    html_str=''\n",
    "    for df in args:\n",
    "        html_str+=df.to_html()\n",
    "    display_html(html_str.replace('table','table style=\"display:inline\"'),raw=True)\n",
    "\n",
    "drive.mount('/content/drive')"
   ]
  },
  {
   "cell_type": "markdown",
   "metadata": {
    "id": "c7AfUTAfKGWh"
   },
   "source": [
    "## Coletando as informações"
   ]
  },
  {
   "cell_type": "code",
   "execution_count": null,
   "metadata": {
    "executionInfo": {
     "elapsed": 790,
     "status": "ok",
     "timestamp": 1601915010218,
     "user": {
      "displayName": "Lucas",
      "photoUrl": "https://lh3.googleusercontent.com/a-/AOh14GgO-xqdSSwbB8xXos7Shqhpq7QJ06mYVUvdLDRcbQ=s64",
      "userId": "01670254553878112810"
     },
     "user_tz": 180
    },
    "id": "EDU2wwT94p0g"
   },
   "outputs": [],
   "source": [
    "DATASET = ('/content/drive/My Drive/Colab Notebooks/cs-no/'\n",
    "           'datasets/572515_1037534_bundle_archive.zip')"
   ]
  },
  {
   "cell_type": "code",
   "execution_count": null,
   "metadata": {
    "executionInfo": {
     "elapsed": 5850,
     "status": "ok",
     "timestamp": 1601915015287,
     "user": {
      "displayName": "Lucas",
      "photoUrl": "https://lh3.googleusercontent.com/a-/AOh14GgO-xqdSSwbB8xXos7Shqhpq7QJ06mYVUvdLDRcbQ=s64",
      "userId": "01670254553878112810"
     },
     "user_tz": 180
    },
    "id": "-llQQgGuE5U3"
   },
   "outputs": [],
   "source": [
    "import zipfile\n",
    "from sklearn.model_selection import train_test_split\n",
    "\n",
    "with zipfile.ZipFile(DATASET) as z:\n",
    "    z.extractall('./ds/')\n",
    "\n",
    "t, f = (pd.read_csv('./ds/True.csv'),\n",
    "        pd.read_csv('./ds/Fake.csv'))\n",
    "\n",
    "def preprocess(t, f):\n",
    "    t['target'] = 'true'\n",
    "    f['target'] = 'fake'\n",
    "\n",
    "    x = t.append(f)\n",
    "\n",
    "    ds = x.date.str.strip()\n",
    "    x['created_at'] = pd.to_datetime(ds, format='%B %d, %Y', errors='coerce')\n",
    "    x.loc[x.created_at.isnull(), 'created_at'] = pd.to_datetime(ds[x.created_at.isnull()], format='%b %d, %Y', errors='coerce')\n",
    "    x.loc[x.created_at.isnull(), 'created_at'] = pd.to_datetime(ds[x.created_at.isnull()], format='%d-%b-%y', errors='coerce')\n",
    "\n",
    "    return x.dropna()\n",
    "\n",
    "x = preprocess(t, f)"
   ]
  },
  {
   "cell_type": "code",
   "execution_count": null,
   "metadata": {
    "colab": {
     "base_uri": "https://localhost:8080/",
     "height": 741
    },
    "executionInfo": {
     "elapsed": 5847,
     "status": "ok",
     "timestamp": 1601915015289,
     "user": {
      "displayName": "Lucas",
      "photoUrl": "https://lh3.googleusercontent.com/a-/AOh14GgO-xqdSSwbB8xXos7Shqhpq7QJ06mYVUvdLDRcbQ=s64",
      "userId": "01670254553878112810"
     },
     "user_tz": 180
    },
    "id": "3rYDuAjX-pAY",
    "outputId": "769b2f2a-de03-4fe5-a6e9-c9c0261813e1"
   },
   "outputs": [],
   "source": [
    "def describe(x):\n",
    "    print('samples:', len(x))\n",
    "    print('features:', *x.columns)\n",
    "    print('timeframe:', x.created_at.min().date(), x.created_at.max().date())\n",
    "\n",
    "describe(x)\n",
    "\n",
    "x.head(1)"
   ]
  },
  {
   "cell_type": "markdown",
   "metadata": {
    "id": "eCEEhSDT3_Yo"
   },
   "source": [
    "## Definindo os intervalos de treinamento e teste\n",
    "\n",
    "A separação entre treino e teste é muitas vezes realizada de forma aleatória.\n",
    "É tão comum, que podemos observar utilitários para fazer isso no próprio sklearn (o [train_test_split](https://scikit-learn.org/stable/modules/generated/sklearn.model_selection.train_test_split.html)). O objetivo dessa estratégia é gerar uma divisão próxima à distribuição original.\n",
    "\n",
    "Supondo que ambos subconjuntos produzidos sejam estatísticamente representativos em todas as suas características, eles apresentam o menor enviesamento e retenção de informação. Entretanto, isso pode gerar uma preocupação séria: estamos injetando informação do futuro para predizer o passado? Pense no seguinte cenário: Obama foi o presidente até 2016. Até então, haviam poucas menções ao atual presidente Trump (eleito em 2016) nas reportagens relacionadas à política.\n",
    "\n",
    "Se nosso estimador se firmar em eventos pontuais (ex: palavras como \"Obama\" ou \"Trump\") para tomar suas decisões, podemos garantir que estes eventos irão ocorrer novamente? Como podemos avaliar a degradação de um modelo?\n",
    "\n",
    "A separação temporal --- onde o passado é utilizado como treino e a informação mais recente é utilizada como teste --- também é uma estratégia de separação válida. Garantimos que o futuro não seja misturado com o passado e fortificamos o teste, sendo mais aderente com o cenário real."
   ]
  },
  {
   "cell_type": "code",
   "execution_count": null,
   "metadata": {
    "colab": {
     "base_uri": "https://localhost:8080/",
     "height": 208
    },
    "executionInfo": {
     "elapsed": 5844,
     "status": "ok",
     "timestamp": 1601915015291,
     "user": {
      "displayName": "Lucas",
      "photoUrl": "https://lh3.googleusercontent.com/a-/AOh14GgO-xqdSSwbB8xXos7Shqhpq7QJ06mYVUvdLDRcbQ=s64",
      "userId": "01670254553878112810"
     },
     "user_tz": 180
    },
    "id": "ZFA_ejoI3Xpp",
    "outputId": "9d23e2b6-f648-428c-eb4b-cc52f3bed35e"
   },
   "outputs": [],
   "source": [
    "TEST_SIZE = .8\n",
    "x = x.sort_values('created_at')\n",
    "\n",
    "_at = int(len(x)*(1-TEST_SIZE))\n",
    "train, test = x[:_at], x[_at:]\n",
    "\n",
    "print(f'{len(train)} samples will be used for training.')\n",
    "print('timeframe:', train.created_at.min().date(), train.created_at.max().date())\n",
    "print('classes:', *zip(*np.unique(train.target, return_counts=True)), sep='\\n')\n",
    "print()\n",
    "\n",
    "print(f'{len(test)} samples will be used for testing.')\n",
    "print('timeframe:', test.created_at.min().date(), test.created_at.max().date())\n",
    "print('classes:', *zip(*np.unique(test.target, return_counts=True)), sep='\\n')"
   ]
  },
  {
   "cell_type": "code",
   "execution_count": null,
   "metadata": {
    "colab": {
     "base_uri": "https://localhost:8080/",
     "height": 196
    },
    "executionInfo": {
     "elapsed": 6090,
     "status": "ok",
     "timestamp": 1601915015542,
     "user": {
      "displayName": "Lucas",
      "photoUrl": "https://lh3.googleusercontent.com/a-/AOh14GgO-xqdSSwbB8xXos7Shqhpq7QJ06mYVUvdLDRcbQ=s64",
      "userId": "01670254553878112810"
     },
     "user_tz": 180
    },
    "id": "XNsEPgNqjifq",
    "outputId": "71242fb2-0760-434b-9ab1-9a09b2545e57"
   },
   "outputs": [],
   "source": [
    "plt.figure(figsize=(1, 2))\n",
    "sns.barplot(*np.unique(train.target, return_counts=True));"
   ]
  },
  {
   "cell_type": "markdown",
   "metadata": {
    "id": "WZqSGttnQn9L"
   },
   "source": [
    "## Distinguindo notícias falsas de verdadeiras a partir do texto"
   ]
  },
  {
   "cell_type": "code",
   "execution_count": null,
   "metadata": {
    "colab": {
     "base_uri": "https://localhost:8080/",
     "height": 248
    },
    "executionInfo": {
     "elapsed": 6443,
     "status": "ok",
     "timestamp": 1601915015898,
     "user": {
      "displayName": "Lucas",
      "photoUrl": "https://lh3.googleusercontent.com/a-/AOh14GgO-xqdSSwbB8xXos7Shqhpq7QJ06mYVUvdLDRcbQ=s64",
      "userId": "01670254553878112810"
     },
     "user_tz": 180
    },
    "id": "teHF24Wzymf0",
    "outputId": "64c171d2-fc95-45f8-9e8d-8010501b0ee5"
   },
   "outputs": [],
   "source": [
    "from imblearn.over_sampling import RandomOverSampler\n",
    "\n",
    "truth_s = RandomOverSampler()\n",
    "\n",
    "z, y = np.asarray(train.text).reshape(-1, 1), train.target\n",
    "z, y = truth_s.fit_resample(z, y)\n",
    "z = z.ravel()\n",
    "\n",
    "plt.figure(figsize=(1, 2))\n",
    "sns.barplot(*np.unique(y, return_counts=True));"
   ]
  },
  {
   "cell_type": "code",
   "execution_count": null,
   "metadata": {
    "executionInfo": {
     "elapsed": 34162,
     "status": "ok",
     "timestamp": 1601915043621,
     "user": {
      "displayName": "Lucas",
      "photoUrl": "https://lh3.googleusercontent.com/a-/AOh14GgO-xqdSSwbB8xXos7Shqhpq7QJ06mYVUvdLDRcbQ=s64",
      "userId": "01670254553878112810"
     },
     "user_tz": 180
    },
    "id": "QdeU19KuQlPN"
   },
   "outputs": [],
   "source": [
    "from sklearn import metrics\n",
    "\n",
    "from sklearn.pipeline import Pipeline\n",
    "from sklearn.linear_model import LogisticRegression\n",
    "from sklearn.feature_extraction.text import TfidfVectorizer\n",
    "\n",
    "truth_m = Pipeline([\n",
    "    ('tfidf', TfidfVectorizer(strip_accents='unicode',\n",
    "                              stop_words='english',\n",
    "                              ngram_range=(1, 3),\n",
    "                              max_features=4096,\n",
    "                              lowercase=True)),\n",
    "    ('lr', LogisticRegression())\n",
    "])\n",
    "\n",
    "truth_m.fit(z, y);"
   ]
  },
  {
   "cell_type": "markdown",
   "metadata": {
    "id": "qMkXX8BJ01Xx"
   },
   "source": [
    "### Explicando o modelo"
   ]
  },
  {
   "cell_type": "markdown",
   "metadata": {
    "id": "mqi_MDWo08pa"
   },
   "source": [
    "Há muitos coeficientes para serem explicados ao mesmo tempo:"
   ]
  },
  {
   "cell_type": "code",
   "execution_count": null,
   "metadata": {
    "colab": {
     "base_uri": "https://localhost:8080/",
     "height": 196
    },
    "executionInfo": {
     "elapsed": 34519,
     "status": "ok",
     "timestamp": 1601915043981,
     "user": {
      "displayName": "Lucas",
      "photoUrl": "https://lh3.googleusercontent.com/a-/AOh14GgO-xqdSSwbB8xXos7Shqhpq7QJ06mYVUvdLDRcbQ=s64",
      "userId": "01670254553878112810"
     },
     "user_tz": 180
    },
    "id": "J2WdP7Ct0jV3",
    "outputId": "80e584aa-86fa-40f8-f4bb-e86145245c36"
   },
   "outputs": [],
   "source": [
    "truth_tfidf = truth_m.named_steps['tfidf']\n",
    "truth_lr = truth_m.named_steps['lr']\n",
    "\n",
    "plt.figure(figsize=(5, 2))\n",
    "sns.distplot(truth_lr.coef_);"
   ]
  },
  {
   "cell_type": "code",
   "execution_count": null,
   "metadata": {
    "executionInfo": {
     "elapsed": 35315,
     "status": "ok",
     "timestamp": 1601915044781,
     "user": {
      "displayName": "Lucas",
      "photoUrl": "https://lh3.googleusercontent.com/a-/AOh14GgO-xqdSSwbB8xXos7Shqhpq7QJ06mYVUvdLDRcbQ=s64",
      "userId": "01670254553878112810"
     },
     "user_tz": 180
    },
    "id": "sl5WXUuC1fcH"
   },
   "outputs": [],
   "source": [
    "data = pd.DataFrame(truth_tfidf.transform(train.sample(1000).text).todense(),\n",
    "                    columns=truth_tfidf.get_feature_names())\n",
    "\n",
    "explainer = shap.LinearExplainer(truth_lr, data)\n",
    "shap_values = explainer.shap_values(data)"
   ]
  },
  {
   "cell_type": "code",
   "execution_count": null,
   "metadata": {
    "colab": {
     "base_uri": "https://localhost:8080/",
     "height": 588
    },
    "executionInfo": {
     "elapsed": 36376,
     "status": "ok",
     "timestamp": 1601915045845,
     "user": {
      "displayName": "Lucas",
      "photoUrl": "https://lh3.googleusercontent.com/a-/AOh14GgO-xqdSSwbB8xXos7Shqhpq7QJ06mYVUvdLDRcbQ=s64",
      "userId": "01670254553878112810"
     },
     "user_tz": 180
    },
    "id": "x680kHiY3Bc_",
    "outputId": "33718b1f-a8c5-4b06-cd30-80b75b62d347"
   },
   "outputs": [],
   "source": [
    "shap.summary_plot(shap_values, data)"
   ]
  },
  {
   "cell_type": "markdown",
   "metadata": {
    "id": "zn_923x56oul"
   },
   "source": [
    "### Avaliando modelo sobre o conjunto de teste"
   ]
  },
  {
   "cell_type": "code",
   "execution_count": null,
   "metadata": {
    "colab": {
     "base_uri": "https://localhost:8080/",
     "height": 243
    },
    "executionInfo": {
     "elapsed": 61598,
     "status": "ok",
     "timestamp": 1601915071072,
     "user": {
      "displayName": "Lucas",
      "photoUrl": "https://lh3.googleusercontent.com/a-/AOh14GgO-xqdSSwbB8xXos7Shqhpq7QJ06mYVUvdLDRcbQ=s64",
      "userId": "01670254553878112810"
     },
     "user_tz": 180
    },
    "id": "amrQBcyW9ZnF",
    "outputId": "42946d21-6424-4a2e-8468-3e25f86a3849"
   },
   "outputs": [],
   "source": [
    "p = truth_m.predict(test.text)\n",
    "\n",
    "print('Classification Report:')\n",
    "print(metrics.classification_report(test.target, p))\n",
    "\n",
    "print('Report over missed samples')\n",
    "miss = p != test.target\n",
    "print(f'misses: {miss.sum()} ({miss.mean():.2%})',\n",
    "      dict(zip(*np.unique(test.target[miss], return_counts=True))),\n",
    "      sep='\\n')"
   ]
  },
  {
   "cell_type": "markdown",
   "metadata": {
    "id": "MApJsEEWEnD6"
   },
   "source": [
    "Olhar para as amostras que erramos pode nos ajudar a melhorar um modelo:"
   ]
  },
  {
   "cell_type": "code",
   "execution_count": null,
   "metadata": {
    "colab": {
     "base_uri": "https://localhost:8080/",
     "height": 746
    },
    "executionInfo": {
     "elapsed": 61598,
     "status": "ok",
     "timestamp": 1601915071076,
     "user": {
      "displayName": "Lucas",
      "photoUrl": "https://lh3.googleusercontent.com/a-/AOh14GgO-xqdSSwbB8xXos7Shqhpq7QJ06mYVUvdLDRcbQ=s64",
      "userId": "01670254553878112810"
     },
     "user_tz": 180
    },
    "id": "zSz7nvtgEmhq",
    "outputId": "3f39fe46-3e83-4c4b-a4f5-dbeddda87251"
   },
   "outputs": [],
   "source": [
    "test.loc[miss & (test.target == 'fake'), ['title', 'subject', 'target', 'created_at']][:20]"
   ]
  },
  {
   "cell_type": "markdown",
   "metadata": {
    "id": "z-TKwWoxGqux"
   },
   "source": [
    "### Melhorando o modelo a partir de características adjuntas\n",
    "\n",
    "Utilização de acentuação e caixa alta aconteceu em vários desses textos.\n",
    "Não remover essas características, assim como as stop-words, pode melhorar o nosso modelo?"
   ]
  },
  {
   "cell_type": "code",
   "execution_count": null,
   "metadata": {
    "colab": {
     "base_uri": "https://localhost:8080/",
     "height": 86
    },
    "executionInfo": {
     "elapsed": 377796,
     "status": "ok",
     "timestamp": 1601915387279,
     "user": {
      "displayName": "Lucas",
      "photoUrl": "https://lh3.googleusercontent.com/a-/AOh14GgO-xqdSSwbB8xXos7Shqhpq7QJ06mYVUvdLDRcbQ=s64",
      "userId": "01670254553878112810"
     },
     "user_tz": 180
    },
    "id": "BD8jOL-ZFhuJ",
    "outputId": "b2c941d4-2fa5-4c2b-b75d-9975dffc30a1"
   },
   "outputs": [],
   "source": [
    "from sklearn.model_selection import GridSearchCV\n",
    "\n",
    "params = {\n",
    "    'tfidf__lowercase': [True, False],\n",
    "    'tfidf__stop_words': [None, 'english'],\n",
    "    'tfidf__ngram_range': [(1, 1), (1, 3)],\n",
    "    'tfidf__strip_accents': [None],\n",
    "    'tfidf__max_features': [4096],\n",
    "}\n",
    "\n",
    "truth_g = GridSearchCV(truth_m, params,\n",
    "                       cv=3,\n",
    "                       n_jobs=-1,\n",
    "                       verbose=2).fit(z, y)"
   ]
  },
  {
   "cell_type": "code",
   "execution_count": null,
   "metadata": {
    "colab": {
     "base_uri": "https://localhost:8080/",
     "height": 104
    },
    "executionInfo": {
     "elapsed": 377801,
     "status": "ok",
     "timestamp": 1601915387289,
     "user": {
      "displayName": "Lucas",
      "photoUrl": "https://lh3.googleusercontent.com/a-/AOh14GgO-xqdSSwbB8xXos7Shqhpq7QJ06mYVUvdLDRcbQ=s64",
      "userId": "01670254553878112810"
     },
     "user_tz": 180
    },
    "id": "OwuhcyuFIYjB",
    "outputId": "e105c5fe-9e49-41b8-92d9-4aef07fc3548"
   },
   "outputs": [],
   "source": [
    "truth_g.best_params_"
   ]
  },
  {
   "cell_type": "code",
   "execution_count": null,
   "metadata": {
    "executionInfo": {
     "elapsed": 378748,
     "status": "ok",
     "timestamp": 1601915388238,
     "user": {
      "displayName": "Lucas",
      "photoUrl": "https://lh3.googleusercontent.com/a-/AOh14GgO-xqdSSwbB8xXos7Shqhpq7QJ06mYVUvdLDRcbQ=s64",
      "userId": "01670254553878112810"
     },
     "user_tz": 180
    },
    "id": "ROZ_2PnOMVL_"
   },
   "outputs": [],
   "source": [
    "truth_tfidf = truth_g.best_estimator_.named_steps['tfidf']\n",
    "truth_lr = truth_g.best_estimator_.named_steps['lr']\n",
    "\n",
    "data = pd.DataFrame(truth_tfidf.transform(train.sample(1000).text).todense(),\n",
    "                    columns=truth_tfidf.get_feature_names())\n",
    "\n",
    "explainer = shap.LinearExplainer(truth_lr, data)\n",
    "shap_values = explainer.shap_values(data)"
   ]
  },
  {
   "cell_type": "code",
   "execution_count": null,
   "metadata": {
    "colab": {
     "base_uri": "https://localhost:8080/",
     "height": 588
    },
    "executionInfo": {
     "elapsed": 379505,
     "status": "ok",
     "timestamp": 1601915389001,
     "user": {
      "displayName": "Lucas",
      "photoUrl": "https://lh3.googleusercontent.com/a-/AOh14GgO-xqdSSwbB8xXos7Shqhpq7QJ06mYVUvdLDRcbQ=s64",
      "userId": "01670254553878112810"
     },
     "user_tz": 180
    },
    "id": "yuPR1cmJMjWi",
    "outputId": "3c5bf511-19af-4231-cf07-f6e01dd59fb3"
   },
   "outputs": [],
   "source": [
    "shap.summary_plot(shap_values, data)"
   ]
  },
  {
   "cell_type": "code",
   "execution_count": null,
   "metadata": {
    "colab": {
     "base_uri": "https://localhost:8080/",
     "height": 243
    },
    "executionInfo": {
     "elapsed": 405756,
     "status": "ok",
     "timestamp": 1601915415256,
     "user": {
      "displayName": "Lucas",
      "photoUrl": "https://lh3.googleusercontent.com/a-/AOh14GgO-xqdSSwbB8xXos7Shqhpq7QJ06mYVUvdLDRcbQ=s64",
      "userId": "01670254553878112810"
     },
     "user_tz": 180
    },
    "id": "QKWnYlJLOJTm",
    "outputId": "480e7f72-cde1-4713-a5e8-744e67cfc13b"
   },
   "outputs": [],
   "source": [
    "p = truth_m.predict(test.text)\n",
    "\n",
    "print('Classification Report:')\n",
    "print(metrics.classification_report(test.target, p))\n",
    "\n",
    "print('Report over missed samples')\n",
    "miss = p != test.target\n",
    "missed_fakes = test[miss & (test.target == 'fake')]\n",
    "\n",
    "print(f'misses: {miss.sum()} ({miss.mean():.2%})',\n",
    "      dict(zip(*np.unique(test.target[miss], return_counts=True))),\n",
    "      sep='\\n')"
   ]
  },
  {
   "cell_type": "code",
   "execution_count": null,
   "metadata": {
    "colab": {
     "base_uri": "https://localhost:8080/",
     "height": 1000
    },
    "executionInfo": {
     "elapsed": 405759,
     "status": "ok",
     "timestamp": 1601915415262,
     "user": {
      "displayName": "Lucas",
      "photoUrl": "https://lh3.googleusercontent.com/a-/AOh14GgO-xqdSSwbB8xXos7Shqhpq7QJ06mYVUvdLDRcbQ=s64",
      "userId": "01670254553878112810"
     },
     "user_tz": 180
    },
    "id": "OMhQUb59a9-O",
    "outputId": "b1034057-b936-4b1b-af3a-abff5d0b6cf9"
   },
   "outputs": [],
   "source": [
    "missed_fakes.drop(columns='text')[:20]"
   ]
  },
  {
   "cell_type": "code",
   "execution_count": null,
   "metadata": {
    "executionInfo": {
     "elapsed": 406596,
     "status": "ok",
     "timestamp": 1601915416103,
     "user": {
      "displayName": "Lucas",
      "photoUrl": "https://lh3.googleusercontent.com/a-/AOh14GgO-xqdSSwbB8xXos7Shqhpq7QJ06mYVUvdLDRcbQ=s64",
      "userId": "01670254553878112810"
     },
     "user_tz": 180
    },
    "id": "fNlRjydVQXM3"
   },
   "outputs": [],
   "source": [
    "data = pd.DataFrame(truth_tfidf.transform(missed_fakes.text).todense(),\n",
    "                    columns=truth_tfidf.get_feature_names())\n",
    "\n",
    "explainer = shap.LinearExplainer(truth_lr, data)\n",
    "shap_values = explainer.shap_values(data)"
   ]
  },
  {
   "cell_type": "code",
   "execution_count": null,
   "metadata": {
    "colab": {
     "base_uri": "https://localhost:8080/",
     "height": 411,
     "output_embedded_package_id": "13xsuivmWPGTFGZHPZd_6nIWnZJKjyPnb"
    },
    "executionInfo": {
     "elapsed": 409773,
     "status": "ok",
     "timestamp": 1601915419285,
     "user": {
      "displayName": "Lucas",
      "photoUrl": "https://lh3.googleusercontent.com/a-/AOh14GgO-xqdSSwbB8xXos7Shqhpq7QJ06mYVUvdLDRcbQ=s64",
      "userId": "01670254553878112810"
     },
     "user_tz": 180
    },
    "id": "YYGOT17gRKrj",
    "outputId": "05b4b163-6ed9-4900-81a8-b29a73bec814"
   },
   "outputs": [],
   "source": [
    "shap.initjs()\n",
    "shap.force_plot(explainer.expected_value, shap_values[:20], data[:20])"
   ]
  }
 ],
 "metadata": {
  "jupytext": {
   "main_language": "python"
  },
  "kernelspec": {
   "display_name": "Python 3",
   "name": "python3"
  }
 },
 "nbformat": 4,
 "nbformat_minor": 2
}
