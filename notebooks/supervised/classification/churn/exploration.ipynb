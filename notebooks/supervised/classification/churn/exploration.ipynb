{
 "cells": [
  {
   "cell_type": "markdown",
   "metadata": {
    "id": "GhhwF8CTUkEV"
   },
   "source": [
    "# Telco Customer Churn: Exploration\n",
    "\n",
    "**Author:** Lucas Oliveira David -- <lucasolivdavid@gmail.com>\n",
    "\n",
    "**Description:** in this notebook, we attempt to model the [Telco Customer Churn](https://www.kaggle.com/blastchar/telco-customer-churn) problem using a Machine Learning algorithm called Random Forest.\n",
    "\n",
    "**Results:** We were able to achieve an average of 0.828 RoC AUC score over 7 weeks of test data, without loosing significant performance as time passed.\n",
    "\n",
    "The rest of this notebook is organized in the following way:\n",
    "\n",
    "1. The *Reading* section contains the code that read the dataset from my google drive\n",
    "2. *Preprocessing* describes all pre-training procedure applied to the data, such as conversions and empty string handling\n",
    "3. *Visualizing* describes the data acording to its features and provides some insights which might help when modeling the problem\n",
    "4. *Learning* contains all training-validation strategy\n",
    "5. Finally, Section *Evaluating* tests the\n",
    "trained model over previously-separated, unseen data"
   ]
  },
  {
   "cell_type": "markdown",
   "metadata": {
    "id": "KS_6ngFjaQbp"
   },
   "source": [
    "## Setup"
   ]
  },
  {
   "cell_type": "code",
   "execution_count": null,
   "metadata": {
    "executionInfo": {
     "elapsed": 3402,
     "status": "ok",
     "timestamp": 1602802779545,
     "user": {
      "displayName": "Lucas",
      "photoUrl": "https://lh3.googleusercontent.com/a-/AOh14GgO-xqdSSwbB8xXos7Shqhpq7QJ06mYVUvdLDRcbQ=s64",
      "userId": "01670254553878112810"
     },
     "user_tz": 180
    },
    "id": "TkCW4Y8CmsmF"
   },
   "outputs": [],
   "source": [
    "! pip -q install shap"
   ]
  },
  {
   "cell_type": "code",
   "execution_count": null,
   "metadata": {
    "executionInfo": {
     "elapsed": 3398,
     "status": "ok",
     "timestamp": 1602802779549,
     "user": {
      "displayName": "Lucas",
      "photoUrl": "https://lh3.googleusercontent.com/a-/AOh14GgO-xqdSSwbB8xXos7Shqhpq7QJ06mYVUvdLDRcbQ=s64",
      "userId": "01670254553878112810"
     },
     "user_tz": 180
    },
    "id": "ojdJK0RQSnZ1"
   },
   "outputs": [],
   "source": [
    "from math import ceil\n",
    "\n",
    "import pandas as pd\n",
    "import numpy as np\n",
    "import seaborn as sns\n",
    "\n",
    "import matplotlib.pyplot as plt\n",
    "\n",
    "import warnings"
   ]
  },
  {
   "cell_type": "code",
   "execution_count": null,
   "metadata": {
    "executionInfo": {
     "elapsed": 3395,
     "status": "ok",
     "timestamp": 1602802779552,
     "user": {
      "displayName": "Lucas",
      "photoUrl": "https://lh3.googleusercontent.com/a-/AOh14GgO-xqdSSwbB8xXos7Shqhpq7QJ06mYVUvdLDRcbQ=s64",
      "userId": "01670254553878112810"
     },
     "user_tz": 180
    },
    "id": "FMAFXKQmaP8v"
   },
   "outputs": [],
   "source": [
    "sns.set()\n",
    "\n",
    "np.random.seed(4012808)"
   ]
  },
  {
   "cell_type": "markdown",
   "metadata": {
    "id": "50x67sVZaSbn"
   },
   "source": [
    "## Reading\n",
    "\n",
    "The data was read from a virtual directory contained my personal google drive.\n",
    "This part can be executed by simply downloading the [Telco Churn Dataset](https://www.kaggle.com/blastchar/telco-customer-churn) dataset and adjusting the path described below."
   ]
  },
  {
   "cell_type": "code",
   "execution_count": null,
   "metadata": {
    "executionInfo": {
     "elapsed": 3390,
     "status": "ok",
     "timestamp": 1602802779553,
     "user": {
      "displayName": "Lucas",
      "photoUrl": "https://lh3.googleusercontent.com/a-/AOh14GgO-xqdSSwbB8xXos7Shqhpq7QJ06mYVUvdLDRcbQ=s64",
      "userId": "01670254553878112810"
     },
     "user_tz": 180
    },
    "id": "9WNy65sqaTR_"
   },
   "outputs": [],
   "source": [
    "DATASET = '/content/drive/My Drive/Colab Notebooks/churn/WA_Fn-UseC_-Telco-Customer-Churn.csv'"
   ]
  },
  {
   "cell_type": "code",
   "execution_count": null,
   "metadata": {
    "executionInfo": {
     "elapsed": 3387,
     "status": "ok",
     "timestamp": 1602802779556,
     "user": {
      "displayName": "Lucas",
      "photoUrl": "https://lh3.googleusercontent.com/a-/AOh14GgO-xqdSSwbB8xXos7Shqhpq7QJ06mYVUvdLDRcbQ=s64",
      "userId": "01670254553878112810"
     },
     "user_tz": 180
    },
    "id": "YRsjnFARswv5"
   },
   "outputs": [],
   "source": [
    "x = pd.read_csv(DATASET)"
   ]
  },
  {
   "cell_type": "code",
   "execution_count": null,
   "metadata": {
    "colab": {
     "base_uri": "https://localhost:8080/",
     "height": 167
    },
    "executionInfo": {
     "elapsed": 3377,
     "status": "ok",
     "timestamp": 1602802779557,
     "user": {
      "displayName": "Lucas",
      "photoUrl": "https://lh3.googleusercontent.com/a-/AOh14GgO-xqdSSwbB8xXos7Shqhpq7QJ06mYVUvdLDRcbQ=s64",
      "userId": "01670254553878112810"
     },
     "user_tz": 180
    },
    "id": "016DKjWdhNz7",
    "outputId": "912eb131-ed48-40b6-9885-a6e5fbb88309"
   },
   "outputs": [],
   "source": [
    "x.head(2)"
   ]
  },
  {
   "cell_type": "markdown",
   "metadata": {
    "id": "zfkGFRFiarw_"
   },
   "source": [
    "## Preprocessing"
   ]
  },
  {
   "cell_type": "code",
   "execution_count": null,
   "metadata": {
    "cellView": "both",
    "colab": {
     "base_uri": "https://localhost:8080/",
     "height": 451
    },
    "executionInfo": {
     "elapsed": 3841,
     "status": "ok",
     "timestamp": 1602802780030,
     "user": {
      "displayName": "Lucas",
      "photoUrl": "https://lh3.googleusercontent.com/a-/AOh14GgO-xqdSSwbB8xXos7Shqhpq7QJ06mYVUvdLDRcbQ=s64",
      "userId": "01670254553878112810"
     },
     "user_tz": 180
    },
    "id": "20EcqW-fbVc4",
    "outputId": "f36b921e-2521-49f8-d2d3-99db9813ab23"
   },
   "outputs": [],
   "source": [
    "CATEGORICAL_FIELDS = ('gender', 'partner', 'dependents', 'phoneservice',\n",
    "                      'multiplelines', 'internetservice', 'contract',\n",
    "                      'paymentmethod', 'onlinesecurity', 'onlinebackup',\n",
    "                      'deviceprotection', 'techsupport', 'streamingtv',\n",
    "                      'streamingmovies', 'paperlessbilling', 'churn',\n",
    "                      'seniorcitizen')\n",
    "\n",
    "DISCRETE_FIELDS = ('tenure',)\n",
    "CONTINUOUS_FIELDS = ('monthlycharges', 'totalcharges')\n",
    "\n",
    "\n",
    "def preprocess(x):\n",
    "    print(f'Preprocessing dataframe of shape {x.shape}')\n",
    "\n",
    "    x = x.copy()\n",
    "\n",
    "    x.columns = list(map(str.lower, x.columns))  # lower col names\n",
    "\n",
    "    x = boolean_field_as_text(x, 'seniorcitizen') \n",
    "    x = apply_to_cols(x, CATEGORICAL_FIELDS, str.lower)\n",
    "    x = convert_empty_fields_to_nan(x,\n",
    "                                    CATEGORICAL_FIELDS\n",
    "                                    + DISCRETE_FIELDS\n",
    "                                    + CONTINUOUS_FIELDS)\n",
    "\n",
    "    x = cast_fields(x, DISCRETE_FIELDS, 'int32')\n",
    "    x = cast_fields(x, CONTINUOUS_FIELDS, 'float32')\n",
    "\n",
    "    print('Done')\n",
    "\n",
    "    return x\n",
    "\n",
    "def boolean_field_as_text(x, field):\n",
    "    m = x[field] == 1\n",
    "\n",
    "    x.loc[m, field] = 'yes'\n",
    "    x.loc[~m, field] = 'no'\n",
    "\n",
    "    return x\n",
    "\n",
    "def apply_to_cols(x, fields, fn):\n",
    "    for f in fields:\n",
    "        x[f] = x[f].apply(fn)\n",
    "\n",
    "    return x\n",
    "\n",
    "def convert_empty_fields_to_nan(x, fields):\n",
    "    for f in fields:\n",
    "        print(f'Converting ` ` in {f} to nan...')\n",
    "        x[f] = x[f].replace(r'^\\s*$', np.nan, regex=True)\n",
    "    \n",
    "    return x\n",
    "\n",
    "def cast_fields(x, fields, dtype):\n",
    "    for f in fields:\n",
    "        print(f'Converting {f} to {dtype}...')\n",
    "        x[f] = x[f].astype(dtype)\n",
    "\n",
    "    return x\n",
    "\n",
    "x = preprocess(x)"
   ]
  },
  {
   "cell_type": "code",
   "execution_count": null,
   "metadata": {
    "cellView": "both",
    "colab": {
     "base_uri": "https://localhost:8080/",
     "height": 52
    },
    "executionInfo": {
     "elapsed": 3832,
     "status": "ok",
     "timestamp": 1602802780033,
     "user": {
      "displayName": "Lucas",
      "photoUrl": "https://lh3.googleusercontent.com/a-/AOh14GgO-xqdSSwbB8xXos7Shqhpq7QJ06mYVUvdLDRcbQ=s64",
      "userId": "01670254553878112810"
     },
     "user_tz": 180
    },
    "id": "Cbwz2cPSfn56",
    "outputId": "839b4d6f-12a2-4da8-d8d6-fd9842646271"
   },
   "outputs": [],
   "source": [
    "def validate(x):\n",
    "    print(f'Validating dataframe of shape {x.shape}...')\n",
    "\n",
    "    assert_fields_are_numeric(x, DISCRETE_FIELDS + CONTINUOUS_FIELDS)\n",
    "\n",
    "    assert_contains_expected_values(x, ('gender', ('female', 'male')),\n",
    "                                       ('seniorcitizen', ('yes', 'no')),\n",
    "                                       ('partner', ('yes', 'no')),\n",
    "                                       ('dependents', ('yes', 'no')),\n",
    "                                       ('phoneservice', ('yes', 'no')),\n",
    "                                       ('onlinesecurity', ('yes', 'no', 'no internet service')),\n",
    "                                       ('onlinebackup', ('yes', 'no', 'no internet service')),\n",
    "                                       ('deviceprotection', ('yes', 'no', 'no internet service')),\n",
    "                                       ('techsupport', ('yes', 'no', 'no internet service')),\n",
    "                                       ('streamingtv', ('yes', 'no', 'no internet service')),\n",
    "                                       ('streamingmovies', ('yes', 'no', 'no internet service')),\n",
    "                                       ('paperlessbilling', ('yes', 'no')),\n",
    "                                       ('churn', ('yes', 'no')))\n",
    "    \n",
    "    assert_does_not_contain_nan(x, CATEGORICAL_FIELDS + DISCRETE_FIELDS + ('monthlycharges',))\n",
    "\n",
    "    print('Done.')\n",
    "    \n",
    "\n",
    "def assert_contains_expected_values(x, *fields):\n",
    "    for field, expected in fields:\n",
    "        expected = set(expected)\n",
    "        actual = set(x[field].unique())\n",
    "\n",
    "        if actual - expected:\n",
    "            raise ValueError(f'Field `{field}` contains non-expected values:',\n",
    "                             actual - expected)\n",
    "\n",
    "\n",
    "def assert_fields_are_numeric(x, fields):\n",
    "    malformed = []\n",
    "\n",
    "    for f in fields:\n",
    "        if x[f].dtype not in ('int32', 'float32'):\n",
    "            malformed.append((f, x[f].dtype))\n",
    "    \n",
    "    if malformed:\n",
    "        raise ValueError(f'Fields `{malformed}` is not of a type numeric. '\n",
    "                         f'Check the input data.')\n",
    "\n",
    "def assert_does_not_contain_nan(x, fields):\n",
    "    malformed = []\n",
    "\n",
    "    for f in fields:\n",
    "        nans = x[f].isna()\n",
    "        if nans.any():\n",
    "            malformed.append((f, nans.sum()))\n",
    "    \n",
    "    if malformed:\n",
    "        raise ValueError(f'Unexpected NaN values were found in the following fields:\\n  '\n",
    "                         + '\\n  '.join(map(str, malformed)))\n",
    "    \n",
    "\n",
    "validate(x)"
   ]
  },
  {
   "cell_type": "code",
   "execution_count": null,
   "metadata": {
    "colab": {
     "base_uri": "https://localhost:8080/",
     "height": 101
    },
    "executionInfo": {
     "elapsed": 3824,
     "status": "ok",
     "timestamp": 1602802780035,
     "user": {
      "displayName": "Lucas",
      "photoUrl": "https://lh3.googleusercontent.com/a-/AOh14GgO-xqdSSwbB8xXos7Shqhpq7QJ06mYVUvdLDRcbQ=s64",
      "userId": "01670254553878112810"
     },
     "user_tz": 180
    },
    "id": "OjKC6H7rsJ4V",
    "outputId": "809ddd3f-9bdd-465d-a73d-32ba6291ebed"
   },
   "outputs": [],
   "source": [
    "pd.DataFrame(x.dtypes).T"
   ]
  },
  {
   "cell_type": "code",
   "execution_count": null,
   "metadata": {
    "colab": {
     "base_uri": "https://localhost:8080/",
     "height": 313
    },
    "executionInfo": {
     "elapsed": 3816,
     "status": "ok",
     "timestamp": 1602802780038,
     "user": {
      "displayName": "Lucas",
      "photoUrl": "https://lh3.googleusercontent.com/a-/AOh14GgO-xqdSSwbB8xXos7Shqhpq7QJ06mYVUvdLDRcbQ=s64",
      "userId": "01670254553878112810"
     },
     "user_tz": 180
    },
    "id": "ozoI-dHmf_Gg",
    "outputId": "69271fd5-4010-4c5c-9e0b-b53ecb46dc9e"
   },
   "outputs": [],
   "source": [
    "x.head().round(1)"
   ]
  },
  {
   "cell_type": "markdown",
   "metadata": {
    "id": "YWa5aYhCsjjK"
   },
   "source": [
    "## Exploring"
   ]
  },
  {
   "cell_type": "markdown",
   "metadata": {
    "id": "Tbyeeg0bxfvx"
   },
   "source": [
    "### Checking the distribution of the dataset's features"
   ]
  },
  {
   "cell_type": "markdown",
   "metadata": {
    "id": "4XSFWB0zBu2L"
   },
   "source": [
    "#### Categorical Columns\n",
    "\n",
    "Categorical features seem relatively balanced, with the exception of `dependents`, `phoneservice`, `contract`.\n",
    "\n",
    "Important note: the most undersampled value is `no`, in the `phoneservice` column, present in at most 800 samples. This is might be of some concern, as we will further split the data for testing (30%, hence approx. 240 test samples will present `phoneservice=no`). However, this number is still above the magic number $30$ from the t-student distribution-rule. For the time being, we will keep exploring as it is and maybe handle this attention point in the future."
   ]
  },
  {
   "cell_type": "code",
   "execution_count": null,
   "metadata": {
    "cellView": "form",
    "executionInfo": {
     "elapsed": 1129,
     "status": "ok",
     "timestamp": 1602810640395,
     "user": {
      "displayName": "Lucas",
      "photoUrl": "https://lh3.googleusercontent.com/a-/AOh14GgO-xqdSSwbB8xXos7Shqhpq7QJ06mYVUvdLDRcbQ=s64",
      "userId": "01670254553878112810"
     },
     "user_tz": 180
    },
    "id": "n-lZm6qlzL3K"
   },
   "outputs": [],
   "source": [
    "#@title\n",
    "\n",
    "def fields_histograms(x, fields, cols=3):\n",
    "    rows = ceil(len(fields) / cols)\n",
    "\n",
    "    plt.figure(figsize=(12, 3*rows))\n",
    "\n",
    "    for ix, f in enumerate(fields):\n",
    "        plt.subplot(rows, cols, ix + 1)\n",
    "        sns.countplot(x=f, hue='churn', data=x, palette='Accent')\n",
    "\n",
    "    plt.tight_layout();"
   ]
  },
  {
   "cell_type": "code",
   "execution_count": null,
   "metadata": {
    "colab": {
     "base_uri": "https://localhost:8080/",
     "height": 437
    },
    "executionInfo": {
     "elapsed": 1773,
     "status": "ok",
     "timestamp": 1602810926189,
     "user": {
      "displayName": "Lucas",
      "photoUrl": "https://lh3.googleusercontent.com/a-/AOh14GgO-xqdSSwbB8xXos7Shqhpq7QJ06mYVUvdLDRcbQ=s64",
      "userId": "01670254553878112810"
     },
     "user_tz": 180
    },
    "id": "Hdl-XnGk-BP0",
    "outputId": "8544f6a6-23e0-4ccb-8bb9-e423bc292e6c"
   },
   "outputs": [],
   "source": [
    "fields_histograms(x, ['gender', 'phoneservice', 'multiplelines', 'churn'])"
   ]
  },
  {
   "cell_type": "code",
   "execution_count": null,
   "metadata": {
    "cellView": "both",
    "colab": {
     "base_uri": "https://localhost:8080/",
     "height": 1000
    },
    "executionInfo": {
     "elapsed": 4018,
     "status": "ok",
     "timestamp": 1602810986820,
     "user": {
      "displayName": "Lucas",
      "photoUrl": "https://lh3.googleusercontent.com/a-/AOh14GgO-xqdSSwbB8xXos7Shqhpq7QJ06mYVUvdLDRcbQ=s64",
      "userId": "01670254553878112810"
     },
     "user_tz": 180
    },
    "id": "ljPvtwxosjZF",
    "outputId": "1cf4be96-ed71-4129-fcdb-2012e42aed6e"
   },
   "outputs": [],
   "source": [
    "    fields_histograms(x, ['contract', 'streamingtv', 'streamingmovies',\n",
    "                        'onlinesecurity', 'deviceprotection', 'partner',\n",
    "                        'paperlessbilling', 'onlinebackup', 'seniorcitizen',\n",
    "                        'internetservice', 'paymentmethod', 'dependents',\n",
    "                        'techsupport'])"
   ]
  },
  {
   "cell_type": "markdown",
   "metadata": {
    "id": "YqujPBRJB07y"
   },
   "source": [
    "#### Discrete Columns\n",
    "\n",
    "We have a large amount of \"novice\" users and a reasonable amount of long-lifetime users."
   ]
  },
  {
   "cell_type": "code",
   "execution_count": null,
   "metadata": {
    "cellView": "form",
    "executionInfo": {
     "elapsed": 16248,
     "status": "aborted",
     "timestamp": 1602811688486,
     "user": {
      "displayName": "Lucas",
      "photoUrl": "https://lh3.googleusercontent.com/a-/AOh14GgO-xqdSSwbB8xXos7Shqhpq7QJ06mYVUvdLDRcbQ=s64",
      "userId": "01670254553878112810"
     },
     "user_tz": 180
    },
    "id": "TRIYB9tZ2iv0"
   },
   "outputs": [],
   "source": [
    "#@title\n",
    "\n",
    "def fields_kdes(x, fields):\n",
    "    for ix, f in enumerate(fields):\n",
    "        sns.displot(data=x, x=f, hue='churn', kde=True)\n",
    "        plt.tight_layout();"
   ]
  },
  {
   "cell_type": "code",
   "execution_count": null,
   "metadata": {
    "colab": {
     "base_uri": "https://localhost:8080/",
     "height": 365
    },
    "executionInfo": {
     "elapsed": 1784,
     "status": "ok",
     "timestamp": 1602811692812,
     "user": {
      "displayName": "Lucas",
      "photoUrl": "https://lh3.googleusercontent.com/a-/AOh14GgO-xqdSSwbB8xXos7Shqhpq7QJ06mYVUvdLDRcbQ=s64",
      "userId": "01670254553878112810"
     },
     "user_tz": 180
    },
    "id": "lBxBEPH5yaqS",
    "outputId": "f2833ade-dc6b-4e82-e700-8343fa9ea22d"
   },
   "outputs": [],
   "source": [
    "fields_kdes(x, DISCRETE_FIELDS)"
   ]
  },
  {
   "cell_type": "markdown",
   "metadata": {
    "id": "Wl3aCgmaD_lh"
   },
   "source": [
    "#### Continuous Columns\n",
    "\n",
    "Column `TotalCharges` is a long-right tail distribution.\n",
    "This is not ideal for parametric models, which tend to saturate over the median line.  \n",
    "We will handle this in the following sections."
   ]
  },
  {
   "cell_type": "code",
   "execution_count": null,
   "metadata": {
    "colab": {
     "base_uri": "https://localhost:8080/",
     "height": 713
    },
    "executionInfo": {
     "elapsed": 10559,
     "status": "ok",
     "timestamp": 1602802786825,
     "user": {
      "displayName": "Lucas",
      "photoUrl": "https://lh3.googleusercontent.com/a-/AOh14GgO-xqdSSwbB8xXos7Shqhpq7QJ06mYVUvdLDRcbQ=s64",
      "userId": "01670254553878112810"
     },
     "user_tz": 180
    },
    "id": "TpW6a5nz2p5S",
    "outputId": "7b0339c7-7973-4e07-c8a2-441815dd9e5b"
   },
   "outputs": [],
   "source": [
    "fields_kdes(x, CONTINUOUS_FIELDS);"
   ]
  },
  {
   "cell_type": "markdown",
   "metadata": {
    "id": "M3b3eOY_ITGm"
   },
   "source": [
    "### Relationship between The Variables\n",
    "\n",
    "\n",
    "#### Definitions\n",
    "We account for data unbalance by undersampling the most frenquent class.\n",
    "This is important for the distribution charts, which are highly sensible to un-normalized data volumes.\n",
    "\n",
    "#### Results\n",
    "\n",
    "* Churning clients seem to have concentrated in samples with low tenure, indicating users with high tenure are less likely to evade\n",
    "* Churning clients seem to correlate more strongly with samples with high monthly-charges, indicating users with lower bills are less prone to evade"
   ]
  },
  {
   "cell_type": "code",
   "execution_count": null,
   "metadata": {
    "colab": {
     "base_uri": "https://localhost:8080/",
     "height": 141
    },
    "executionInfo": {
     "elapsed": 11046,
     "status": "ok",
     "timestamp": 1602802787323,
     "user": {
      "displayName": "Lucas",
      "photoUrl": "https://lh3.googleusercontent.com/a-/AOh14GgO-xqdSSwbB8xXos7Shqhpq7QJ06mYVUvdLDRcbQ=s64",
      "userId": "01670254553878112810"
     },
     "user_tz": 180
    },
    "id": "fksuj73mR0Ys",
    "outputId": "e6fe4e80-9fee-4148-cc2a-b6788d0bd8bb"
   },
   "outputs": [],
   "source": [
    "from imblearn.under_sampling import RandomUnderSampler\n",
    "\n",
    "xn = x.dropna()\n",
    "xr, yr = RandomUnderSampler().fit_resample(xn, xn.churn)\n",
    "xr = pd.DataFrame(xr, columns=xn.columns)\n",
    "xr = xr.astype(dict(zip(x.columns, x.dtypes)))"
   ]
  },
  {
   "cell_type": "code",
   "execution_count": null,
   "metadata": {
    "colab": {
     "base_uri": "https://localhost:8080/",
     "height": 548
    },
    "executionInfo": {
     "elapsed": 17092,
     "status": "ok",
     "timestamp": 1602802793378,
     "user": {
      "displayName": "Lucas",
      "photoUrl": "https://lh3.googleusercontent.com/a-/AOh14GgO-xqdSSwbB8xXos7Shqhpq7QJ06mYVUvdLDRcbQ=s64",
      "userId": "01670254553878112810"
     },
     "user_tz": 180
    },
    "id": "4Ts9A0YWIcXX",
    "outputId": "6e9775e7-e48e-40a3-f14c-cc63011ed161"
   },
   "outputs": [],
   "source": [
    "sns.pairplot(xr.sample(frac=.3), hue='churn');"
   ]
  },
  {
   "cell_type": "markdown",
   "metadata": {
    "id": "sh-C0Pl4HLwG"
   },
   "source": [
    "### Fixing Irregular Features"
   ]
  },
  {
   "cell_type": "markdown",
   "metadata": {
    "id": "D_PSWInaHRg5"
   },
   "source": [
    "#### Normalizing `totalcharges`\n",
    "\n",
    "We can try to normalize the column `totalcharges` using the `log` function,\n",
    "which will crunch the higher values that are utterly sparse, while maintaining the lowest values relatively separated.\n",
    "\n",
    "The result is added to the `totalcharges_log` column in the frame. Now, the distribution of users that have churned seems closer to the uniform one."
   ]
  },
  {
   "cell_type": "code",
   "execution_count": null,
   "metadata": {
    "colab": {
     "base_uri": "https://localhost:8080/",
     "height": 365
    },
    "executionInfo": {
     "elapsed": 17086,
     "status": "ok",
     "timestamp": 1602802793382,
     "user": {
      "displayName": "Lucas",
      "photoUrl": "https://lh3.googleusercontent.com/a-/AOh14GgO-xqdSSwbB8xXos7Shqhpq7QJ06mYVUvdLDRcbQ=s64",
      "userId": "01670254553878112810"
     },
     "user_tz": 180
    },
    "id": "moGzTkjkHWPX",
    "outputId": "f3dba201-664a-42c1-fbb9-c04566b36692"
   },
   "outputs": [],
   "source": [
    "x['totalcharges_log'] = np.log(x.totalcharges)\n",
    "\n",
    "fields_kdes(x, ['totalcharges_log']);"
   ]
  },
  {
   "cell_type": "markdown",
   "metadata": {
    "id": "0DcgVLgKHldY"
   },
   "source": [
    "#### Estimating the missing values for `totalcharges`\n",
    "\n",
    "Considering only 11 samples are missing, a cleanest solution would be to just drop these lines with `DataFrame#dropna()`.\n",
    "\n",
    "However, assuming new samples would eventually become available to us as time pass, *linear regressing* these features might generate better results at the time.  \n",
    "Notice we are not using regression in the *machine-learning* context (we do not concern ourselves with generalization/reproducibility), but as a mere statistical tool to infer missing data through correlation."
   ]
  },
  {
   "cell_type": "code",
   "execution_count": null,
   "metadata": {
    "executionInfo": {
     "elapsed": 17082,
     "status": "ok",
     "timestamp": 1602802793384,
     "user": {
      "displayName": "Lucas",
      "photoUrl": "https://lh3.googleusercontent.com/a-/AOh14GgO-xqdSSwbB8xXos7Shqhpq7QJ06mYVUvdLDRcbQ=s64",
      "userId": "01670254553878112810"
     },
     "user_tz": 180
    },
    "id": "ztKczQxJNPJK"
   },
   "outputs": [],
   "source": [
    "from sklearn.pipeline import make_pipeline\n",
    "from sklearn.compose import make_column_transformer, make_column_selector\n",
    "from sklearn.preprocessing import OneHotEncoder, StandardScaler\n",
    "from sklearn.linear_model import LinearRegression\n",
    "\n",
    "def estimate_missing_values(x, cats, numerics, target):\n",
    "    x = x.copy()\n",
    "\n",
    "    training = ~x[target].isna()\n",
    "    print(f'{training.sum()} `{target}` samples used as training')\n",
    "\n",
    "    r = make_pipeline(\n",
    "            make_column_transformer(\n",
    "                (StandardScaler(), list(numerics)),\n",
    "                (OneHotEncoder(), list(cats)),\n",
    "            ),\n",
    "            LinearRegression())\n",
    "\n",
    "    r.fit(x[training], x[target][training])\n",
    "    x.loc[~training, target] = r.predict(x.loc[~training])\n",
    "\n",
    "    print(f'{(~training).sum()} `{target}` examples were estimated')\n",
    "\n",
    "    sns.displot(data=x, x=target, hue=training, kde=True)\n",
    "    return x"
   ]
  },
  {
   "cell_type": "code",
   "execution_count": null,
   "metadata": {
    "colab": {
     "base_uri": "https://localhost:8080/",
     "height": 400
    },
    "executionInfo": {
     "elapsed": 18338,
     "status": "ok",
     "timestamp": 1602802794648,
     "user": {
      "displayName": "Lucas",
      "photoUrl": "https://lh3.googleusercontent.com/a-/AOh14GgO-xqdSSwbB8xXos7Shqhpq7QJ06mYVUvdLDRcbQ=s64",
      "userId": "01670254553878112810"
     },
     "user_tz": 180
    },
    "id": "2BwTwKSHIquY",
    "outputId": "3f235c52-07ef-475d-d30b-d114584ee93b"
   },
   "outputs": [],
   "source": [
    "CATEGORICAL_FEATURES = set(CATEGORICAL_FIELDS) - {'churn'}\n",
    "NUMERIC_FEATURES = set(DISCRETE_FIELDS + CONTINUOUS_FIELDS) - {'totalcharges', 'totalcharges_log'}\n",
    "TARGET = 'totalcharges_log'\n",
    "\n",
    "z = estimate_missing_values(x, CATEGORICAL_FEATURES, NUMERIC_FEATURES, TARGET)"
   ]
  },
  {
   "cell_type": "markdown",
   "metadata": {
    "id": "sslB3nKrRzpC"
   },
   "source": [
    "The estimated samples are barely visible in the distribution curve above, considering how few samples there are to begin with."
   ]
  },
  {
   "cell_type": "markdown",
   "metadata": {
    "id": "-1nAZJaW-lKZ"
   },
   "source": [
    "### Checking for Data Separability"
   ]
  },
  {
   "cell_type": "code",
   "execution_count": null,
   "metadata": {
    "executionInfo": {
     "elapsed": 18340,
     "status": "ok",
     "timestamp": 1602802794653,
     "user": {
      "displayName": "Lucas",
      "photoUrl": "https://lh3.googleusercontent.com/a-/AOh14GgO-xqdSSwbB8xXos7Shqhpq7QJ06mYVUvdLDRcbQ=s64",
      "userId": "01670254553878112810"
     },
     "user_tz": 180
    },
    "id": "QBfAY4aiYJv8"
   },
   "outputs": [],
   "source": [
    "TARGET = 'churn'\n",
    "\n",
    "CATEGORICAL_FEATURES = set(CATEGORICAL_FIELDS) - {TARGET}\n",
    "NUMERIC_FEATURES = set(DISCRETE_FIELDS + CONTINUOUS_FIELDS) - {'totalcharges'}"
   ]
  },
  {
   "cell_type": "code",
   "execution_count": null,
   "metadata": {
    "cellView": "form",
    "colab": {
     "base_uri": "https://localhost:8080/",
     "height": 382
    },
    "executionInfo": {
     "elapsed": 18335,
     "status": "ok",
     "timestamp": 1602802794656,
     "user": {
      "displayName": "Lucas",
      "photoUrl": "https://lh3.googleusercontent.com/a-/AOh14GgO-xqdSSwbB8xXos7Shqhpq7QJ06mYVUvdLDRcbQ=s64",
      "userId": "01670254553878112810"
     },
     "user_tz": 180
    },
    "id": "FsWai4awEvjS",
    "outputId": "58540980-b0d6-4e9e-8be0-31bfce08d82e"
   },
   "outputs": [],
   "source": [
    "#@title\n",
    "\n",
    "print('Using the following columns as features:')\n",
    "print('target variable:', TARGET)\n",
    "print('Available features:',\n",
    "      *CATEGORICAL_FEATURES,\n",
    "      *NUMERIC_FEATURES,\n",
    "      sep='\\n  ')"
   ]
  },
  {
   "cell_type": "code",
   "execution_count": null,
   "metadata": {
    "executionInfo": {
     "elapsed": 18330,
     "status": "ok",
     "timestamp": 1602802794658,
     "user": {
      "displayName": "Lucas",
      "photoUrl": "https://lh3.googleusercontent.com/a-/AOh14GgO-xqdSSwbB8xXos7Shqhpq7QJ06mYVUvdLDRcbQ=s64",
      "userId": "01670254553878112810"
     },
     "user_tz": 180
    },
    "id": "UpLPNPaTU3Fm"
   },
   "outputs": [],
   "source": [
    "class NamedStandardScaler(StandardScaler):\n",
    "    def __init__(self, copy=True, with_mean=True, with_std=True, columns=None):\n",
    "        super().__init__(copy=copy, with_mean=with_mean, with_std=with_std)\n",
    "        self.columns = columns\n",
    "\n",
    "    def get_feature_names(self):\n",
    "        return self.columns\n",
    "\n",
    "\n",
    "t = make_column_transformer(\n",
    "        (NamedStandardScaler(columns=list(NUMERIC_FEATURES)), list(NUMERIC_FEATURES)),\n",
    "        (OneHotEncoder(), list(CATEGORICAL_FEATURES)))\n",
    "\n",
    "z = t.fit_transform(x)"
   ]
  },
  {
   "cell_type": "code",
   "execution_count": null,
   "metadata": {
    "colab": {
     "base_uri": "https://localhost:8080/",
     "height": 34
    },
    "executionInfo": {
     "elapsed": 18324,
     "status": "ok",
     "timestamp": 1602802794659,
     "user": {
      "displayName": "Lucas",
      "photoUrl": "https://lh3.googleusercontent.com/a-/AOh14GgO-xqdSSwbB8xXos7Shqhpq7QJ06mYVUvdLDRcbQ=s64",
      "userId": "01670254553878112810"
     },
     "user_tz": 180
    },
    "id": "P11Vky__wYX2",
    "outputId": "4e030a3b-584e-4e80-ae27-1b37fc001a44"
   },
   "outputs": [],
   "source": [
    "print('Using features:', list(NUMERIC_FEATURES))"
   ]
  },
  {
   "cell_type": "code",
   "execution_count": null,
   "metadata": {
    "colab": {
     "base_uri": "https://localhost:8080/",
     "height": 449
    },
    "executionInfo": {
     "elapsed": 77303,
     "status": "ok",
     "timestamp": 1602802853648,
     "user": {
      "displayName": "Lucas",
      "photoUrl": "https://lh3.googleusercontent.com/a-/AOh14GgO-xqdSSwbB8xXos7Shqhpq7QJ06mYVUvdLDRcbQ=s64",
      "userId": "01670254553878112810"
     },
     "user_tz": 180
    },
    "id": "aXwH9J87GuN4",
    "outputId": "8c5a1022-4cef-48ab-bcb8-830ffab43cf4"
   },
   "outputs": [],
   "source": [
    "from sklearn.manifold import TSNE\n",
    "from sklearn.cluster import MiniBatchKMeans\n",
    "\n",
    "\n",
    "def display_dataset_distrib(x, true_labels):\n",
    "    a, b = TSNE(perplexity=50).fit_transform(x).T\n",
    "    c = MiniBatchKMeans(n_clusters=3)\n",
    "    y = c.fit_predict(x)\n",
    "\n",
    "    sns.scatterplot(x=a, y=b, hue=y, style=true_labels, palette='Set1')\n",
    "\n",
    "    return c.cluster_centers_\n",
    "\n",
    "\n",
    "plt.figure(figsize=(12, 6))\n",
    "extracted_clusters = display_dataset_distrib(x[NUMERIC_FEATURES], x[TARGET]);\n",
    "\n",
    "print('clusters:')\n",
    "print(extracted_clusters.round(2))"
   ]
  },
  {
   "cell_type": "markdown",
   "metadata": {
    "id": "xPRT421nYSLk"
   },
   "source": [
    "The method [T-SNE](https://scikit-learn.org/stable/modules/generated/sklearn.manifold.TSNE.html) will attempt to create a low-dimension visualization for the data while preserving its local and global distributions, where \"locality\" is described by its `perplexity` parameter.\n",
    "\n",
    "The KMeans, on the other hand, uses $L_2$ the distance to find data cluster.\n",
    "\n",
    "From inspection, cluster `1` seem to contain fewer churning samples than other ones. Although it is also the smallest. Further investigation must be performed in order to determine if these results are of some importance, but so far it seems the variable `churn` does not match the most prominant projections of the dataset's distribution, with respect to its features."
   ]
  },
  {
   "cell_type": "markdown",
   "metadata": {
    "id": "Rga9arpyRhUv"
   },
   "source": [
    "## Learning\n",
    "\n",
    "In many problems, samples are distributed according to a temporal dimension.\n",
    "This usually induces sub-groups of samples that are farthest from the training set, which might result in worse general interpretation by models.\n",
    "\n",
    "To account for this time-shifting effect and make this problem more interesting, I added an artificial column named `created_at`, which contains a random date for each sample.  \n",
    "Additionally, we generate noise that grows linearly as time passes, and apply it to the numeric variables."
   ]
  },
  {
   "cell_type": "code",
   "execution_count": null,
   "metadata": {
    "cellView": "form",
    "executionInfo": {
     "elapsed": 77299,
     "status": "ok",
     "timestamp": 1602802853651,
     "user": {
      "displayName": "Lucas",
      "photoUrl": "https://lh3.googleusercontent.com/a-/AOh14GgO-xqdSSwbB8xXos7Shqhpq7QJ06mYVUvdLDRcbQ=s64",
      "userId": "01670254553878112810"
     },
     "user_tz": 180
    },
    "id": "Qf7wIVoMQD5N"
   },
   "outputs": [],
   "source": [
    "#@title\n",
    "\n",
    "def random_dates(start, end, n, unit='D'):\n",
    "    \"\"\"Generate random dates.\n",
    "\n",
    "    Reference: https://stackoverflow.com/questions/50559078/generating-random-dates-within-a-given-range-in-pandas\n",
    "    \"\"\"\n",
    "    start = pd.to_datetime(start)\n",
    "    end = pd.to_datetime(end)\n",
    "    \n",
    "    ndays = (end - start).days + 1\n",
    "    return pd.to_timedelta(np.random.rand(n) * ndays, unit=unit) + start\n",
    "\n",
    "def add_linear_noise(x, col, rate):\n",
    "    dt_to_first = (x.created_at - x.created_at.min()).dt.days\n",
    "    dt_to_first /= dt_to_first.max()\n",
    "\n",
    "    a, b = np.quantile(x.tenure, [.05, .95])\n",
    "    s = dt_to_first * np.random.rand(len(x)) * rate * (b - a)\n",
    "\n",
    "    x[col] += s"
   ]
  },
  {
   "cell_type": "code",
   "execution_count": null,
   "metadata": {
    "executionInfo": {
     "elapsed": 77298,
     "status": "ok",
     "timestamp": 1602802853654,
     "user": {
      "displayName": "Lucas",
      "photoUrl": "https://lh3.googleusercontent.com/a-/AOh14GgO-xqdSSwbB8xXos7Shqhpq7QJ06mYVUvdLDRcbQ=s64",
      "userId": "01670254553878112810"
     },
     "user_tz": 180
    },
    "id": "q2-o5mjPgjgF"
   },
   "outputs": [],
   "source": [
    "x['created_at'] = random_dates('2020-01-01', '2020-10-30', len(x))"
   ]
  },
  {
   "cell_type": "code",
   "execution_count": null,
   "metadata": {
    "executionInfo": {
     "elapsed": 77295,
     "status": "ok",
     "timestamp": 1602802853656,
     "user": {
      "displayName": "Lucas",
      "photoUrl": "https://lh3.googleusercontent.com/a-/AOh14GgO-xqdSSwbB8xXos7Shqhpq7QJ06mYVUvdLDRcbQ=s64",
      "userId": "01670254553878112810"
     },
     "user_tz": 180
    },
    "id": "26BWEdftMuDG"
   },
   "outputs": [],
   "source": [
    "NOISE_RATE = {\n",
    "    'tenure': .05,\n",
    "    'monthlycharges': .05,\n",
    "    'totalcharges_log': .05\n",
    "}\n",
    "\n",
    "for col, rate in NOISE_RATE.items():\n",
    "    add_linear_noise(x, col, rate)"
   ]
  },
  {
   "cell_type": "markdown",
   "metadata": {
    "id": "1O1dotxUh7gn"
   },
   "source": [
    "### Training\n",
    "\n",
    "This procedure will occur as follows:\n",
    "\n",
    "1. Data is split according to its temporal dimension, so we can train using the past and evaluating considering present/future samples.\n",
    "2. Most models are sensitive to data unbalancing and will overfit over the most common class. We use the [SMOTTENN](https://imbalanced-learn.readthedocs.io/en/stable/generated/imblearn.combine.SMOTEENN.html#imblearn.combine.SMOTEENN) method to rebalance the dataset by creating samples that respect the classes original distributions and elimiate the most unsure/diverging outliers.\n",
    "3. Grid-search is used to find for the model's most appropriate hyper-parameters.\n",
    "\n",
    "    a. The validation strategy used here is `RepeatedStratifiedKFold`. `2-Fold` was employed, as it yields a large chunk of evaluation data without undersampling training data given to the model.\n",
    "    The `10 repetitions` add variability to the procedure, fortifying it\n",
    "    against evaluation noise.\n",
    "\n",
    "    b. The metric [roc-auc](https://scikit-learn.org/stable/modules/generated/sklearn.metrics.roc_auc_score.html) is used as evaluating function to the optimization process, which represents more granuar information with respect to the models overall generability when compared to accuracy or class-balanced accuracy."
   ]
  },
  {
   "cell_type": "code",
   "execution_count": null,
   "metadata": {
    "executionInfo": {
     "elapsed": 77297,
     "status": "ok",
     "timestamp": 1602802853660,
     "user": {
      "displayName": "Lucas",
      "photoUrl": "https://lh3.googleusercontent.com/a-/AOh14GgO-xqdSSwbB8xXos7Shqhpq7QJ06mYVUvdLDRcbQ=s64",
      "userId": "01670254553878112810"
     },
     "user_tz": 180
    },
    "id": "cmD0cG_Qd0iV"
   },
   "outputs": [],
   "source": [
    "TEST_SPLIT = .3\n",
    "TRAIN_SIZE = ceil((1 - TEST_SPLIT) * len(x))"
   ]
  },
  {
   "cell_type": "code",
   "execution_count": null,
   "metadata": {
    "executionInfo": {
     "elapsed": 77293,
     "status": "ok",
     "timestamp": 1602802853660,
     "user": {
      "displayName": "Lucas",
      "photoUrl": "https://lh3.googleusercontent.com/a-/AOh14GgO-xqdSSwbB8xXos7Shqhpq7QJ06mYVUvdLDRcbQ=s64",
      "userId": "01670254553878112810"
     },
     "user_tz": 180
    },
    "id": "AG83CNkzibey"
   },
   "outputs": [],
   "source": [
    "t = make_column_transformer(\n",
    "        (NamedStandardScaler(columns=list(NUMERIC_FEATURES)), list(NUMERIC_FEATURES)),\n",
    "        (OneHotEncoder(), list(CATEGORICAL_FEATURES)))\n",
    "\n",
    "x = x.sort_values('created_at')\n",
    "\n",
    "train, test = x[:TRAIN_SIZE], x[TRAIN_SIZE:]\n",
    "z_train, z_test = t.fit_transform(train), t.transform(test)\n",
    "y_train, y_test = train[TARGET], test[TARGET]"
   ]
  },
  {
   "cell_type": "code",
   "execution_count": null,
   "metadata": {
    "colab": {
     "base_uri": "https://localhost:8080/",
     "height": 176
    },
    "executionInfo": {
     "elapsed": 78167,
     "status": "ok",
     "timestamp": 1602802854542,
     "user": {
      "displayName": "Lucas",
      "photoUrl": "https://lh3.googleusercontent.com/a-/AOh14GgO-xqdSSwbB8xXos7Shqhpq7QJ06mYVUvdLDRcbQ=s64",
      "userId": "01670254553878112810"
     },
     "user_tz": 180
    },
    "id": "7_Rss7ri5vwI",
    "outputId": "eec5fdcd-ceaa-4515-c05a-4f50fa8fbb8a"
   },
   "outputs": [],
   "source": [
    "from imblearn.combine import SMOTEENN\n",
    "\n",
    "zr_train, yr_train = SMOTEENN().fit_resample(z_train, y_train)"
   ]
  },
  {
   "cell_type": "code",
   "execution_count": null,
   "metadata": {
    "colab": {
     "base_uri": "https://localhost:8080/",
     "height": 121
    },
    "executionInfo": {
     "elapsed": 185420,
     "status": "ok",
     "timestamp": 1602802961804,
     "user": {
      "displayName": "Lucas",
      "photoUrl": "https://lh3.googleusercontent.com/a-/AOh14GgO-xqdSSwbB8xXos7Shqhpq7QJ06mYVUvdLDRcbQ=s64",
      "userId": "01670254553878112810"
     },
     "user_tz": 180
    },
    "id": "fvCLgYT6SDjt",
    "outputId": "c13b4792-b5fe-4cff-ce13-32fd3e06e72c"
   },
   "outputs": [],
   "source": [
    "from sklearn.model_selection import GridSearchCV, RepeatedStratifiedKFold\n",
    "from sklearn import metrics\n",
    "from sklearn.ensemble import RandomForestClassifier\n",
    "\n",
    "\n",
    "def train(model, grid, x, y, scoring='roc_auc', cv=3):\n",
    "    return (GridSearchCV(model, grid, scoring=scoring, cv=cv,\n",
    "                         n_jobs=-1, verbose=1)\n",
    "            .fit(x, y))\n",
    "\n",
    "g = train(\n",
    "    model=RandomForestClassifier(),\n",
    "    grid=dict(\n",
    "        n_estimators=[20, 50, 100, 200],\n",
    "        class_weight=[None, 'balanced'],\n",
    "        max_depth=[None, 5, 10]\n",
    "    ),\n",
    "    x=zr_train,\n",
    "    y=yr_train,\n",
    "    cv=RepeatedStratifiedKFold(n_splits=2, n_repeats=10))"
   ]
  },
  {
   "cell_type": "markdown",
   "metadata": {
    "id": "z8mj2G5LlPKu"
   },
   "source": [
    "### Describing the trained model\n",
    "\n",
    "The most impacting features' values over the classification of a sample as a probable churning users are:\n",
    "\n",
    "1. Contract\n",
    "2. Tenure\n",
    "3. Tech-support\n",
    "4. Payment method\n",
    "5. Monthly charges"
   ]
  },
  {
   "cell_type": "code",
   "execution_count": null,
   "metadata": {
    "cellView": "form",
    "colab": {
     "base_uri": "https://localhost:8080/",
     "height": 69
    },
    "executionInfo": {
     "elapsed": 185414,
     "status": "ok",
     "timestamp": 1602802961808,
     "user": {
      "displayName": "Lucas",
      "photoUrl": "https://lh3.googleusercontent.com/a-/AOh14GgO-xqdSSwbB8xXos7Shqhpq7QJ06mYVUvdLDRcbQ=s64",
      "userId": "01670254553878112810"
     },
     "user_tz": 180
    },
    "id": "5AguV6jCVsI0",
    "outputId": "97c123d6-0633-4b1e-c65c-51b2666cb87c"
   },
   "outputs": [],
   "source": [
    "#@title\n",
    "\n",
    "def describe(grid):\n",
    "    r = pd.DataFrame(grid.cv_results_)\n",
    "    r = r[r.rank_test_score == 1].round(3).reset_index()\n",
    "\n",
    "    print('best parameters:', grid.best_params_)\n",
    "    print(f'Avg test score: {r.mean_test_score[0]}. Std: {r.std_fit_time[0]}')\n",
    "    print(f'Avg fit time: {r.mean_fit_time[0]}. Std: {r.std_fit_time[0]}')\n",
    "\n",
    "describe(g)"
   ]
  },
  {
   "cell_type": "code",
   "execution_count": null,
   "metadata": {
    "cellView": "form",
    "colab": {
     "base_uri": "https://localhost:8080/",
     "height": 610
    },
    "executionInfo": {
     "elapsed": 199526,
     "status": "ok",
     "timestamp": 1602814326827,
     "user": {
      "displayName": "Lucas",
      "photoUrl": "https://lh3.googleusercontent.com/a-/AOh14GgO-xqdSSwbB8xXos7Shqhpq7QJ06mYVUvdLDRcbQ=s64",
      "userId": "01670254553878112810"
     },
     "user_tz": 180
    },
    "id": "QaJnSvtDmou7",
    "outputId": "f3b455bd-9386-4c8a-e849-09537de3175f"
   },
   "outputs": [],
   "source": [
    "#@title\n",
    "\n",
    "import shap\n",
    "\n",
    "explainer = shap.TreeExplainer(g.best_estimator_)\n",
    "\n",
    "\n",
    "def decode_feature(f):\n",
    "    for i, n in reversed(list(enumerate(CATEGORICAL_FEATURES))):\n",
    "        # We reverse this listing so ocurrences like \"x17\" are\n",
    "        # not replaced by sub-contained indices, such as \"x1\".\n",
    "        f = f.replace(f'x{i}', n)\n",
    "    return f\n",
    "\n",
    "features = [decode_feature(f)\n",
    "            for f in t.get_feature_names()]\n",
    "\n",
    "_z = pd.DataFrame(z_train, columns=features)\n",
    "shap_values = explainer.shap_values(_z)\n",
    "\n",
    "shap.initjs()\n",
    "shap.summary_plot(shap_values, _z)"
   ]
  },
  {
   "cell_type": "markdown",
   "metadata": {
    "id": "P6ugaZ-TnZwk"
   },
   "source": [
    "## Evaluating"
   ]
  },
  {
   "cell_type": "code",
   "execution_count": null,
   "metadata": {
    "colab": {
     "base_uri": "https://localhost:8080/",
     "height": 260
    },
    "executionInfo": {
     "elapsed": 382789,
     "status": "ok",
     "timestamp": 1602803159195,
     "user": {
      "displayName": "Lucas",
      "photoUrl": "https://lh3.googleusercontent.com/a-/AOh14GgO-xqdSSwbB8xXos7Shqhpq7QJ06mYVUvdLDRcbQ=s64",
      "userId": "01670254553878112810"
     },
     "user_tz": 180
    },
    "id": "HQqtkI97TDaX",
    "outputId": "c5c07bb7-d76d-42a2-c348-6e57879419d5"
   },
   "outputs": [],
   "source": [
    "def evaluate(model, x, y):\n",
    "    p = model.predict(x)\n",
    "    pa = model.predict_proba(x)[:, 1]\n",
    "\n",
    "    print('RoC AUC:', metrics.roc_auc_score(y, pa).round(3))\n",
    "    print('Accuracy:', metrics.accuracy_score(y, p).round(3))\n",
    "    print('Class-balanced accuracy:', metrics.balanced_accuracy_score(y, p).round(3))\n",
    "    print()\n",
    "\n",
    "    print('Classification Report:')\n",
    "    print(metrics.classification_report(y, p))\n",
    "\n",
    "\n",
    "evaluate(g, z_test, y_test)"
   ]
  },
  {
   "cell_type": "markdown",
   "metadata": {
    "id": "SaatNJi3HInW"
   },
   "source": [
    "### ROC AuC Curve for Churn:yes Class"
   ]
  },
  {
   "cell_type": "code",
   "execution_count": null,
   "metadata": {
    "cellView": "form",
    "colab": {
     "base_uri": "https://localhost:8080/",
     "height": 301
    },
    "executionInfo": {
     "elapsed": 382782,
     "status": "ok",
     "timestamp": 1602803159196,
     "user": {
      "displayName": "Lucas",
      "photoUrl": "https://lh3.googleusercontent.com/a-/AOh14GgO-xqdSSwbB8xXos7Shqhpq7QJ06mYVUvdLDRcbQ=s64",
      "userId": "01670254553878112810"
     },
     "user_tz": 180
    },
    "id": "UOTAHHjWtXzZ",
    "outputId": "e7abac4a-406b-4bbe-8fb2-3a9328f17e5a"
   },
   "outputs": [],
   "source": [
    "#@title\n",
    "\n",
    "from sklearn.preprocessing import label_binarize\n",
    "\n",
    "\n",
    "def calculate_roc_auc_curve(x, y):\n",
    "    \"\"\"Calculate the roc auc curve for an estimator.\n",
    "\n",
    "    Ref: https://scikit-learn.org/stable/auto_examples/model_selection/plot_roc.html#sphx-glr-auto-examples-model-selection-plot-roc-py\n",
    "    \"\"\"\n",
    "    y = label_binarize(y, classes=['no', 'yes'])\n",
    "    n_classes = y.shape[1]\n",
    "\n",
    "    y_score = g.predict_proba(x)\n",
    "\n",
    "    fpr = dict()\n",
    "    tpr = dict()\n",
    "    roc_auc = dict()\n",
    "    \n",
    "    i = 1\n",
    "    fpr[i], tpr[i], _ = metrics.roc_curve(y, y_score[:, i])\n",
    "    roc_auc[i] = metrics.auc(fpr[i], tpr[i])\n",
    "\n",
    "    # Compute micro-average ROC curve and ROC area\n",
    "    fpr[\"micro\"], tpr[\"micro\"], _ = metrics.roc_curve(y.ravel(), y_score[:, i].ravel())\n",
    "    roc_auc[\"micro\"] = metrics.auc(fpr[\"micro\"], tpr[\"micro\"])\n",
    "\n",
    "    return fpr, tpr, roc_auc\n",
    "\n",
    "fpr, tpr, roc_auc = calculate_roc_auc_curve(z_test, y_test)\n",
    "\n",
    "plt.figure()\n",
    "lw = 2\n",
    "plt.plot(fpr[1], tpr[1], color='darkorange',\n",
    "         lw=lw, label='ROC curve (area = %0.2f)' % roc_auc[1])\n",
    "plt.plot([0, 1], [0, 1], color='navy', lw=lw, linestyle='--')\n",
    "plt.xlim([0.0, 1.0])\n",
    "plt.ylim([0.0, 1.05])\n",
    "plt.xlabel('False Positive Rate')\n",
    "plt.ylabel('True Positive Rate')\n",
    "plt.title('Receiver operating characteristic example')\n",
    "plt.legend(loc=\"lower right\")\n",
    "plt.show()"
   ]
  },
  {
   "cell_type": "markdown",
   "metadata": {
    "id": "6-PR_qGh-gMb"
   },
   "source": [
    "### Evaluating model degradation over time\n",
    "\n",
    "We do not observe a degradation in the model's performance over the course of almost two months after training, hinting this model is either strongly resilient to temporal changes or that this domain does not shift in an aggressive fashion.\n",
    "\n",
    "Further experimentation must be conducted after this two month period in order to assert if this behavior can be further generalized to longer periods, although I cannot recommend in good conscience maintaining a production model without re-training for more than a few weeks/month."
   ]
  },
  {
   "cell_type": "code",
   "execution_count": null,
   "metadata": {
    "colab": {
     "base_uri": "https://localhost:8080/",
     "height": 457
    },
    "executionInfo": {
     "elapsed": 383150,
     "status": "ok",
     "timestamp": 1602803159574,
     "user": {
      "displayName": "Lucas",
      "photoUrl": "https://lh3.googleusercontent.com/a-/AOh14GgO-xqdSSwbB8xXos7Shqhpq7QJ06mYVUvdLDRcbQ=s64",
      "userId": "01670254553878112810"
     },
     "user_tz": 180
    },
    "id": "y9_RbnEq-jtf",
    "outputId": "594f1511-26b8-45a8-f0b6-3d8e794fe28b"
   },
   "outputs": [],
   "source": [
    "def backtest_one_step(model, x, y, created_at):\n",
    "    p = model.predict(x)\n",
    "\n",
    "    report = pd.DataFrame({\n",
    "        'p': model.predict(x),\n",
    "        'pa': model.predict_proba(x)[:, 1],\n",
    "        'y': y,\n",
    "        'created_at': created_at,\n",
    "    })\n",
    "\n",
    "    results = [(\n",
    "        week,\n",
    "        metrics.accuracy_score(g.y, g.p),\n",
    "        metrics.balanced_accuracy_score(g.y, g.p),\n",
    "        metrics.roc_auc_score(g.y, g.pa),\n",
    "        len(g),\n",
    "        (g.y != g.p).sum(),\n",
    "    )\n",
    "    for week, g in report.groupby(report.created_at.dt.isocalendar().week)]\n",
    "\n",
    "    return pd.DataFrame(results,\n",
    "                        columns=['week', 'acc', 'balanced_acc',\n",
    "                                 'roc_auc', 'samples', 'misses'])\n",
    "\n",
    "r = backtest_one_step(g, z_test, y_test, test.created_at)\n",
    "\n",
    "r.round(2)"
   ]
  },
  {
   "cell_type": "code",
   "execution_count": null,
   "metadata": {
    "cellView": "form",
    "colab": {
     "base_uri": "https://localhost:8080/",
     "height": 383
    },
    "executionInfo": {
     "elapsed": 384095,
     "status": "ok",
     "timestamp": 1602803160528,
     "user": {
      "displayName": "Lucas",
      "photoUrl": "https://lh3.googleusercontent.com/a-/AOh14GgO-xqdSSwbB8xXos7Shqhpq7QJ06mYVUvdLDRcbQ=s64",
      "userId": "01670254553878112810"
     },
     "user_tz": 180
    },
    "id": "hcJegW8NApU9",
    "outputId": "db871e64-1748-4a90-9227-33a0699db407"
   },
   "outputs": [],
   "source": [
    "#@title\n",
    "\n",
    "m = (r.melt(id_vars=['week', 'samples'],\n",
    "            value_vars=['acc', 'balanced_acc', 'roc_auc'])\n",
    "      .rename(columns={'variable': 'metric'}))\n",
    "\n",
    "sns.lmplot(x='week', y='value', hue='metric', data=m, scatter=False, height=5,\n",
    "           aspect=16/9)\n",
    "sns.scatterplot(x='week', y='value', hue='metric', size='samples', data=m,\n",
    "                legend=False)\n",
    "\n",
    "plt.ylim(.3, 1);"
   ]
  }
 ],
 "metadata": {
  "jupytext": {
   "main_language": "python"
  },
  "kernelspec": {
   "display_name": "Python 3",
   "name": "python3"
  }
 },
 "nbformat": 4,
 "nbformat_minor": 2
}
