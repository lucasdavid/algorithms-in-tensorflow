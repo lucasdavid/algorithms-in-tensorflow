{
 "cells": [
  {
   "cell_type": "markdown",
   "metadata": {
    "colab_type": "text",
    "id": "99O9ukh3S6UR"
   },
   "source": [
    "# Notas sobre *machine learning*: decisão e modelos logísticos\n",
    "\n",
    "Decisão é uma das mais populares atividades em *machine learning*. Ela compreende na construção de uma função estimadora que associa uma amostra de um determinado valor binário:\n",
    "\n",
    "$f(x) = c_i \\in \\{0, 1\\}$\n",
    "\n",
    "Classificação é uma atividade ainda mais complexa, que associa amostras à elementos de um conjunto de classes. Isto é, à um inteiro que codifica a classe:\n",
    "\n",
    "$f(x) = c_i \\in \\mathbb{N}$"
   ]
  },
  {
   "cell_type": "markdown",
   "metadata": {
    "colab_type": "text",
    "id": "kw8wwbsMI7S4"
   },
   "source": [
    "## Introdução\n",
    "\n",
    "No *notebook* passado, nós vimos como estimar um número a partir de um conjunto de características. Considerando o que nós sabemos até então: seria possível reaplicar tudo a fim de classificar amostras?"
   ]
  },
  {
   "cell_type": "code",
   "execution_count": null,
   "metadata": {
    "cellView": "form",
    "colab": {
     "base_uri": "https://localhost:8080/",
     "height": 34
    },
    "colab_type": "code",
    "executionInfo": {
     "elapsed": 5683,
     "status": "ok",
     "timestamp": 1593571642951,
     "user": {
      "displayName": "Lucas",
      "photoUrl": "https://lh3.googleusercontent.com/a-/AOh14GgO-xqdSSwbB8xXos7Shqhpq7QJ06mYVUvdLDRcbQ=s64",
      "userId": "01670254553878112810"
     },
     "user_tz": 180
    },
    "id": "NKy65_S_4p0P",
    "outputId": "3e44a05d-b71a-4efe-88c3-cb3a756759a3"
   },
   "outputs": [],
   "source": [
    "#@title\n",
    "\n",
    "!pip -q install shap\n",
    "\n",
    "import os\n",
    "from functools import reduce\n",
    "\n",
    "import numpy as np\n",
    "import pandas as pd\n",
    "import tensorflow as tf\n",
    "import shap\n",
    "from sklearn.preprocessing import LabelEncoder, StandardScaler\n",
    "\n",
    "import matplotlib.pyplot as plt\n",
    "from mpl_toolkits.mplot3d import Axes3D\n",
    "import seaborn as sns\n",
    "from google.colab import drive\n",
    "\n",
    "sns.set(palette=sns.color_palette(\"hls\", 8))\n",
    "pd.set_option('display.max_columns', None)\n",
    "pd.set_option('display.max_colwidth', None)\n",
    "\n",
    "from IPython.display import display_html\n",
    "def display_side_by_side(*args):\n",
    "    html_str=''\n",
    "    for df in args:\n",
    "        html_str+=df.to_html()\n",
    "    display_html(html_str.replace('table','table style=\"display:inline\"'),raw=True)\n",
    "\n",
    "drive.mount('/content/drive')"
   ]
  },
  {
   "cell_type": "code",
   "execution_count": null,
   "metadata": {
    "colab": {},
    "colab_type": "code",
    "id": "6yQpqY1tJv9r"
   },
   "outputs": [],
   "source": [
    "WO_MEN_FILE = '/content/drive/My Drive/Colab Notebooks/ml-notes/datasets/wo_men.trusted.csv'\n",
    "FEATURES = ['height', 'shoe_size']\n",
    "\n",
    "x = pd.read_csv(WO_MEN_FILE)"
   ]
  },
  {
   "cell_type": "code",
   "execution_count": null,
   "metadata": {
    "colab": {
     "base_uri": "https://localhost:8080/",
     "height": 104
    },
    "colab_type": "code",
    "executionInfo": {
     "elapsed": 1100,
     "status": "ok",
     "timestamp": 1593571865896,
     "user": {
      "displayName": "Lucas",
      "photoUrl": "https://lh3.googleusercontent.com/a-/AOh14GgO-xqdSSwbB8xXos7Shqhpq7QJ06mYVUvdLDRcbQ=s64",
      "userId": "01670254553878112810"
     },
     "user_tz": 180
    },
    "id": "GZXg3sKfR7-V",
    "outputId": "1945974c-4829-480f-d165-ddee85320071"
   },
   "outputs": [],
   "source": [
    "ss = StandardScaler()\n",
    "se = LabelEncoder().fit(x.sex)\n",
    "\n",
    "z = ss.fit_transform(x[FEATURES])\n",
    "y = se.transform(x.sex)\n",
    "\n",
    "print(z[:5].round(1))"
   ]
  },
  {
   "cell_type": "code",
   "execution_count": null,
   "metadata": {
    "colab": {},
    "colab_type": "code",
    "id": "Uzh1gycwNiMk"
   },
   "outputs": [],
   "source": [
    "a0 = np.random.randn(2)\n",
    "b0 = 0\n",
    "\n",
    "def fn(x, a, b):\n",
    "    return x.dot(a) + b"
   ]
  },
  {
   "cell_type": "code",
   "execution_count": null,
   "metadata": {
    "colab": {
     "base_uri": "https://localhost:8080/",
     "height": 268
    },
    "colab_type": "code",
    "executionInfo": {
     "elapsed": 1469,
     "status": "ok",
     "timestamp": 1593573342555,
     "user": {
      "displayName": "Lucas",
      "photoUrl": "https://lh3.googleusercontent.com/a-/AOh14GgO-xqdSSwbB8xXos7Shqhpq7QJ06mYVUvdLDRcbQ=s64",
      "userId": "01670254553878112810"
     },
     "user_tz": 180
    },
    "id": "gvf1EYFvW5I0",
    "outputId": "0b1dced9-e2e2-424c-d280-9df671fa1b8d"
   },
   "outputs": [],
   "source": [
    "As = np.linspace(-3, 2, 40)\n",
    "\n",
    "ps = [\n",
    "    metrics.mean_absolute_error(\n",
    "        y,\n",
    "        fn(z, np.asarray([a0[0], a]), b0)\n",
    "    )\n",
    "    for a in As\n",
    "]\n",
    "\n",
    "sns.lineplot(range(len(ps)), ps);"
   ]
  },
  {
   "cell_type": "code",
   "execution_count": null,
   "metadata": {
    "colab": {
     "base_uri": "https://localhost:8080/",
     "height": 69
    },
    "colab_type": "code",
    "executionInfo": {
     "elapsed": 906,
     "status": "ok",
     "timestamp": 1593572610349,
     "user": {
      "displayName": "Lucas",
      "photoUrl": "https://lh3.googleusercontent.com/a-/AOh14GgO-xqdSSwbB8xXos7Shqhpq7QJ06mYVUvdLDRcbQ=s64",
      "userId": "01670254553878112810"
     },
     "user_tz": 180
    },
    "id": "-MzOlqI5P1sw",
    "outputId": "3a519dc0-edc8-4a10-a197-b6a92e0de328"
   },
   "outputs": [],
   "source": [
    "pr = fn(z, a0, b0)\n",
    "p = (pr >= 0).astype(int)\n",
    "\n",
    "def acc(y, p):\n",
    "    return np.mean(y == p)\n",
    "\n",
    "print('decision fn:', pr.round(2)[:5])\n",
    "print('predictions:', p.round(2)[:5])\n",
    "print('accuracy:', acc(y, p).round(2))"
   ]
  },
  {
   "cell_type": "code",
   "execution_count": null,
   "metadata": {
    "colab": {
     "base_uri": "https://localhost:8080/",
     "height": 225
    },
    "colab_type": "code",
    "executionInfo": {
     "elapsed": 1111,
     "status": "ok",
     "timestamp": 1593572864755,
     "user": {
      "displayName": "Lucas",
      "photoUrl": "https://lh3.googleusercontent.com/a-/AOh14GgO-xqdSSwbB8xXos7Shqhpq7QJ06mYVUvdLDRcbQ=s64",
      "userId": "01670254553878112810"
     },
     "user_tz": 180
    },
    "id": "rG1tG4VRVE9V",
    "outputId": "8a048919-ecc7-45a3-b55a-4fd0f8f85c79"
   },
   "outputs": [],
   "source": [
    "from sklearn import metrics\n",
    "\n",
    "print('balanced accuracy:', metrics.balanced_accuracy_score(y, p).round(2))\n",
    "print('accuracy:', metrics.accuracy_score(y, p).round(2))\n",
    "print('Report:')\n",
    "print(metrics.classification_report(y, p))"
   ]
  },
  {
   "cell_type": "markdown",
   "metadata": {
    "colab_type": "text",
    "id": "c7AfUTAfKGWh"
   },
   "source": [
    "## Coletando as informações"
   ]
  },
  {
   "cell_type": "code",
   "execution_count": null,
   "metadata": {
    "colab": {},
    "colab_type": "code",
    "id": "EDU2wwT94p0g"
   },
   "outputs": [],
   "source": [
    "DATASET = ('/content/drive/My Drive/Colab Notebooks/ml-notes/'\n",
    "           'datasets/572515_1037534_bundle_archive.zip')"
   ]
  },
  {
   "cell_type": "code",
   "execution_count": null,
   "metadata": {
    "colab": {},
    "colab_type": "code",
    "id": "-llQQgGuE5U3"
   },
   "outputs": [],
   "source": [
    "import zipfile\n",
    "from sklearn.model_selection import train_test_split\n",
    "\n",
    "with zipfile.ZipFile(DATASET) as z:\n",
    "    z.extractall('./ds/')\n",
    "\n",
    "t, f = (pd.read_csv('./ds/True.csv'),\n",
    "        pd.read_csv('./ds/Fake.csv'))\n",
    "\n",
    "def preprocess(t, f):\n",
    "    t['target'] = 'true'\n",
    "    f['target'] = 'fake'\n",
    "\n",
    "    x = t.append(f)\n",
    "\n",
    "    ds = x.date.str.strip()\n",
    "    x['created_at'] = pd.to_datetime(ds, format='%B %d, %Y', errors='coerce')\n",
    "    x.loc[x.created_at.isnull(), 'created_at'] = pd.to_datetime(ds[x.created_at.isnull()], format='%b %d, %Y', errors='coerce')\n",
    "    x.loc[x.created_at.isnull(), 'created_at'] = pd.to_datetime(ds[x.created_at.isnull()], format='%d-%b-%y', errors='coerce')\n",
    "\n",
    "    return x.dropna()\n",
    "\n",
    "x = preprocess(t, f)"
   ]
  },
  {
   "cell_type": "code",
   "execution_count": null,
   "metadata": {
    "colab": {
     "base_uri": "https://localhost:8080/",
     "height": 639
    },
    "colab_type": "code",
    "executionInfo": {
     "elapsed": 6108,
     "status": "ok",
     "timestamp": 1593363996942,
     "user": {
      "displayName": "Lucas",
      "photoUrl": "https://lh3.googleusercontent.com/a-/AOh14GgO-xqdSSwbB8xXos7Shqhpq7QJ06mYVUvdLDRcbQ=s64",
      "userId": "01670254553878112810"
     },
     "user_tz": 180
    },
    "id": "3rYDuAjX-pAY",
    "outputId": "b34e4536-1b52-4806-b229-b43d62c14f30"
   },
   "outputs": [],
   "source": [
    "def describe(x):\n",
    "    print('samples:', len(x))\n",
    "    print('features:', *x.columns)\n",
    "    print('timeframe:', x.created_at.min().date(), x.created_at.max().date())\n",
    "\n",
    "describe(x)\n",
    "\n",
    "x.head(1)"
   ]
  },
  {
   "cell_type": "markdown",
   "metadata": {
    "colab_type": "text",
    "id": "eCEEhSDT3_Yo"
   },
   "source": [
    "## Definindo os intervalos de treinamento e teste\n",
    "\n",
    "A separação entre treino e teste é muitas vezes realizada de forma aleatória.\n",
    "É tão comum, que podemos observar utilitários para fazer isso no próprio sklearn (o [train_test_split](https://scikit-learn.org/stable/modules/generated/sklearn.model_selection.train_test_split.html)). O objetivo dessa estratégia é gerar uma divisão próxima à distribuição original.\n",
    "\n",
    "Supondo que ambos subconjuntos produzidos sejam estatísticamente representativos em todas as suas características, eles apresentam o menor enviesamento e retenção de informação. Entretanto, isso pode gerar uma preocupação séria: estamos injetando informação do futuro para predizer o passado? Pense no seguinte cenário: Obama foi o presidente até 2016. Até então, haviam poucas menções ao atual presidente Trump (eleito em 2016) nas reportagens relacionadas à política.\n",
    "\n",
    "Se nosso estimador se firmar em eventos pontuais (ex: palavras como \"Obama\" ou \"Trump\") para tomar suas decisões, podemos garantir que estes eventos irão ocorrer novamente? Como podemos avaliar a degradação de um modelo?\n",
    "\n",
    "A separação temporal --- onde o passado é utilizado como treino e a informação mais recente é utilizada como teste --- também é uma estratégia de separação válida. Garantimos que o futuro não seja misturado com o passado e fortificamos o teste, sendo mais aderente com o cenário real."
   ]
  },
  {
   "cell_type": "code",
   "execution_count": null,
   "metadata": {
    "colab": {
     "base_uri": "https://localhost:8080/",
     "height": 219
    },
    "colab_type": "code",
    "executionInfo": {
     "elapsed": 6103,
     "status": "ok",
     "timestamp": 1593363996944,
     "user": {
      "displayName": "Lucas",
      "photoUrl": "https://lh3.googleusercontent.com/a-/AOh14GgO-xqdSSwbB8xXos7Shqhpq7QJ06mYVUvdLDRcbQ=s64",
      "userId": "01670254553878112810"
     },
     "user_tz": 180
    },
    "id": "ZFA_ejoI3Xpp",
    "outputId": "59132210-8c52-47df-c917-86e317f4d460"
   },
   "outputs": [],
   "source": [
    "TEST_SIZE = .3\n",
    "x = x.sort_values('created_at')\n",
    "\n",
    "_at = int(len(x)*(1-TEST_SIZE))\n",
    "train, test = x[:_at], x[_at:]\n",
    "\n",
    "print(f'{len(train)} samples will be used for training.')\n",
    "print('timeframe:', train.created_at.min().date(), train.created_at.max().date())\n",
    "print('classes:', *zip(*np.unique(train.target, return_counts=True)), sep='\\n')\n",
    "print()\n",
    "\n",
    "print(f'{len(test)} samples will be used for testing.')\n",
    "print('timeframe:', test.created_at.min().date(), test.created_at.max().date())\n",
    "print('classes:', *zip(*np.unique(test.target, return_counts=True)), sep='\\n')"
   ]
  },
  {
   "cell_type": "code",
   "execution_count": null,
   "metadata": {
    "colab": {},
    "colab_type": "code",
    "id": "XNsEPgNqjifq"
   },
   "outputs": [],
   "source": [
    "plt.figure(figsize=(9, 6))\n",
    "plt.subplot(221)\n",
    "sns.barplot(*np.unique(train.subject, return_counts=True));\n",
    "plt.xticks(rotation=45)\n",
    "\n",
    "plt.subplot(222)\n",
    "data = train.groupby(['subject', 'target'], as_index=False).count()[['subject', 'target', 'text']]\n",
    "sns.barplot(x='subject', y='text', hue='target', data=data)\n",
    "plt.xticks(rotation=45)\n",
    "\n",
    "plt.subplot(223)\n",
    "sns.barplot(*np.unique(train.target, return_counts=True));\n",
    "plt.xticks(rotation=45)\n",
    "\n",
    "plt.tight_layout();"
   ]
  },
  {
   "cell_type": "markdown",
   "metadata": {
    "colab_type": "text",
    "id": "WZqSGttnQn9L"
   },
   "source": [
    "## Distinguindo notícias falsas de verdadeiras a partir do texto"
   ]
  },
  {
   "cell_type": "code",
   "execution_count": null,
   "metadata": {
    "colab": {},
    "colab_type": "code",
    "id": "QdeU19KuQlPN"
   },
   "outputs": [],
   "source": [
    "from sklearn import metrics\n",
    "\n",
    "from sklearn.pipeline import Pipeline\n",
    "from sklearn.linear_model import LogisticRegression\n",
    "from sklearn.feature_extraction.text import TfidfVectorizer\n",
    "\n",
    "truth_m = Pipeline([\n",
    "    ('tfidf', TfidfVectorizer(strip_accents='unicode',\n",
    "                              stop_words='english',\n",
    "                              ngram_range=(1, 3),\n",
    "                              max_features=4096,\n",
    "                              lowercase=True)),\n",
    "    ('lr', LogisticRegression())\n",
    "])\n",
    "\n",
    "truth_m.fit(train.text, train.target);"
   ]
  },
  {
   "cell_type": "markdown",
   "metadata": {
    "colab_type": "text",
    "id": "qMkXX8BJ01Xx"
   },
   "source": [
    "### Explicando o modelo"
   ]
  },
  {
   "cell_type": "markdown",
   "metadata": {
    "colab_type": "text",
    "id": "mqi_MDWo08pa"
   },
   "source": [
    "Há muitos coeficientes para serem explicados ao mesmo tempo:"
   ]
  },
  {
   "cell_type": "code",
   "execution_count": null,
   "metadata": {
    "colab": {
     "base_uri": "https://localhost:8080/",
     "height": 159
    },
    "colab_type": "code",
    "executionInfo": {
     "elapsed": 100667,
     "status": "ok",
     "timestamp": 1593363777323,
     "user": {
      "displayName": "Lucas",
      "photoUrl": "https://lh3.googleusercontent.com/a-/AOh14GgO-xqdSSwbB8xXos7Shqhpq7QJ06mYVUvdLDRcbQ=s64",
      "userId": "01670254553878112810"
     },
     "user_tz": 180
    },
    "id": "J2WdP7Ct0jV3",
    "outputId": "7e985297-d32b-488f-a021-96c57928c7d8"
   },
   "outputs": [],
   "source": [
    "truth_tfidf = truth_m.named_steps['tfidf']\n",
    "truth_lr = truth_m.named_steps['lr']\n",
    "\n",
    "plt.figure(figsize=(5, 2))\n",
    "sns.distplot(truth_lr.coef_);"
   ]
  },
  {
   "cell_type": "code",
   "execution_count": null,
   "metadata": {
    "colab": {},
    "colab_type": "code",
    "id": "sl5WXUuC1fcH"
   },
   "outputs": [],
   "source": [
    "data = pd.DataFrame(truth_tfidf.transform(train.sample(1000).text).todense(),\n",
    "                    columns=truth_tfidf.get_feature_names())\n",
    "explainer = shap.LinearExplainer(truth_lr, data)\n",
    "shap_values = explainer.shap_values(data)"
   ]
  },
  {
   "cell_type": "code",
   "execution_count": null,
   "metadata": {
    "colab": {
     "base_uri": "https://localhost:8080/",
     "height": 69
    },
    "colab_type": "code",
    "executionInfo": {
     "elapsed": 792,
     "status": "ok",
     "timestamp": 1593363946043,
     "user": {
      "displayName": "Lucas",
      "photoUrl": "https://lh3.googleusercontent.com/a-/AOh14GgO-xqdSSwbB8xXos7Shqhpq7QJ06mYVUvdLDRcbQ=s64",
      "userId": "01670254553878112810"
     },
     "user_tz": 180
    },
    "id": "x680kHiY3Bc_",
    "outputId": "5338f273-51b5-4107-e4bc-0893383eb307"
   },
   "outputs": [],
   "source": [
    "shap.force_plot(explainer.expected_value, shap_values[0,:], data.iloc[0,:])"
   ]
  },
  {
   "cell_type": "code",
   "execution_count": null,
   "metadata": {
    "colab": {
     "base_uri": "https://localhost:8080/",
     "height": 162
    },
    "colab_type": "code",
    "executionInfo": {
     "elapsed": 1409,
     "status": "ok",
     "timestamp": 1593320711731,
     "user": {
      "displayName": "Lucas",
      "photoUrl": "https://lh3.googleusercontent.com/a-/AOh14GgO-xqdSSwbB8xXos7Shqhpq7QJ06mYVUvdLDRcbQ=s64",
      "userId": "01670254553878112810"
     },
     "user_tz": 180
    },
    "id": "gEQwiS_sTp8A",
    "outputId": "01994201-0596-49fc-e5a7-7253486b54ad"
   },
   "outputs": [],
   "source": [
    "explain(truth_fn, features=6)"
   ]
  },
  {
   "cell_type": "code",
   "execution_count": null,
   "metadata": {
    "colab": {
     "base_uri": "https://localhost:8080/",
     "height": 869
    },
    "colab_type": "code",
    "executionInfo": {
     "elapsed": 11014,
     "status": "ok",
     "timestamp": 1593320751017,
     "user": {
      "displayName": "Lucas",
      "photoUrl": "https://lh3.googleusercontent.com/a-/AOh14GgO-xqdSSwbB8xXos7Shqhpq7QJ06mYVUvdLDRcbQ=s64",
      "userId": "01670254553878112810"
     },
     "user_tz": 180
    },
    "id": "qO6InDsMTqWg",
    "outputId": "fb01c70d-f8af-4a5e-ca41-17c734f2b0df"
   },
   "outputs": [],
   "source": [
    "p = evaluate(truth_fn, test.text, test.target, test.created_at)"
   ]
  },
  {
   "cell_type": "markdown",
   "metadata": {
    "colab_type": "text",
    "id": "FoAxBBVMFkBw"
   },
   "source": []
  },
  {
   "cell_type": "code",
   "execution_count": null,
   "metadata": {
    "colab": {
     "base_uri": "https://localhost:8080/",
     "height": 69
    },
    "colab_type": "code",
    "executionInfo": {
     "elapsed": 910,
     "status": "ok",
     "timestamp": 1593320765312,
     "user": {
      "displayName": "Lucas",
      "photoUrl": "https://lh3.googleusercontent.com/a-/AOh14GgO-xqdSSwbB8xXos7Shqhpq7QJ06mYVUvdLDRcbQ=s64",
      "userId": "01670254553878112810"
     },
     "user_tz": 180
    },
    "id": "sKbY6J6VFknB",
    "outputId": "0ef5ca1a-54f0-4585-fa53-5e4fad352a30"
   },
   "outputs": [],
   "source": [
    "miss = p != test.target\n",
    "\n",
    "print('Report over missed samples')\n",
    "print(f'misses: {miss.sum()} ({miss.mean():.2%})',\n",
    "      dict(zip(*np.unique(test.target[miss], return_counts=True))),\n",
    "      sep='\\n')"
   ]
  },
  {
   "cell_type": "markdown",
   "metadata": {
    "colab_type": "text",
    "id": "MApJsEEWEnD6"
   },
   "source": [
    "Olhar para as amostras que erramos pode nos ajudar a melhorar um modelo:"
   ]
  },
  {
   "cell_type": "code",
   "execution_count": null,
   "metadata": {
    "colab": {
     "base_uri": "https://localhost:8080/",
     "height": 1000
    },
    "colab_type": "code",
    "executionInfo": {
     "elapsed": 1026,
     "status": "ok",
     "timestamp": 1593320768819,
     "user": {
      "displayName": "Lucas",
      "photoUrl": "https://lh3.googleusercontent.com/a-/AOh14GgO-xqdSSwbB8xXos7Shqhpq7QJ06mYVUvdLDRcbQ=s64",
      "userId": "01670254553878112810"
     },
     "user_tz": 180
    },
    "id": "zSz7nvtgEmhq",
    "outputId": "1c7f09e7-e32d-47cb-9116-c33c351606f4"
   },
   "outputs": [],
   "source": [
    "test[miss & (test.target == 'fake')][:3]\n"
   ]
  },
  {
   "cell_type": "markdown",
   "metadata": {
    "colab_type": "text",
    "id": "z-TKwWoxGqux"
   },
   "source": [
    "### Melhorando o modelo a partir de características adjuntas\n",
    "\n",
    "Utilização de acentuação e caixa alta aconteceu em vários desses textos.\n",
    "Não remover essas características, assim como as stop-words, pode melhorar o nosso modelo?"
   ]
  },
  {
   "cell_type": "code",
   "execution_count": null,
   "metadata": {
    "colab": {
     "base_uri": "https://localhost:8080/",
     "height": 124
    },
    "colab_type": "code",
    "executionInfo": {
     "elapsed": 372799,
     "status": "ok",
     "timestamp": 1593321981838,
     "user": {
      "displayName": "Lucas",
      "photoUrl": "https://lh3.googleusercontent.com/a-/AOh14GgO-xqdSSwbB8xXos7Shqhpq7QJ06mYVUvdLDRcbQ=s64",
      "userId": "01670254553878112810"
     },
     "user_tz": 180
    },
    "id": "BD8jOL-ZFhuJ",
    "outputId": "9fe505c2-c170-49f1-bf6d-7e21e6a2dbe8"
   },
   "outputs": [],
   "source": [
    "from sklearn.model_selection import GridSearchCV\n",
    "\n",
    "params = {\n",
    "    'tfidf__lowercase': [True, False],\n",
    "    'tfidf__stop_words': [None],\n",
    "    'tfidf__ngram_range': [(1, 1), (2, 2), (3, 3)],\n",
    "    'tfidf__strip_accents': [None],\n",
    "    'tfidf__max_features': [4096],\n",
    "}\n",
    "\n",
    "truth_gr = GridSearchCV(truth_fn, params,\n",
    "                        cv=3,\n",
    "                        n_jobs=-1,\n",
    "                        verbose=2).fit(train.text, train.target)"
   ]
  },
  {
   "cell_type": "code",
   "execution_count": null,
   "metadata": {
    "colab": {
     "base_uri": "https://localhost:8080/",
     "height": 104
    },
    "colab_type": "code",
    "executionInfo": {
     "elapsed": 998,
     "status": "ok",
     "timestamp": 1593321982857,
     "user": {
      "displayName": "Lucas",
      "photoUrl": "https://lh3.googleusercontent.com/a-/AOh14GgO-xqdSSwbB8xXos7Shqhpq7QJ06mYVUvdLDRcbQ=s64",
      "userId": "01670254553878112810"
     },
     "user_tz": 180
    },
    "id": "OwuhcyuFIYjB",
    "outputId": "196b445f-5221-415c-ef86-a59dc74ba4a4"
   },
   "outputs": [],
   "source": [
    "truth_gr.best_params_"
   ]
  },
  {
   "cell_type": "code",
   "execution_count": null,
   "metadata": {
    "colab": {
     "base_uri": "https://localhost:8080/",
     "height": 182
    },
    "colab_type": "code",
    "executionInfo": {
     "elapsed": 987,
     "status": "ok",
     "timestamp": 1593321982859,
     "user": {
      "displayName": "Lucas",
      "photoUrl": "https://lh3.googleusercontent.com/a-/AOh14GgO-xqdSSwbB8xXos7Shqhpq7QJ06mYVUvdLDRcbQ=s64",
      "userId": "01670254553878112810"
     },
     "user_tz": 180
    },
    "id": "pjga913CM7Hs",
    "outputId": "2db28a8c-6693-449f-9fb3-bc9070174f9e"
   },
   "outputs": [],
   "source": [
    "explain(truth_gr.best_estimator_, features=20)"
   ]
  },
  {
   "cell_type": "code",
   "execution_count": null,
   "metadata": {
    "colab": {
     "base_uri": "https://localhost:8080/",
     "height": 869
    },
    "colab_type": "code",
    "executionInfo": {
     "elapsed": 10466,
     "status": "ok",
     "timestamp": 1593321992349,
     "user": {
      "displayName": "Lucas",
      "photoUrl": "https://lh3.googleusercontent.com/a-/AOh14GgO-xqdSSwbB8xXos7Shqhpq7QJ06mYVUvdLDRcbQ=s64",
      "userId": "01670254553878112810"
     },
     "user_tz": 180
    },
    "id": "NLN238_bNAxd",
    "outputId": "fadc70ed-baf7-4db1-c5e2-3034068183f4"
   },
   "outputs": [],
   "source": [
    "p = evaluate(truth_gr, test.text, test.target, test.created_at)"
   ]
  },
  {
   "cell_type": "code",
   "execution_count": null,
   "metadata": {
    "colab": {
     "base_uri": "https://localhost:8080/",
     "height": 69
    },
    "colab_type": "code",
    "executionInfo": {
     "elapsed": 10459,
     "status": "ok",
     "timestamp": 1593321992352,
     "user": {
      "displayName": "Lucas",
      "photoUrl": "https://lh3.googleusercontent.com/a-/AOh14GgO-xqdSSwbB8xXos7Shqhpq7QJ06mYVUvdLDRcbQ=s64",
      "userId": "01670254553878112810"
     },
     "user_tz": 180
    },
    "id": "QKWnYlJLOJTm",
    "outputId": "fca06072-806a-4d58-9007-d0c7d89dc987"
   },
   "outputs": [],
   "source": [
    "miss = p != test.target\n",
    "\n",
    "print('Report over missed samples')\n",
    "print(f'misses: {miss.sum()} ({miss.mean():.2%})',\n",
    "      dict(zip(*np.unique(test.target[miss], return_counts=True))),\n",
    "      sep='\\n')"
   ]
  },
  {
   "cell_type": "code",
   "execution_count": null,
   "metadata": {
    "colab": {
     "base_uri": "https://localhost:8080/",
     "height": 1000
    },
    "colab_type": "code",
    "executionInfo": {
     "elapsed": 843,
     "status": "ok",
     "timestamp": 1593322658755,
     "user": {
      "displayName": "Lucas",
      "photoUrl": "https://lh3.googleusercontent.com/a-/AOh14GgO-xqdSSwbB8xXos7Shqhpq7QJ06mYVUvdLDRcbQ=s64",
      "userId": "01670254553878112810"
     },
     "user_tz": 180
    },
    "id": "OMhQUb59a9-O",
    "outputId": "3b290b04-8e9c-4016-c494-db7c84629807"
   },
   "outputs": [],
   "source": [
    "test[miss & (test.target == 'fake')][['title', 'subject']]"
   ]
  },
  {
   "cell_type": "markdown",
   "metadata": {
    "colab_type": "text",
    "id": "tIP6G0Tiyr4E"
   },
   "source": [
    "## Inferindo o assunto da reportagem"
   ]
  },
  {
   "cell_type": "markdown",
   "metadata": {
    "colab_type": "text",
    "id": "l9JxH4fLN43G"
   },
   "source": [
    "### Aprendendo assunto a partir do título da reportagem"
   ]
  },
  {
   "cell_type": "code",
   "execution_count": null,
   "metadata": {
    "colab": {
     "base_uri": "https://localhost:8080/",
     "height": 176
    },
    "colab_type": "code",
    "executionInfo": {
     "elapsed": 16179,
     "status": "ok",
     "timestamp": 1593319038875,
     "user": {
      "displayName": "Lucas",
      "photoUrl": "https://lh3.googleusercontent.com/a-/AOh14GgO-xqdSSwbB8xXos7Shqhpq7QJ06mYVUvdLDRcbQ=s64",
      "userId": "01670254553878112810"
     },
     "user_tz": 180
    },
    "id": "3k-SJvUglaeX",
    "outputId": "af8e9e54-f01e-4dfb-caee-be5a6fe42808"
   },
   "outputs": [],
   "source": [
    "from sklearn import metrics\n",
    "\n",
    "from sklearn.pipeline import Pipeline\n",
    "from sklearn.linear_model import LogisticRegression\n",
    "from sklearn.feature_extraction.text import TfidfVectorizer\n",
    "\n",
    "def build_and_train_op(x, y):\n",
    "    model = Pipeline([\n",
    "        ('tfidf', TfidfVectorizer(strip_accents='unicode', stop_words='english',\n",
    "                                  ngram_range=ngram_range, max_features=max_features)),\n",
    "        ('lr', LogisticRegression())\n",
    "    ])\n",
    "\n",
    "    return model.fit(x, y)\n",
    "\n",
    "subject_fn = build_and_train_op(train.title, train.subject)"
   ]
  },
  {
   "cell_type": "code",
   "execution_count": null,
   "metadata": {
    "colab": {
     "base_uri": "https://localhost:8080/",
     "height": 544
    },
    "colab_type": "code",
    "executionInfo": {
     "elapsed": 1319,
     "status": "ok",
     "timestamp": 1593320689938,
     "user": {
      "displayName": "Lucas",
      "photoUrl": "https://lh3.googleusercontent.com/a-/AOh14GgO-xqdSSwbB8xXos7Shqhpq7QJ06mYVUvdLDRcbQ=s64",
      "userId": "01670254553878112810"
     },
     "user_tz": 180
    },
    "id": "KWni_UbzRhTC",
    "outputId": "b1a34c55-cef5-4083-d184-a06bf60eebc6"
   },
   "outputs": [],
   "source": [
    "def explain(model, features=10):\n",
    "    lr = model.named_steps['lr']\n",
    "    coef = lr.coef_\n",
    "\n",
    "    if coef.shape[0] == 1: # binary fb: class 0 is the opposite of class 1\n",
    "        coef = np.vstack([-coef, coef])\n",
    "\n",
    "    most_important = np.argsort(np.abs(coef), axis=1)[:, -features:]\n",
    "    words = np.asarray(model.named_steps['tfidf'].get_feature_names())\n",
    "\n",
    "    print('Total features:', len(words))\n",
    "\n",
    "    importances = [pd.DataFrame({c: words[m], 'importance': w[m]})\n",
    "                    .sort_values('importance', ascending=False)\n",
    "                    .set_index(c)\n",
    "                for c, w, m in zip(lr.classes_, coef, most_important)]\n",
    "    \n",
    "    for i in importances:\n",
    "        display(i.T.round(2))\n",
    "\n",
    "explain(subject_fn, features=6)"
   ]
  },
  {
   "cell_type": "code",
   "execution_count": null,
   "metadata": {
    "colab": {
     "base_uri": "https://localhost:8080/",
     "height": 1000
    },
    "colab_type": "code",
    "executionInfo": {
     "elapsed": 20079,
     "status": "ok",
     "timestamp": 1593319042802,
     "user": {
      "displayName": "Lucas",
      "photoUrl": "https://lh3.googleusercontent.com/a-/AOh14GgO-xqdSSwbB8xXos7Shqhpq7QJ06mYVUvdLDRcbQ=s64",
      "userId": "01670254553878112810"
     },
     "user_tz": 180
    },
    "id": "Ni6AKHMn0x2p",
    "outputId": "b98b8db5-e6eb-490b-e845-31c3284e6edd"
   },
   "outputs": [],
   "source": [
    "def evaluate(model, x, y, created_at):\n",
    "    p = model.predict(x)\n",
    "    pa = model.predict_proba(x)\n",
    "    print(metrics.classification_report(y, p))\n",
    "\n",
    "    plt.figure(figsize=(12, 5))\n",
    "    plt.subplot(121)\n",
    "    show_proba_distributions(model, y, pa)\n",
    "    \n",
    "    if pa.shape[1] == 2:  # cm doesnt help much in binary problems\n",
    "        plt.subplot(122)\n",
    "        show_confusion_matrix(y, p, model.classes_)\n",
    "\n",
    "    plt.figure(figsize=(5, 5))\n",
    "    show_period_degradation(y, p, created_at)\n",
    "\n",
    "    return p\n",
    "\n",
    "def show_confusion_matrix(y, p, labels):\n",
    "    plt.title('Confusion Matrix')\n",
    "    c = metrics.confusion_matrix(y, p)\n",
    "    c = c / c.sum(axis=1, keepdims=True)\n",
    "    sns.heatmap(c,\n",
    "                linewidths=.5, cmap='RdPu', annot=True, fmt='.0%', cbar=False,\n",
    "                xticklabels=labels, yticklabels=labels);\n",
    "\n",
    "def show_proba_distributions(model, y, pa):\n",
    "    for i, c in enumerate(model.classes_):\n",
    "        selected = y == c\n",
    "        sns.distplot(pa[selected, i], label=c)\n",
    "    \n",
    "    plt.title('Prediction Probability Distributions')\n",
    "    plt.legend()\n",
    "    plt.tight_layout()\n",
    "\n",
    "def show_period_degradation(y, p, created_at):\n",
    "    x = pd.DataFrame({'y': y, 'p': p, 'created_at': created_at})\n",
    "    r = []\n",
    "\n",
    "    for m, t in x.groupby(created_at.dt.to_period('M')):\n",
    "        r.append((m,\n",
    "                  metrics.accuracy_score(t.y, t.p),\n",
    "                  metrics.balanced_accuracy_score(t.y, t.p),\n",
    "                  len(p)))\n",
    "\n",
    "    r = pd.DataFrame(r, columns=['period', 'avg_accuracy', 'avg_balanced_accuracy', 'samples'])\n",
    "    d = r.assign(month=r.period.astype(str))\n",
    "    d = d.melt(['period', 'samples'], ['avg_accuracy', 'avg_balanced_accuracy'])\n",
    "\n",
    "    plt.title('Estimator Metrics Over The Following Periods')\n",
    "    sns.lineplot(x='period', y='value', hue='variable', data=d)\n",
    "    sns.scatterplot(x='period', y='value', hue='variable', size='samples', data=d)\n",
    "    plt.xticks(rotation=-70)\n",
    "    plt.tight_layout()\n",
    "    plt.legend(bbox_to_anchor=(1, 1), loc=2, borderaxespad=0.)\n",
    "\n",
    "evaluate(subject_fn, test.title, test.subject, test.created_at);"
   ]
  },
  {
   "cell_type": "markdown",
   "metadata": {
    "colab_type": "text",
    "id": "wmwf0muuOLUJ"
   },
   "source": [
    "### Aprendendo o assunto a partir do texto da reportagem"
   ]
  },
  {
   "cell_type": "code",
   "execution_count": null,
   "metadata": {
    "colab": {
     "base_uri": "https://localhost:8080/",
     "height": 686
    },
    "colab_type": "code",
    "executionInfo": {
     "elapsed": 67301,
     "status": "ok",
     "timestamp": 1593319090039,
     "user": {
      "displayName": "Lucas",
      "photoUrl": "https://lh3.googleusercontent.com/a-/AOh14GgO-xqdSSwbB8xXos7Shqhpq7QJ06mYVUvdLDRcbQ=s64",
      "userId": "01670254553878112810"
     },
     "user_tz": 180
    },
    "id": "iTGfJbgIOUeE",
    "outputId": "2a17a7ba-ea90-4afb-ef89-2be3d7aa69b1"
   },
   "outputs": [],
   "source": [
    "subject_fn = build_and_train_op(train.text, train.subject)\n",
    "explain(subject_fn, features=6)"
   ]
  },
  {
   "cell_type": "code",
   "execution_count": null,
   "metadata": {
    "colab": {
     "base_uri": "https://localhost:8080/",
     "height": 1000
    },
    "colab_type": "code",
    "executionInfo": {
     "elapsed": 78516,
     "status": "ok",
     "timestamp": 1593319101269,
     "user": {
      "displayName": "Lucas",
      "photoUrl": "https://lh3.googleusercontent.com/a-/AOh14GgO-xqdSSwbB8xXos7Shqhpq7QJ06mYVUvdLDRcbQ=s64",
      "userId": "01670254553878112810"
     },
     "user_tz": 180
    },
    "id": "y0vxuPddTtiq",
    "outputId": "23efc265-edf5-48a3-eff6-e2d6f7430b9c"
   },
   "outputs": [],
   "source": [
    "evaluate(subject_fn, test.text, test.subject, test.created_at);"
   ]
  },
  {
   "cell_type": "code",
   "execution_count": null,
   "metadata": {
    "colab": {
     "base_uri": "https://localhost:8080/",
     "height": 1000
    },
    "colab_type": "code",
    "executionInfo": {
     "elapsed": 142648,
     "status": "ok",
     "timestamp": 1593319165416,
     "user": {
      "displayName": "Lucas",
      "photoUrl": "https://lh3.googleusercontent.com/a-/AOh14GgO-xqdSSwbB8xXos7Shqhpq7QJ06mYVUvdLDRcbQ=s64",
      "userId": "01670254553878112810"
     },
     "user_tz": 180
    },
    "id": "NgzpGKcxi5rj",
    "outputId": "59245a9a-948c-4249-bd02-5e3b3306ff99"
   },
   "outputs": [],
   "source": [
    "subject_fn = build_and_train_op(train.title + ' ' + train.text, train.subject)\n",
    "explain(subject_fn, features=6)\n",
    "evaluate(subject_fn, test.title + ' ' + test.text, test.subject, test.created_at);"
   ]
  },
  {
   "cell_type": "markdown",
   "metadata": {
    "colab_type": "text",
    "id": "lncph5vdJ_91"
   },
   "source": [
    "#### Procurando os melhores parâmetros"
   ]
  },
  {
   "cell_type": "code",
   "execution_count": null,
   "metadata": {
    "colab": {
     "base_uri": "https://localhost:8080/",
     "height": 263
    },
    "colab_type": "code",
    "executionInfo": {
     "elapsed": 526957,
     "status": "ok",
     "timestamp": 1593320438412,
     "user": {
      "displayName": "Lucas",
      "photoUrl": "https://lh3.googleusercontent.com/a-/AOh14GgO-xqdSSwbB8xXos7Shqhpq7QJ06mYVUvdLDRcbQ=s64",
      "userId": "01670254553878112810"
     },
     "user_tz": 180
    },
    "id": "idKP0uY0KEvo",
    "outputId": "9aaa2f26-fa49-4f1a-e583-831979b119ee"
   },
   "outputs": [],
   "source": [
    "from sklearn.model_selection import GridSearchCV\n",
    "\n",
    "params = {\n",
    "    'tfidf__ngram_range': [(1, 1), (2, 2), (3, 3), (1, 3)],\n",
    "    'tfidf__max_features': [4096],\n",
    "}\n",
    "\n",
    "subject_gr = GridSearchCV(\n",
    "    subject_fn,\n",
    "    params,\n",
    "    cv=3,\n",
    "    n_jobs=-1,\n",
    "    verbose=1\n",
    ").fit(train.title + ' ' + train.text, train.subject)"
   ]
  },
  {
   "cell_type": "code",
   "execution_count": null,
   "metadata": {
    "colab": {
     "base_uri": "https://localhost:8080/",
     "height": 34
    },
    "colab_type": "code",
    "executionInfo": {
     "elapsed": 1086,
     "status": "ok",
     "timestamp": 1593320439503,
     "user": {
      "displayName": "Lucas",
      "photoUrl": "https://lh3.googleusercontent.com/a-/AOh14GgO-xqdSSwbB8xXos7Shqhpq7QJ06mYVUvdLDRcbQ=s64",
      "userId": "01670254553878112810"
     },
     "user_tz": 180
    },
    "id": "ezao7FCtNDUA",
    "outputId": "8ff105e3-9357-47f7-9991-1c3aa111c5e4"
   },
   "outputs": [],
   "source": [
    "subject_gr.best_params_"
   ]
  },
  {
   "cell_type": "code",
   "execution_count": null,
   "metadata": {
    "colab": {
     "base_uri": "https://localhost:8080/",
     "height": 1000
    },
    "colab_type": "code",
    "executionInfo": {
     "elapsed": 23119,
     "status": "ok",
     "timestamp": 1593320462656,
     "user": {
      "displayName": "Lucas",
      "photoUrl": "https://lh3.googleusercontent.com/a-/AOh14GgO-xqdSSwbB8xXos7Shqhpq7QJ06mYVUvdLDRcbQ=s64",
      "userId": "01670254553878112810"
     },
     "user_tz": 180
    },
    "id": "swkAcwlWKcAa",
    "outputId": "0ade09cb-4441-4c42-d4b9-2804567b3386"
   },
   "outputs": [],
   "source": [
    "explain(subject_gr.best_estimator_, features=6);"
   ]
  },
  {
   "cell_type": "code",
   "execution_count": null,
   "metadata": {
    "colab": {},
    "colab_type": "code",
    "id": "iyCs5DkX_k2z"
   },
   "outputs": [],
   "source": [
    "evaluate(subject_gr, test.title + ' ' + test.text, test.subject, test.created_at);"
   ]
  }
 ],
 "metadata": {
  "jupytext": {
   "main_language": "python"
  },
  "kernelspec": {
   "display_name": "Python 3",
   "name": "python3"
  }
 },
 "nbformat": 4,
 "nbformat_minor": 2
}
