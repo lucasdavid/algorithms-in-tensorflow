{
 "cells": [
  {
   "cell_type": "markdown",
   "id": "toxic-headline",
   "metadata": {},
   "source": [
    "# Cityscapes"
   ]
  },
  {
   "cell_type": "markdown",
   "id": "vocational-auckland",
   "metadata": {},
   "source": [
    "## Setup"
   ]
  },
  {
   "cell_type": "code",
   "execution_count": 1,
   "id": "strange-falls",
   "metadata": {},
   "outputs": [
    {
     "name": "stdout",
     "output_type": "stream",
     "text": [
      "Note: you may need to restart the kernel to use updated packages.\n"
     ]
    }
   ],
   "source": [
    "pip -q install cityscapesscripts"
   ]
  },
  {
   "cell_type": "code",
   "execution_count": 2,
   "id": "radical-education",
   "metadata": {},
   "outputs": [],
   "source": [
    "import cityscapesscripts"
   ]
  }
 ],
 "metadata": {
  "kernelspec": {
   "display_name": "Python 3",
   "language": "python",
   "name": "python3"
  },
  "language_info": {
   "codemirror_mode": {
    "name": "ipython",
    "version": 3
   },
   "file_extension": ".py",
   "mimetype": "text/x-python",
   "name": "python",
   "nbconvert_exporter": "python",
   "pygments_lexer": "ipython3",
   "version": "3.8.5"
  }
 },
 "nbformat": 4,
 "nbformat_minor": 5
}
