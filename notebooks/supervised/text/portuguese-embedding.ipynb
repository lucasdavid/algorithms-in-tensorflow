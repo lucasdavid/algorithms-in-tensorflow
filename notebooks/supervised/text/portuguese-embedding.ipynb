{
 "cells": [
  {
   "cell_type": "markdown",
   "metadata": {
    "id": "Tdt2KMvCbJhC"
   },
   "source": [
    "# Portuguese Embeddings"
   ]
  },
  {
   "cell_type": "markdown",
   "metadata": {
    "id": "X8iRH8t8bRmW"
   },
   "source": [
    "## Setup"
   ]
  },
  {
   "cell_type": "code",
   "execution_count": null,
   "metadata": {
    "cellView": "form",
    "colab": {
     "base_uri": "https://localhost:8080/"
    },
    "executionInfo": {
     "elapsed": 5091,
     "status": "ok",
     "timestamp": 1606915564844,
     "user": {
      "displayName": "Lucas",
      "photoUrl": "https://lh3.googleusercontent.com/a-/AOh14GgO-xqdSSwbB8xXos7Shqhpq7QJ06mYVUvdLDRcbQ=s64",
      "userId": "01670254553878112810"
     },
     "user_tz": 180
    },
    "id": "Yb-Cbr29w9mc",
    "outputId": "74efad2b-c7aa-47ec-ac1c-5eac29b1042f"
   },
   "outputs": [],
   "source": [
    "#@title\n",
    "\n",
    "import os\n",
    "\n",
    "!pip install --quiet tensorflow_text\n",
    "os.environ[\"TFHUB_MODEL_LOAD_FORMAT\"] = \"COMPRESSED\""
   ]
  },
  {
   "cell_type": "code",
   "execution_count": null,
   "metadata": {
    "cellView": "form",
    "executionInfo": {
     "elapsed": 8243,
     "status": "ok",
     "timestamp": 1606915568001,
     "user": {
      "displayName": "Lucas",
      "photoUrl": "https://lh3.googleusercontent.com/a-/AOh14GgO-xqdSSwbB8xXos7Shqhpq7QJ06mYVUvdLDRcbQ=s64",
      "userId": "01670254553878112810"
     },
     "user_tz": 180
    },
    "id": "8w-1HwfJbHSH"
   },
   "outputs": [],
   "source": [
    "#@title\n",
    "\n",
    "import numpy as np\n",
    "\n",
    "import tensorflow as tf\n",
    "import tensorflow_hub as hub\n",
    "import tensorflow_text as tf_text\n",
    "import tensorflow_datasets as tfds\n",
    "\n",
    "import matplotlib.pyplot as plt\n",
    "import seaborn as sns"
   ]
  },
  {
   "cell_type": "code",
   "execution_count": null,
   "metadata": {
    "executionInfo": {
     "elapsed": 8241,
     "status": "ok",
     "timestamp": 1606915568002,
     "user": {
      "displayName": "Lucas",
      "photoUrl": "https://lh3.googleusercontent.com/a-/AOh14GgO-xqdSSwbB8xXos7Shqhpq7QJ06mYVUvdLDRcbQ=s64",
      "userId": "01670254553878112810"
     },
     "user_tz": 180
    },
    "id": "NIGCSW7Oz2PK"
   },
   "outputs": [],
   "source": [
    "sns.set()"
   ]
  },
  {
   "cell_type": "code",
   "execution_count": null,
   "metadata": {
    "executionInfo": {
     "elapsed": 8240,
     "status": "ok",
     "timestamp": 1606915568004,
     "user": {
      "displayName": "Lucas",
      "photoUrl": "https://lh3.googleusercontent.com/a-/AOh14GgO-xqdSSwbB8xXos7Shqhpq7QJ06mYVUvdLDRcbQ=s64",
      "userId": "01670254553878112810"
     },
     "user_tz": 180
    },
    "id": "fBNw2VBWiHbb"
   },
   "outputs": [],
   "source": [
    "%load_ext tensorboard"
   ]
  },
  {
   "cell_type": "markdown",
   "metadata": {
    "id": "YF9g8oVyceBT"
   },
   "source": [
    "## Model Definition"
   ]
  },
  {
   "cell_type": "code",
   "execution_count": null,
   "metadata": {
    "executionInfo": {
     "elapsed": 21411,
     "status": "ok",
     "timestamp": 1606915581177,
     "user": {
      "displayName": "Lucas",
      "photoUrl": "https://lh3.googleusercontent.com/a-/AOh14GgO-xqdSSwbB8xXos7Shqhpq7QJ06mYVUvdLDRcbQ=s64",
      "userId": "01670254553878112810"
     },
     "user_tz": 180
    },
    "id": "kPVheMF21_g5"
   },
   "outputs": [],
   "source": [
    "embed = hub.load(\"https://tfhub.dev/google/universal-sentence-encoder-multilingual-large/3\")"
   ]
  },
  {
   "cell_type": "markdown",
   "metadata": {
    "id": "2zQKopAH2AkM"
   },
   "source": [
    "## Application"
   ]
  },
  {
   "cell_type": "code",
   "execution_count": null,
   "metadata": {
    "executionInfo": {
     "elapsed": 573,
     "status": "ok",
     "timestamp": 1606915717430,
     "user": {
      "displayName": "Lucas",
      "photoUrl": "https://lh3.googleusercontent.com/a-/AOh14GgO-xqdSSwbB8xXos7Shqhpq7QJ06mYVUvdLDRcbQ=s64",
      "userId": "01670254553878112810"
     },
     "user_tz": 180
    },
    "id": "CykjVs9m2C2z"
   },
   "outputs": [],
   "source": [
    "# sentences = [\n",
    "#   'Hello there!',\n",
    "#   'Hi! Long time no see!',\n",
    "#   'It\\'s been so long! How are you?',\n",
    "\n",
    "#   'Bye, see you later.',\n",
    "#   'We will talk later, ok?',\n",
    "#   'I have to go now, but we should hang out more.',\n",
    "#   'I\\'m late for my appointment. Why don\\'t you call me later and we will grab lunch?',\n",
    "  \n",
    "#   'I want to talk about a problem I am having with my computer',\n",
    "#   'Which kind of computer games do you play?',\n",
    "#   'My computer broke, so I won\\'t be able to do my homework this week',\n",
    "  \n",
    "#   'My dog is very cuddly',\n",
    "#   'My dog barks a lot. He is a good boy though.',\n",
    "#   'I am more of a cat person, to be honest',\n",
    "#   'I have been trying to adopt a cat for two weeks now',\n",
    "\n",
    "#   'I love old movies',\n",
    "#   'I have been watching a lot of foreigner films lately',\n",
    "#   'I do enjoy marvel movies, but the last one was not good',\n",
    "#   'I\\'m still digesting what happend at the end of that movie.',\n",
    "#   'I hate that show! It\\'s so boring.'\n",
    "# ]\n",
    "\n",
    "sentences = [\n",
    "   'quais são os meus cartões ativos?',\n",
    "   'liste meus cartões, por favor',\n",
    "\n",
    "   'Qual é o saldo do meu cartão alimentação?',\n",
    "   'Me mostre o extrado do meu cartão refeição.',\n",
    "\n",
    "   'Não consigo usar meu cartão de crédito',\n",
    "   'Meu cartão de crédito foi roubado ontem e eu quero cancelar',\n",
    "   'Não consigo sacar o dinheiro do meu cartão débido',\n",
    "\n",
    "   'Você fizeram uma cobrança indevida ontem e até agora não extornaram.',\n",
    "   'Me cobraram R$200,00 ontem, mas a venda não foi concredizada. Quero o dinheiro de volta.',\n",
    "   \n",
    "   'A sua máquina não funciona. Estou a várias horas e até agora não consigo emitir a nota fiscal.',\n",
    "   'Tenho uma máquina defeituosa aqui. Quero trocá-la, por favor.',\n",
    "   'A máquina de passar não está lendo os cartões. Preciso de outra urgente!',\n",
    "   \n",
    "   'Estou tentando entrar em contato com vocês desde ontem.',\n",
    "   'Já liguei várias vezes e ninguém resolve meu problema.',\n",
    "]"
   ]
  },
  {
   "cell_type": "code",
   "execution_count": null,
   "metadata": {
    "executionInfo": {
     "elapsed": 541,
     "status": "ok",
     "timestamp": 1606915718985,
     "user": {
      "displayName": "Lucas",
      "photoUrl": "https://lh3.googleusercontent.com/a-/AOh14GgO-xqdSSwbB8xXos7Shqhpq7QJ06mYVUvdLDRcbQ=s64",
      "userId": "01670254553878112810"
     },
     "user_tz": 180
    },
    "id": "dHskI_KLwmgz"
   },
   "outputs": [],
   "source": [
    "y = embed(sentences)\n",
    "hm = np.inner(y, y)"
   ]
  },
  {
   "cell_type": "code",
   "execution_count": null,
   "metadata": {
    "cellView": "form",
    "colab": {
     "base_uri": "https://localhost:8080/",
     "height": 1000
    },
    "executionInfo": {
     "elapsed": 2782,
     "status": "ok",
     "timestamp": 1606915721876,
     "user": {
      "displayName": "Lucas",
      "photoUrl": "https://lh3.googleusercontent.com/a-/AOh14GgO-xqdSSwbB8xXos7Shqhpq7QJ06mYVUvdLDRcbQ=s64",
      "userId": "01670254553878112810"
     },
     "user_tz": 180
    },
    "id": "_UOkFBUdzOgk",
    "outputId": "32fff0fc-2ea0-42e5-a80c-b3d005e94b66"
   },
   "outputs": [],
   "source": [
    "#@title\n",
    "\n",
    "plt.figure(figsize=(16, 12))\n",
    "sns.heatmap(hm,\n",
    "            mask=hm <= .1,\n",
    "            yticklabels=sentences, xticklabels=sentences,\n",
    "            linewidths=.5, cmap='RdPu', annot=True, fmt='.0%', cbar=False, annot_kws={\"fontsize\": 10});"
   ]
  },
  {
   "cell_type": "code",
   "execution_count": null,
   "metadata": {
    "executionInfo": {
     "elapsed": 27574,
     "status": "ok",
     "timestamp": 1606915587354,
     "user": {
      "displayName": "Lucas",
      "photoUrl": "https://lh3.googleusercontent.com/a-/AOh14GgO-xqdSSwbB8xXos7Shqhpq7QJ06mYVUvdLDRcbQ=s64",
      "userId": "01670254553878112810"
     },
     "user_tz": 180
    },
    "id": "7xQypggz9VPW"
   },
   "outputs": [],
   "source": [
    "TOP_K = 3\n",
    "\n",
    "s = hm.argsort(axis=1)[:, :-TOP_K-1:-1]"
   ]
  },
  {
   "cell_type": "code",
   "execution_count": null,
   "metadata": {
    "colab": {
     "base_uri": "https://localhost:8080/"
    },
    "executionInfo": {
     "elapsed": 27569,
     "status": "ok",
     "timestamp": 1606915587355,
     "user": {
      "displayName": "Lucas",
      "photoUrl": "https://lh3.googleusercontent.com/a-/AOh14GgO-xqdSSwbB8xXos7Shqhpq7QJ06mYVUvdLDRcbQ=s64",
      "userId": "01670254553878112810"
     },
     "user_tz": 180
    },
    "id": "Jwj8zIKW9qou",
    "outputId": "f2b105c9-2c1d-4352-d421-2bf6add56470"
   },
   "outputs": [],
   "source": [
    "for sentence, *closest in np.asarray(sentences)[s]:\n",
    "    print(f'{sentence}', *closest, sep='\\n  - ', end='\\n\\n')"
   ]
  }
 ],
 "metadata": {
  "jupytext": {
   "main_language": "python"
  },
  "kernelspec": {
   "display_name": "Python 3",
   "name": "python3"
  }
 },
 "nbformat": 4,
 "nbformat_minor": 2
}
