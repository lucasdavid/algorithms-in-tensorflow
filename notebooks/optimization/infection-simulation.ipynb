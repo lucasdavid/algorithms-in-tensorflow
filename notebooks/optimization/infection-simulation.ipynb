{
 "cells": [
  {
   "cell_type": "markdown",
   "metadata": {
    "colab_type": "text",
    "id": "D7gaNSKxJrkH"
   },
   "source": [
    "# Modelo lindo de infecção progressiva estocastica\n"
   ]
  },
  {
   "cell_type": "markdown",
   "metadata": {
    "colab_type": "text",
    "id": "ukj-AtwZK8vK"
   },
   "source": [
    "## Introdução\n",
    "\n",
    "A alguns dias atrás, vi no facebok a seguinte imagem:\n",
    "\n",
    "![Modelo de infecção com isolamento em árvore](https://scontent.fcpq4-1.fna.fbcdn.net/v/t1.0-9/91112031_3683857418354413_569726385317216256_o.jpg?_nc_cat=100&_nc_sid=8bfeb9&_nc_ohc=T6sLKt5A6IkAX9CZbrx&_nc_pt=1&_nc_ht=scontent.fcpq4-1.fna&oh=17a20312c67a4307eeaf138076b39d5f&oe=5EA33542)\n",
    "\n",
    "Ela descreve um modelo de infeção em árvore, onde uma pessoa tem o potencial de infectar outras três. Esse número vem dos relatórios canonicos (?) sobre infectologia, mas representa um modelo muito solto em relação ao cenário real.\n",
    "\n",
    "Abaixo eu descrevo um modelo que acredito ser mais realista, baseado em relacionamentos extraídos de uma base dados sobre conecções entre usuários do Facebook.\n",
    "\n",
    "As principais diferenças são:\n",
    "\n",
    "- Grafo de baixo raio (4.7) e, portanto, muito mais conexo que a árvore acima (aproxima melhor as relações sociais humanas)\n",
    "- Constantes do sistema são razoavelmente supostas a partir de dados extraídos de fontes estáveis (e.g. IBGE). Algumas destas são: proba home-officing, proba de infecção, dias de quarentena-em-casa.\n",
    "\n",
    "**Disclaimer:** mesmo que as relações sociais sejam melhor representadas\n",
    "por grafos complexos de múltiplos *clusters* do que por árvores ou conexões aleatórias, este problema possui uma propriedade fractal onde cada cluster se comporta como um indivíduo.\n",
    "As mesmas propriedades valem e os eventos são recursivamente passados para os indivíduos membros. Portanto, um modelo de infecção baseado em grafos realistas (como este) e um modelo de infeção aleatório (mais eficiente) se aproximam e possuem\n",
    "taxas de erro muito similares na prática."
   ]
  },
  {
   "cell_type": "code",
   "execution_count": null,
   "metadata": {
    "attributes": {
     "classes": [],
     "id": "",
     "n": "1"
    },
    "colab": {
     "base_uri": "https://localhost:8080/",
     "height": 54
    },
    "colab_type": "code",
    "executionInfo": {
     "elapsed": 1498,
     "status": "ok",
     "timestamp": 1586314215509,
     "user": {
      "displayName": "Lucas",
      "photoUrl": "https://lh3.googleusercontent.com/a-/AOh14GgO-xqdSSwbB8xXos7Shqhpq7QJ06mYVUvdLDRcbQ=s64",
      "userId": "01670254553878112810"
     },
     "user_tz": 180
    },
    "id": "jTFRhvkFm0ue",
    "outputId": "9d65c5ae-ffba-48e3-c798-0068dc857e60"
   },
   "outputs": [],
   "source": [
    "import os\n",
    "from math import ceil\n",
    "\n",
    "import numpy as np\n",
    "import pandas as pd\n",
    "from numpy.random import rand\n",
    "import networkx as nx\n",
    "from google.colab import drive\n",
    "\n",
    "import matplotlib.pyplot as plt\n",
    "import matplotlib.animation as animation\n",
    "import seaborn as sns"
   ]
  },
  {
   "cell_type": "code",
   "execution_count": null,
   "metadata": {
    "colab": {},
    "colab_type": "code",
    "id": "zHbGvnUR4nQi"
   },
   "outputs": [],
   "source": [
    "sns.set()"
   ]
  },
  {
   "cell_type": "markdown",
   "metadata": {
    "colab_type": "text",
    "id": "2NJuKctmMCR_"
   },
   "source": [
    "## Lendo o conjunto de dados *Facebook Circles*\n",
    "\n",
    "As relações sociais são simuladas pelo grafo descrito no conjunto de dados *Facebook Circles*, contendo links de amizade no Facebook de usuários anonimizados.\n",
    "\n",
    "Para esta simulação, foi considerada a componente conexa de maior cardinalidade e os demais nós e arestas foram descartados."
   ]
  },
  {
   "cell_type": "code",
   "execution_count": null,
   "metadata": {
    "colab": {},
    "colab_type": "code",
    "id": "SUlLAODsfyNv"
   },
   "outputs": [],
   "source": [
    "FACEBOOK_DIR = '/content/gdrive/My Drive/datasets/facebook'"
   ]
  },
  {
   "cell_type": "code",
   "execution_count": null,
   "metadata": {
    "cellView": "form",
    "colab": {
     "base_uri": "https://localhost:8080/",
     "height": 129
    },
    "colab_type": "code",
    "executionInfo": {
     "elapsed": 78774,
     "status": "ok",
     "timestamp": 1586314292802,
     "user": {
      "displayName": "Lucas",
      "photoUrl": "https://lh3.googleusercontent.com/a-/AOh14GgO-xqdSSwbB8xXos7Shqhpq7QJ06mYVUvdLDRcbQ=s64",
      "userId": "01670254553878112810"
     },
     "user_tz": 180
    },
    "id": "Xqkkj45xfYt-",
    "outputId": "07d9d9be-9c23-4670-f77b-dd46835906b2"
   },
   "outputs": [],
   "source": [
    "#@title\n",
    "\n",
    "drive.mount('/content/gdrive')\n",
    "\n",
    "FILES = os.listdir(FACEBOOK_DIR)\n",
    "FILE_GROUPS = ('.edges', '.egofeat', '.feat', '.featnames', '.circles')\n",
    "EDGES, EGO_FEAT, FEAT, FEAT_NAMES, CIRCLES = ([f for f in FILES if f.endswith(ext)]\n",
    "                                              for ext in FILE_GROUPS)\n",
    "\n",
    "G = (nx.read_edgelist(os.path.join(FACEBOOK_DIR, e)) for e in EDGES)\n",
    "G = nx.compose_all(G)\n",
    "\n",
    "# For simplicity, only consider the largest connected component.\n",
    "largest_cc = max(nx.connected_components(G), key=len)\n",
    "G = G.subgraph(largest_cc).copy()\n",
    "\n",
    "pos = nx.spring_layout(G)"
   ]
  },
  {
   "cell_type": "code",
   "execution_count": null,
   "metadata": {
    "cellView": "form",
    "colab": {
     "base_uri": "https://localhost:8080/",
     "height": 54
    },
    "colab_type": "code",
    "executionInfo": {
     "elapsed": 78767,
     "status": "ok",
     "timestamp": 1586314292803,
     "user": {
      "displayName": "Lucas",
      "photoUrl": "https://lh3.googleusercontent.com/a-/AOh14GgO-xqdSSwbB8xXos7Shqhpq7QJ06mYVUvdLDRcbQ=s64",
      "userId": "01670254553878112810"
     },
     "user_tz": 180
    },
    "id": "-IA6zRW0fXeA",
    "outputId": "9642f44e-1f8d-4fd8-86e5-e11727a5c275"
   },
   "outputs": [],
   "source": [
    "#@title\n",
    "\n",
    "print('Indivíduos:', len(G))\n",
    "print('Relacionamentos:', len(G.edges))"
   ]
  },
  {
   "cell_type": "code",
   "execution_count": null,
   "metadata": {
    "attributes": {
     "classes": [],
     "id": "",
     "n": "2"
    },
    "cellView": "form",
    "colab": {},
    "colab_type": "code",
    "id": "rKrrBk8Sm0uq"
   },
   "outputs": [],
   "source": [
    "#@title definindo algumas funções úteis\n",
    "\n",
    "def show_contamination_graph(G, pos, contaminated, verbose=1, ax=None):\n",
    "    if verbose:\n",
    "        print('population:', len(G))\n",
    "        print(f'contaminated: {len(contaminated)} ({len(contaminated) / len(G):.2%})')\n",
    "\n",
    "    nx.draw_networkx_nodes(G, pos,\n",
    "                           node_color=~np.isin(G.nodes, contaminated),\n",
    "                           node_size=10,\n",
    "                           alpha=.8,\n",
    "                           cmap=plt.cm.Set1,\n",
    "                           ax=ax)\n",
    "    nx.draw_networkx_edges(G, pos, width=1, alpha=.1, ax=ax)\n",
    "    plt.axis('off')\n",
    "\n",
    "def show_contamination_progress(G, pos, contaminated, verbose=1, ax=None):\n",
    "    COLUMNS = 7\n",
    "\n",
    "    for day, c in enumerate(contaminated):\n",
    "        infection_rate = len(c) / len(G)\n",
    "\n",
    "        plt.subplot(ceil(len(contaminated) / COLUMNS), COLUMNS, day + 1, title=f'Day {day} {infection_rate:.0%}')\n",
    "        show_contamination_graph(G, pos, list(c), verbose=0)\n",
    "\n",
    "def random_uniform_sample(G, rate):\n",
    "  return np.asarray(G.nodes)[np.random.rand(len(G)) <= rate]"
   ]
  },
  {
   "cell_type": "markdown",
   "metadata": {
    "colab_type": "text",
    "id": "sOqhbHiKgM5m"
   },
   "source": [
    "### Situação inicial de contaminação"
   ]
  },
  {
   "cell_type": "code",
   "execution_count": null,
   "metadata": {
    "attributes": {
     "classes": [],
     "id": "",
     "n": "5"
    },
    "cellView": "form",
    "colab": {
     "base_uri": "https://localhost:8080/",
     "height": 303
    },
    "colab_type": "code",
    "executionInfo": {
     "elapsed": 80245,
     "status": "ok",
     "timestamp": 1586314294292,
     "user": {
      "displayName": "Lucas",
      "photoUrl": "https://lh3.googleusercontent.com/a-/AOh14GgO-xqdSSwbB8xXos7Shqhpq7QJ06mYVUvdLDRcbQ=s64",
      "userId": "01670254553878112810"
     },
     "user_tz": 180
    },
    "id": "pFeDr0DXm0vA",
    "outputId": "68f555d4-8b4b-4035-fded-bff294515dd0"
   },
   "outputs": [],
   "source": [
    "#@title\n",
    "\n",
    "CONTAMINATED_RATE = .01\n",
    "print('taxa de contaminados:', CONTAMINATED_RATE)\n",
    "\n",
    "contaminated_0 = random_uniform_sample(G, CONTAMINATED_RATE)\n",
    "\n",
    "show_contamination_graph(G, pos, contaminated_0)"
   ]
  },
  {
   "cell_type": "markdown",
   "metadata": {
    "colab_type": "text",
    "id": "fBwtRSAPM-CP"
   },
   "source": [
    "## Modelo de infecção instantânea\n",
    "\n",
    "Neste modelo, um indivíduo infectado imediatamente infecta seus vizinhos em um único *epoch*."
   ]
  },
  {
   "cell_type": "markdown",
   "metadata": {
    "colab_type": "text",
    "id": "EmgWQAgrNPbI"
   },
   "source": [
    "### Exibindo extensão da infecção\n",
    "\n",
    "Neste primeiro cenário, os indivíduos continuam suas rotinas de interação normalmente."
   ]
  },
  {
   "cell_type": "code",
   "execution_count": null,
   "metadata": {
    "attributes": {
     "classes": [],
     "id": "",
     "n": "6"
    },
    "cellView": "form",
    "colab": {
     "base_uri": "https://localhost:8080/",
     "height": 285
    },
    "colab_type": "code",
    "executionInfo": {
     "elapsed": 85119,
     "status": "ok",
     "timestamp": 1586314299172,
     "user": {
      "displayName": "Lucas",
      "photoUrl": "https://lh3.googleusercontent.com/a-/AOh14GgO-xqdSSwbB8xXos7Shqhpq7QJ06mYVUvdLDRcbQ=s64",
      "userId": "01670254553878112810"
     },
     "user_tz": 180
    },
    "id": "IyON2gkRm0vI",
    "outputId": "52683595-9b6b-4e73-d53a-37c5aa10476c"
   },
   "outputs": [],
   "source": [
    "#@title\n",
    "\n",
    "def expand_contamination(G, contaminated):\n",
    "    contamination_trees = [nx.algorithms.dfs_tree(G, c) for c in contaminated]\n",
    "    return (nx.compose_all(contamination_trees)\n",
    "              .nodes)\n",
    "\n",
    "contaminated_1 = expand_contamination(G, contaminated_0)\n",
    "\n",
    "show_contamination_graph(G, pos, contaminated_1)"
   ]
  },
  {
   "cell_type": "markdown",
   "metadata": {
    "colab_type": "text",
    "id": "1zPeYc2Wm0vO"
   },
   "source": [
    "### Indivíduos aleatórios estão executando *home-officing*\n",
    "\n",
    "According to\n",
    "[IBGE](https://biblioteca.ibge.gov.br/visualizacao/livros/liv101694_informativo.pdf),\n",
    "5.2% of the working class would work from home in 2018. Let's up-top that with\n",
    "10% now that the pandemic is here."
   ]
  },
  {
   "cell_type": "code",
   "execution_count": null,
   "metadata": {
    "attributes": {
     "classes": [],
     "id": "",
     "n": "7"
    },
    "cellView": "form",
    "colab": {},
    "colab_type": "code",
    "id": "lWeMFGQPm0vP"
   },
   "outputs": [],
   "source": [
    "#@title\n",
    "\n",
    "def expand_contamination_ho(G, contaminated, home_officing):\n",
    "    G_nho = G.copy()\n",
    "    G_nho.remove_nodes_from(home_officing)\n",
    "\n",
    "    contaminated_not_ho = contaminated[~np.isin(contaminated, home_officing)]\n",
    "    if len(contaminated_not_ho):\n",
    "      contaminated_not_ho = expand_contamination(G_nho, contaminated_not_ho)\n",
    "    else:\n",
    "      contaminated_not_ho = []\n",
    "\n",
    "    return list(set(contaminated) | set(contaminated_not_ho))\n",
    "\n",
    "\n",
    "def experiment(home_office_rate, contaminated_rate):\n",
    "    home_officing_0 = random_uniform_sample(G, home_office_rate)\n",
    "    contaminated_0 = random_uniform_sample(G, contaminated_rate)\n",
    "    contaminated_1 = expand_contamination_ho(G, contaminated_0, home_officing_0)\n",
    "    \n",
    "    show_contamination_graph(G, pos, contaminated_1)"
   ]
  },
  {
   "cell_type": "code",
   "execution_count": null,
   "metadata": {
    "attributes": {
     "classes": [],
     "id": "",
     "n": "8"
    },
    "colab": {
     "base_uri": "https://localhost:8080/",
     "height": 285
    },
    "colab_type": "code",
    "executionInfo": {
     "elapsed": 89983,
     "status": "ok",
     "timestamp": 1586314304045,
     "user": {
      "displayName": "Lucas",
      "photoUrl": "https://lh3.googleusercontent.com/a-/AOh14GgO-xqdSSwbB8xXos7Shqhpq7QJ06mYVUvdLDRcbQ=s64",
      "userId": "01670254553878112810"
     },
     "user_tz": 180
    },
    "id": "nN-uJIg0m0vV",
    "outputId": "b3a7af34-cd07-4316-cd4d-ab46f2a15785"
   },
   "outputs": [],
   "source": [
    "experiment(home_office_rate=0.1,\n",
    "           contaminated_rate=0.01)"
   ]
  },
  {
   "cell_type": "code",
   "execution_count": null,
   "metadata": {
    "attributes": {
     "classes": [],
     "id": "",
     "n": "9"
    },
    "colab": {
     "base_uri": "https://localhost:8080/",
     "height": 285
    },
    "colab_type": "code",
    "executionInfo": {
     "elapsed": 94371,
     "status": "ok",
     "timestamp": 1586314308443,
     "user": {
      "displayName": "Lucas",
      "photoUrl": "https://lh3.googleusercontent.com/a-/AOh14GgO-xqdSSwbB8xXos7Shqhpq7QJ06mYVUvdLDRcbQ=s64",
      "userId": "01670254553878112810"
     },
     "user_tz": 180
    },
    "id": "j8TyOCzgm0vb",
    "outputId": "42185a67-216f-4fda-f4e4-3a3a983c8b5a"
   },
   "outputs": [],
   "source": [
    "experiment(home_office_rate=0.2,\n",
    "           contaminated_rate=0.01)"
   ]
  },
  {
   "cell_type": "code",
   "execution_count": null,
   "metadata": {
    "colab": {
     "base_uri": "https://localhost:8080/",
     "height": 285
    },
    "colab_type": "code",
    "executionInfo": {
     "elapsed": 96586,
     "status": "ok",
     "timestamp": 1586314310662,
     "user": {
      "displayName": "Lucas",
      "photoUrl": "https://lh3.googleusercontent.com/a-/AOh14GgO-xqdSSwbB8xXos7Shqhpq7QJ06mYVUvdLDRcbQ=s64",
      "userId": "01670254553878112810"
     },
     "user_tz": 180
    },
    "id": "TilslwcdITnx",
    "outputId": "cb701fb4-4a5a-4034-8925-94adb75c5905"
   },
   "outputs": [],
   "source": [
    "experiment(home_office_rate=0.5,\n",
    "           contaminated_rate=0.01)"
   ]
  },
  {
   "cell_type": "code",
   "execution_count": null,
   "metadata": {
    "colab": {
     "base_uri": "https://localhost:8080/",
     "height": 285
    },
    "colab_type": "code",
    "executionInfo": {
     "elapsed": 98051,
     "status": "ok",
     "timestamp": 1586314312132,
     "user": {
      "displayName": "Lucas",
      "photoUrl": "https://lh3.googleusercontent.com/a-/AOh14GgO-xqdSSwbB8xXos7Shqhpq7QJ06mYVUvdLDRcbQ=s64",
      "userId": "01670254553878112810"
     },
     "user_tz": 180
    },
    "id": "n2WQMSvIQSyt",
    "outputId": "9ec0a550-4c32-47bd-f227-62e9b6dfe961"
   },
   "outputs": [],
   "source": [
    "experiment(home_office_rate=0.9,\n",
    "           contaminated_rate=0.01)"
   ]
  },
  {
   "cell_type": "markdown",
   "metadata": {
    "colab_type": "text",
    "id": "yikIHEjDvneN"
   },
   "source": [
    "## Modelo de infecção progressiva\n",
    "\n",
    "Neste modelo, epochs (em dias) são executados e a infeção cobre a população progressivamente, respeitando o grafo de relacionamentos *Facebook Circles* e dois fatores:\n",
    "\n",
    "- $E$: a probabilidade de um indivíduo se encontrar com um de seus vizinhos\n",
    "- $p$: a probabilidade de que um encontro se torne uma infecção\n",
    "\n",
    "O experimento conta também com algumas variáveis de controle. Elas estão listadas abaixo juntamente com seus valores padrões.\n",
    "- `OUT_FOR_GROCERIES_PR`: probabilidade de um indivíduo sair ao supermercado (1/7)\n",
    "- `INFECTIOUS_AFTER_DAYS`: número (em dias após contaminação) em que uma pessoa começa a ser infecciosa (3)\n",
    "- `INFECTIOUS_FOR_DAYS`: número (em dias) em que uma pessoa é infecciosa (14)\n",
    "- `CONTAMINATED_PR`: probabilidade inicial de um indivíduo da população estar contaminado (1%)\n",
    "- `HOME_OFFICING_PR`: probabilidade inicial de um indivíduo estar fazendo *home-officing* (10%)\n",
    "\n",
    "$N_d = E \\cdot p \\cdot N_d$  \n",
    "$N_{d+1} = N_d + E \\cdot p \\cdot N_d \\implies N_{d+1} = (1 + E\\cdot p) N_d$\n",
    "\n",
    "[1] https://www.youtube.com/watch?v=Kas0tIxDvrg"
   ]
  },
  {
   "cell_type": "code",
   "execution_count": null,
   "metadata": {
    "cellView": "both",
    "colab": {},
    "colab_type": "code",
    "id": "n6u0OB6JZioz"
   },
   "outputs": [],
   "source": [
    "def experiment():\n",
    "    contaminated_0 = random_uniform_sample(G, CONTAMINATED_PR)\n",
    "    home_officing_0 = random_uniform_sample(G, HOME_OFFICING_PR)\n",
    "    cs, infs, c = expand_contamination(G, contaminated_0, home_officing_0, days=DAYS)\n",
    "\n",
    "    print('Initial state:')\n",
    "    print(f'  contaminated pr: {CONTAMINATED_PR:.2%}')\n",
    "    print(f'  home-officing pr: {HOME_OFFICING_PR:.2%}')\n",
    "    print(f'contaminated after {DAYS} days: {cs[-1]} ({cs[-1] / len(G):.0%} of {len(G)})')\n",
    "\n",
    "    d = pd.DataFrame({ 'day': np.arange(DAYS), 'contaminated': cs, 'infectous': infs }).melt(id_vars=['day'])\n",
    "\n",
    "    plt.figure(figsize=(16, 6))\n",
    "    plt.subplot(121)\n",
    "    sns.lineplot(data=d, x='day', y='value', hue='variable').set(ylim=(0, len(G)))\n",
    "    \n",
    "    plt.subplot(122)\n",
    "    show_contamination_graph(G, pos, np.asarray(list(G.nodes))[c >= 0], verbose=0);"
   ]
  },
  {
   "cell_type": "code",
   "execution_count": null,
   "metadata": {
    "colab": {},
    "colab_type": "code",
    "id": "VAIckBFPle0i"
   },
   "outputs": [],
   "source": [
    "def expand_contamination(G, c, ho, days=1):\n",
    "    knows = np.asarray(nx.to_numpy_matrix(G)).astype(bool) # know each other\n",
    "    ho = np.isin(G.nodes, ho)              # is home-officing\n",
    "    c = np.isin(G.nodes, c).astype(float)  # contaminated for # days \n",
    "    c[c == 0] = -np.inf\n",
    "\n",
    "    cs = []\n",
    "    infs = []\n",
    "\n",
    "    for day in range(days):\n",
    "        left_home = (~ho | (rand(len(G)) <= OUT_FOR_GROCERIES_PR))\n",
    "        infectious = ((c >= INFECTIOUS_AFTER_DAYS) &\n",
    "                      (c < INFECTIOUS_AFTER_DAYS + INFECTIOUS_FOR_DAYS) &\n",
    "                      left_home)\n",
    "\n",
    "        c_day = ((knows[infectious, :] &\n",
    "                  left_home.reshape(1, -1) &\n",
    "                  (rand(infectious.sum(), len(G)) <= MEETING_PR * INFECTION_PR))\n",
    "                 .any(axis=0)) # any of the acquaintances infected them\n",
    "        \n",
    "        c[c_day] = np.maximum(0, c[c_day]) # it is now infected\n",
    "        c += 1                             # the day is over\n",
    "        \n",
    "        cs.append((c >= 0).sum())\n",
    "        infs.append(infectious.sum())\n",
    "\n",
    "    return cs, infs, c"
   ]
  },
  {
   "cell_type": "code",
   "execution_count": null,
   "metadata": {
    "colab": {
     "base_uri": "https://localhost:8080/",
     "height": 467
    },
    "colab_type": "code",
    "executionInfo": {
     "elapsed": 4173,
     "status": "ok",
     "timestamp": 1586315875896,
     "user": {
      "displayName": "Lucas",
      "photoUrl": "https://lh3.googleusercontent.com/a-/AOh14GgO-xqdSSwbB8xXos7Shqhpq7QJ06mYVUvdLDRcbQ=s64",
      "userId": "01670254553878112810"
     },
     "user_tz": 180
    },
    "id": "IrS9TPO4W4DU",
    "outputId": "383031e6-4f5b-40e5-922a-49b5fd1b9a84"
   },
   "outputs": [],
   "source": [
    "DAYS = 365\n",
    "\n",
    "MEETING_PR = 0.1\n",
    "INFECTION_PR = 0.05\n",
    "OUT_FOR_GROCERIES_PR = 1 / 7\n",
    "# TODO: LEAVES_HOME_IF_INFECTOUS_PROBA = .1\n",
    "\n",
    "INFECTIOUS_AFTER_DAYS = 3\n",
    "INFECTIOUS_FOR_DAYS = 14\n",
    "\n",
    "CONTAMINATED_PR=.01\n",
    "HOME_OFFICING_PR=.1\n",
    "\n",
    "experiment()"
   ]
  },
  {
   "cell_type": "code",
   "execution_count": null,
   "metadata": {
    "colab": {
     "base_uri": "https://localhost:8080/",
     "height": 467
    },
    "colab_type": "code",
    "executionInfo": {
     "elapsed": 3953,
     "status": "ok",
     "timestamp": 1586315885184,
     "user": {
      "displayName": "Lucas",
      "photoUrl": "https://lh3.googleusercontent.com/a-/AOh14GgO-xqdSSwbB8xXos7Shqhpq7QJ06mYVUvdLDRcbQ=s64",
      "userId": "01670254553878112810"
     },
     "user_tz": 180
    },
    "id": "8u-pcY7PCVJa",
    "outputId": "879412ba-cf27-448b-8939-98aad6158a57"
   },
   "outputs": [],
   "source": [
    "HOME_OFFICING_PR=.3\n",
    "\n",
    "experiment()"
   ]
  },
  {
   "cell_type": "code",
   "execution_count": null,
   "metadata": {
    "colab": {
     "base_uri": "https://localhost:8080/",
     "height": 467
    },
    "colab_type": "code",
    "executionInfo": {
     "elapsed": 6301,
     "status": "ok",
     "timestamp": 1586315887539,
     "user": {
      "displayName": "Lucas",
      "photoUrl": "https://lh3.googleusercontent.com/a-/AOh14GgO-xqdSSwbB8xXos7Shqhpq7QJ06mYVUvdLDRcbQ=s64",
      "userId": "01670254553878112810"
     },
     "user_tz": 180
    },
    "id": "oO0u7VJmCZqr",
    "outputId": "0242859e-86c4-45ca-b2a4-3257a63f9c23"
   },
   "outputs": [],
   "source": [
    "HOME_OFFICING_PR=.5\n",
    "\n",
    "experiment()"
   ]
  },
  {
   "cell_type": "markdown",
   "metadata": {
    "colab_type": "text",
    "id": "TrVYdtJVsNHz"
   },
   "source": [
    "Segundo [pesquisa do IBGE e artigo da Folha](https://www1.folha.uol.com.br/cotidiano/2020/04/28-dos-brasileiros-nao-fazem-isolamento-contra-coronavirus-diz-datafolha.shtml),\n",
    "22% dos brasileiros não estão em quarentena."
   ]
  },
  {
   "cell_type": "code",
   "execution_count": null,
   "metadata": {
    "colab": {
     "base_uri": "https://localhost:8080/",
     "height": 467
    },
    "colab_type": "code",
    "executionInfo": {
     "elapsed": 8243,
     "status": "ok",
     "timestamp": 1586315889489,
     "user": {
      "displayName": "Lucas",
      "photoUrl": "https://lh3.googleusercontent.com/a-/AOh14GgO-xqdSSwbB8xXos7Shqhpq7QJ06mYVUvdLDRcbQ=s64",
      "userId": "01670254553878112810"
     },
     "user_tz": 180
    },
    "id": "FGbOOL3-sKIq",
    "outputId": "84fbaf59-d364-45e6-e604-f744a7ae3a1e"
   },
   "outputs": [],
   "source": [
    "HOME_OFFICING_PR=.78\n",
    "\n",
    "experiment()"
   ]
  }
 ],
 "metadata": {
  "jupytext": {
   "main_language": "python"
  },
  "kernelspec": {
   "display_name": "Python 3",
   "name": "python3"
  }
 },
 "nbformat": 4,
 "nbformat_minor": 2
}
