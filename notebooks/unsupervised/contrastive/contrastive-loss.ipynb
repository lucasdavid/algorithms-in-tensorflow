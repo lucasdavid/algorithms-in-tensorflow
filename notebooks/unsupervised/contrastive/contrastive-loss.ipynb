{
 "cells": [
  {
   "cell_type": "code",
   "execution_count": null,
   "metadata": {
    "colab": {
     "base_uri": "https://localhost:8080/",
     "height": 35
    },
    "colab_type": "code",
    "executionInfo": {
     "elapsed": 2513,
     "status": "ok",
     "timestamp": 1561826221451,
     "user": {
      "displayName": "Lucas",
      "photoUrl": "https://lh5.googleusercontent.com/-6-Yl0zbvEww/AAAAAAAAAAI/AAAAAAAAJ0I/Q88BWXAhWns/s64/photo.jpg",
      "userId": "01670254553878112810"
     },
     "user_tz": 180
    },
    "id": "uBKU_GRxtMCn",
    "outputId": "32060c9d-6c48-42ca-e07a-45a4d53d3aab"
   },
   "outputs": [],
   "source": [
    "from __future__ import absolute_import\n",
    "from __future__ import print_function\n",
    "import numpy as np\n",
    "\n",
    "import tensorflow as tf\n",
    "\n",
    "import random\n",
    "\n",
    "from keras import backend as K, callbacks\n",
    "from keras.datasets import mnist\n",
    "from keras.models import Model\n",
    "from keras.layers import Input, Flatten, Dense, Dropout, Lambda\n",
    "\n",
    "from mpl_toolkits.mplot3d import Axes3D\n",
    "import matplotlib.pyplot as plt\n",
    "import seaborn as sns"
   ]
  },
  {
   "cell_type": "code",
   "execution_count": null,
   "metadata": {
    "colab": {},
    "colab_type": "code",
    "id": "gUsu6zrg9XQJ"
   },
   "outputs": [],
   "source": [
    "sns.set()"
   ]
  },
  {
   "cell_type": "code",
   "execution_count": null,
   "metadata": {
    "colab": {},
    "colab_type": "code",
    "id": "j8GyaJXLtcTy"
   },
   "outputs": [],
   "source": [
    "num_classes = 10\n",
    "epochs = 30\n",
    "embedding_samples = 2000\n",
    "\n",
    "\n",
    "def euclidean_distance(vects):\n",
    "    x, y = vects\n",
    "    sum_square = K.sum(K.square(x - y), axis=1, keepdims=True)\n",
    "    return K.sqrt(K.maximum(sum_square, K.epsilon()))\n",
    "\n",
    "\n",
    "def eucl_dist_output_shape(shapes):\n",
    "    shape1, shape2 = shapes\n",
    "    return (shape1[0], 1)\n",
    "\n",
    "\n",
    "def contrastive_loss(y_true, y_pred):\n",
    "    '''Contrastive loss from Hadsell-et-al.'06\n",
    "    http://yann.lecun.com/exdb/publis/pdf/hadsell-chopra-lecun-06.pdf\n",
    "    '''\n",
    "    margin = 1\n",
    "    square_pred = K.square(y_pred)\n",
    "    margin_square = K.square(K.maximum(margin - y_pred, 0))\n",
    "    return K.mean(y_true * square_pred + (1 - y_true) * margin_square)\n",
    "\n",
    "\n",
    "def create_pairs(x, digit_indices):\n",
    "    '''Positive and negative pair creation.\n",
    "    Alternates between positive and negative pairs.\n",
    "    '''\n",
    "    pairs = []\n",
    "    labels = []\n",
    "    n = min([len(digit_indices[d]) for d in range(num_classes)]) - 1\n",
    "    for d in range(num_classes):\n",
    "        for i in range(n):\n",
    "            z1, z2 = digit_indices[d][i], digit_indices[d][i + 1]\n",
    "            pairs += [[x[z1], x[z2]]]\n",
    "            inc = random.randrange(1, num_classes)\n",
    "            dn = (d + inc) % num_classes\n",
    "            z1, z2 = digit_indices[d][i], digit_indices[dn][i]\n",
    "            pairs += [[x[z1], x[z2]]]\n",
    "            labels += [1, 0]\n",
    "    return np.array(pairs), np.array(labels)\n",
    "\n",
    "\n",
    "def create_base_network(input_shape):\n",
    "    '''Base network to be shared (eq. to feature extraction).\n",
    "    '''\n",
    "    input = Input(shape=input_shape)\n",
    "    x = Flatten()(input)\n",
    "    x = Dense(128, activation='relu', name='fc1')(x)\n",
    "    x = Dropout(0.1)(x)\n",
    "    x = Dense(128, activation='relu', name='fc2')(x)\n",
    "    x = Dropout(0.1)(x)\n",
    "    x = Dense(128, activation='relu', name='fc3')(x)\n",
    "    return Model(input, x, name='L')\n",
    "\n",
    "\n",
    "def compute_accuracy(y_true, y_pred):\n",
    "    '''Compute classification accuracy with a fixed threshold on distances.\n",
    "    '''\n",
    "    pred = y_pred.ravel() < 0.5\n",
    "    return np.mean(pred == y_true)\n",
    "\n",
    "\n",
    "def accuracy(y_true, y_pred):\n",
    "    '''Compute classification accuracy with a fixed threshold on distances.\n",
    "    '''\n",
    "    return K.mean(K.equal(y_true, K.cast(y_pred < 0.5, y_true.dtype)))\n",
    "\n",
    "\n",
    "# the data, split between train and test sets\n",
    "(x_train, y_train), (x_test, y_test) = mnist.load_data()\n",
    "x_train = x_train.astype('float32')\n",
    "x_test = x_test.astype('float32')\n",
    "x_train /= 255\n",
    "x_test /= 255\n",
    "input_shape = x_train.shape[1:]\n",
    "\n",
    "# create training+test positive and negative pairs\n",
    "digit_indices = [np.where(y_train == i)[0] for i in range(num_classes)]\n",
    "tr_pairs, tr_y = create_pairs(x_train, digit_indices)\n",
    "\n",
    "digit_indices = [np.where(y_test == i)[0] for i in range(num_classes)]\n",
    "te_pairs, te_y = create_pairs(x_test, digit_indices)\n",
    "\n",
    "\n",
    "s = np.arange(len(te_pairs))\n",
    "np.random.shuffle(s)\n",
    "s = s[:embedding_samples]\n",
    "\n",
    "embedding_data = [te_pairs[s, 0], te_pairs[s, 1]]"
   ]
  },
  {
   "cell_type": "code",
   "execution_count": null,
   "metadata": {
    "colab": {
     "base_uri": "https://localhost:8080/",
     "height": 294
    },
    "colab_type": "code",
    "executionInfo": {
     "elapsed": 870,
     "status": "ok",
     "timestamp": 1561826272258,
     "user": {
      "displayName": "Lucas",
      "photoUrl": "https://lh5.googleusercontent.com/-6-Yl0zbvEww/AAAAAAAAAAI/AAAAAAAAJ0I/Q88BWXAhWns/s64/photo.jpg",
      "userId": "01670254553878112810"
     },
     "user_tz": 180
    },
    "id": "hq_Mrez6eUBa",
    "outputId": "2b4df972-fbdf-4134-cf0d-ac3c187a0f44"
   },
   "outputs": [],
   "source": [
    "L = create_base_network(input_shape)\n",
    "\n",
    "xa = Input(shape=input_shape)\n",
    "xb = Input(shape=input_shape)\n",
    "\n",
    "ya, yb = L(xa), L(xb)\n",
    "\n",
    "y = Lambda(euclidean_distance,\n",
    "           output_shape=eucl_dist_output_shape)([ya, yb])\n",
    "\n",
    "model = Model([xa, xb], y)\n",
    "model.compile(loss=contrastive_loss, optimizer='adam', metrics=[accuracy])"
   ]
  },
  {
   "cell_type": "code",
   "execution_count": null,
   "metadata": {
    "colab": {
     "base_uri": "https://localhost:8080/",
     "height": 329
    },
    "colab_type": "code",
    "executionInfo": {
     "elapsed": 657,
     "status": "ok",
     "timestamp": 1561826275692,
     "user": {
      "displayName": "Lucas",
      "photoUrl": "https://lh5.googleusercontent.com/-6-Yl0zbvEww/AAAAAAAAAAI/AAAAAAAAJ0I/Q88BWXAhWns/s64/photo.jpg",
      "userId": "01670254553878112810"
     },
     "user_tz": 180
    },
    "id": "gKvzHf61hG5N",
    "outputId": "a7400b87-af74-46a2-816a-9e2449c467cd"
   },
   "outputs": [],
   "source": [
    "model.summary()"
   ]
  },
  {
   "cell_type": "code",
   "execution_count": null,
   "metadata": {
    "colab": {
     "base_uri": "https://localhost:8080/",
     "height": 955
    },
    "colab_type": "code",
    "executionInfo": {
     "elapsed": 186066,
     "status": "ok",
     "timestamp": 1561826472151,
     "user": {
      "displayName": "Lucas",
      "photoUrl": "https://lh5.googleusercontent.com/-6-Yl0zbvEww/AAAAAAAAAAI/AAAAAAAAJ0I/Q88BWXAhWns/s64/photo.jpg",
      "userId": "01670254553878112810"
     },
     "user_tz": 180
    },
    "id": "7tkFB-9segv3",
    "outputId": "ad314153-c9d7-4061-822e-ee69168e8d4c"
   },
   "outputs": [],
   "source": [
    "model.fit([tr_pairs[:, 0], tr_pairs[:, 1]], tr_y,\n",
    "          batch_size=128,\n",
    "          epochs=epochs,\n",
    "          validation_data=([te_pairs[:, 0], te_pairs[:, 1]], te_y));"
   ]
  },
  {
   "cell_type": "code",
   "execution_count": null,
   "metadata": {
    "colab": {
     "base_uri": "https://localhost:8080/",
     "height": 54
    },
    "colab_type": "code",
    "executionInfo": {
     "elapsed": 68079,
     "status": "ok",
     "timestamp": 1561826475141,
     "user": {
      "displayName": "Lucas",
      "photoUrl": "https://lh5.googleusercontent.com/-6-Yl0zbvEww/AAAAAAAAAAI/AAAAAAAAJ0I/Q88BWXAhWns/s64/photo.jpg",
      "userId": "01670254553878112810"
     },
     "user_tz": 180
    },
    "id": "JhdfJcnOeqY2",
    "outputId": "b19ccea1-895b-4bed-8e29-3077c064cf45"
   },
   "outputs": [],
   "source": [
    "y_pred = model.predict([tr_pairs[:, 0], tr_pairs[:, 1]])\n",
    "tr_acc = compute_accuracy(tr_y, y_pred)\n",
    "y_pred = model.predict([te_pairs[:, 0], te_pairs[:, 1]])\n",
    "te_acc = compute_accuracy(te_y, y_pred)\n",
    "\n",
    "print('* Accuracy on training set: %0.2f%%' % (100 * tr_acc))\n",
    "print('* Accuracy on test set: %0.2f%%' % (100 * te_acc))"
   ]
  },
  {
   "cell_type": "code",
   "execution_count": null,
   "metadata": {
    "colab": {},
    "colab_type": "code",
    "id": "2cDRx3gf7-R7"
   },
   "outputs": [],
   "source": [
    "inner_model = model.get_layer('L')\n",
    "x_test_e = inner_model.predict(x_test)"
   ]
  },
  {
   "cell_type": "code",
   "execution_count": null,
   "metadata": {
    "colab": {
     "base_uri": "https://localhost:8080/",
     "height": 520
    },
    "colab_type": "code",
    "executionInfo": {
     "elapsed": 1899,
     "status": "ok",
     "timestamp": 1561830263165,
     "user": {
      "displayName": "Lucas",
      "photoUrl": "https://lh5.googleusercontent.com/-6-Yl0zbvEww/AAAAAAAAAAI/AAAAAAAAJ0I/Q88BWXAhWns/s64/photo.jpg",
      "userId": "01670254553878112810"
     },
     "user_tz": 180
    },
    "id": "hbAKGt-BTGCg",
    "outputId": "66442d83-7f39-4384-8ee2-2768cad5db01"
   },
   "outputs": [],
   "source": [
    "from sklearn.decomposition import PCA\n",
    "\n",
    "e = PCA(n_components=2).fit_transform(x_test[:3000].reshape(3000, -1))\n",
    "\n",
    "fig = plt.figure(figsize=(16, 9))\n",
    "ax = fig.add_subplot(111, projection='3d')\n",
    "ax.scatter(*e.T, c=y_test[:3000], cmap='tab10')\n",
    "ax.view_init(45, -15)"
   ]
  },
  {
   "cell_type": "code",
   "execution_count": null,
   "metadata": {
    "colab": {
     "base_uri": "https://localhost:8080/",
     "height": 520
    },
    "colab_type": "code",
    "executionInfo": {
     "elapsed": 1537,
     "status": "ok",
     "timestamp": 1561830282641,
     "user": {
      "displayName": "Lucas",
      "photoUrl": "https://lh5.googleusercontent.com/-6-Yl0zbvEww/AAAAAAAAAAI/AAAAAAAAJ0I/Q88BWXAhWns/s64/photo.jpg",
      "userId": "01670254553878112810"
     },
     "user_tz": 180
    },
    "id": "a4Whp7S3-2x8",
    "outputId": "2eff6d05-9d27-44d4-c836-adeafe0634a2"
   },
   "outputs": [],
   "source": [
    "from sklearn.decomposition import PCA\n",
    "\n",
    "e = PCA(n_components=3).fit_transform(x_test_e[:3000])\n",
    "\n",
    "fig = plt.figure(figsize=(16, 9))\n",
    "ax = fig.add_subplot(111, projection='3d')\n",
    "ax.scatter(*e.T, c=y_test[:3000], cmap='tab10')\n",
    "ax.view_init(45, -15)"
   ]
  },
  {
   "cell_type": "code",
   "execution_count": null,
   "metadata": {
    "colab": {
     "base_uri": "https://localhost:8080/",
     "height": 520
    },
    "colab_type": "code",
    "executionInfo": {
     "elapsed": 90276,
     "status": "ok",
     "timestamp": 1561830381570,
     "user": {
      "displayName": "Lucas",
      "photoUrl": "https://lh5.googleusercontent.com/-6-Yl0zbvEww/AAAAAAAAAAI/AAAAAAAAJ0I/Q88BWXAhWns/s64/photo.jpg",
      "userId": "01670254553878112810"
     },
     "user_tz": 180
    },
    "id": "JURW2c4x80tB",
    "outputId": "0a8323f8-1c82-4a33-d6d7-ed51ecd32b86"
   },
   "outputs": [],
   "source": [
    "from sklearn.manifold import TSNE\n",
    "\n",
    "e = TSNE(n_components=3).fit_transform(x_test_e[:3000])\n",
    "\n",
    "fig = plt.figure(figsize=(16, 9))\n",
    "ax = fig.add_subplot(111, projection='3d')\n",
    "ax.scatter(*e.T, c=y_test[:3000], cmap='tab10')\n",
    "ax.view_init(45, -15)"
   ]
  }
 ],
 "metadata": {
  "kernelspec": {
   "display_name": "Python 3",
   "language": "python",
   "name": "python3"
  }
 },
 "nbformat": 4,
 "nbformat_minor": 2
}
