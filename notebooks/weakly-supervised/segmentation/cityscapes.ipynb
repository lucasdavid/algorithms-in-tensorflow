{
 "cells": [
  {
   "cell_type": "markdown",
   "metadata": {},
   "source": [
    "# Cityscapes"
   ]
  },
  {
   "cell_type": "code",
   "execution_count": 2,
   "metadata": {},
   "outputs": [],
   "source": [
    "import tensorflow as tf\n",
    "\n",
    "class Config:\n",
    "    class data:\n",
    "        shape = (600, 600)\n",
    "        shuffle = False\n",
    "    \n",
    "    class model:\n",
    "        input_shape = (600, 600)"
   ]
  },
  {
   "cell_type": "markdown",
   "metadata": {},
   "source": [
    "## Setup"
   ]
  },
  {
   "cell_type": "code",
   "execution_count": 3,
   "metadata": {},
   "outputs": [],
   "source": [
    "from math import ceil\n",
    "\n",
    "import numpy as np\n",
    "import matplotlib.pyplot as plt\n",
    "import seaborn as sns"
   ]
  },
  {
   "cell_type": "code",
   "execution_count": 4,
   "metadata": {},
   "outputs": [],
   "source": [
    "def clean_display():\n",
    "    from matplotlib import rc\n",
    "    rc('axes.spines',top=False,bottom=False,left=False,right=False);\n",
    "    rc('axes',facecolor=(1,1,1,0),edgecolor=(1,1,1,0));\n",
    "    rc(('xtick','ytick'),color=(1,1,1,0));\n",
    "\n",
    "clean_display()"
   ]
  },
  {
   "cell_type": "code",
   "execution_count": 14,
   "metadata": {},
   "outputs": [],
   "source": [
    "def display_segment_example(i, s, rows=1, cols=2, ix=1, alpha=.5):\n",
    "    plt.subplot(rows, cols, ix)\n",
    "    plt.imshow(i)\n",
    "    plt.imshow(s, interpolation='none', alpha=alpha)\n",
    "\n",
    "def display_segment_many(samples, rows=None, cols=4, full=True, figsize=None):\n",
    "    if not rows: rows = ceil(len(samples) / cols)\n",
    "    if not figsize: figsize = (16, int(2 * rows / (0.25*cols)))\n",
    "    if full: plt.figure(figsize=figsize)\n",
    "\n",
    "    for ix, (i, s) in enumerate(samples):\n",
    "        display_segment_example(i, s, rows=rows, cols=cols, ix=ix + 1)\n",
    "\n",
    "    if full: plt.tight_layout()"
   ]
  },
  {
   "cell_type": "markdown",
   "metadata": {},
   "source": [
    "## Load Cityscapes Dataset"
   ]
  },
  {
   "cell_type": "code",
   "execution_count": 6,
   "metadata": {},
   "outputs": [],
   "source": [
    "import tensorflow_datasets as tfds\n",
    "\n",
    "ds, info = tfds.load('cityscapes/semantic_segmentation',\n",
    "                     split='train',\n",
    "                     shuffle_files=Config.data.shuffle,\n",
    "                     with_info=True)"
   ]
  },
  {
   "cell_type": "code",
   "execution_count": 21,
   "metadata": {},
   "outputs": [],
   "source": [
    "@tf.function\n",
    "def load_fn(d):\n",
    "    \n",
    "    x, y = tf.numpy_function(augment_fn,\n",
    "                             inp=[d['image_left'], d['segmentation_label']],\n",
    "                             Tout=[tf.uint8, tf.uint8])\n",
    "    \n",
    "    x = tf.ensure_shape(x, (*Config.data.shape, 3))\n",
    "    y = tf.ensure_shape(y, (*Config.data.shape, 1))\n",
    "    return x, y\n",
    "\n",
    "def augment(image, mask):\n",
    "    image = tf.image.random_\n",
    "    return image, mask"
   ]
  },
  {
   "cell_type": "code",
   "execution_count": 22,
   "metadata": {},
   "outputs": [],
   "source": [
    "ds_augmented = ds.map(load_and_process_samples_fn\n",
    "                      # , num_parallel_calls=tf.data.AUTOTUNE\n",
    "                     )"
   ]
  },
  {
   "cell_type": "code",
   "execution_count": null,
   "metadata": {},
   "outputs": [],
   "source": [
    "items = list(ds_augmented.take(4))"
   ]
  },
  {
   "cell_type": "code",
   "execution_count": null,
   "metadata": {},
   "outputs": [],
   "source": [
    "display_segment_many(items, rows=2, cols=2)"
   ]
  },
  {
   "cell_type": "markdown",
   "metadata": {},
   "source": [
    "## Network"
   ]
  },
  {
   "cell_type": "code",
   "execution_count": null,
   "metadata": {},
   "outputs": [],
   "source": [
    "ef = tf.keras.applications.EfficientNetB7(weights='imagenet')"
   ]
  },
  {
   "cell_type": "code",
   "execution_count": null,
   "metadata": {},
   "outputs": [],
   "source": [
    "ef.output.shape"
   ]
  }
 ],
 "metadata": {
  "kernelspec": {
   "display_name": "Python 3",
   "language": "python",
   "name": "python3"
  },
  "language_info": {
   "codemirror_mode": {
    "name": "ipython",
    "version": 3
   },
   "file_extension": ".py",
   "mimetype": "text/x-python",
   "name": "python",
   "nbconvert_exporter": "python",
   "pygments_lexer": "ipython3",
   "version": "3.6.9"
  }
 },
 "nbformat": 4,
 "nbformat_minor": 2
}
